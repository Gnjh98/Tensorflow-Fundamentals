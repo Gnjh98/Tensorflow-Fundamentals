{
  "nbformat": 4,
  "nbformat_minor": 0,
  "metadata": {
    "colab": {
      "provenance": []
    },
    "kernelspec": {
      "name": "python3",
      "display_name": "Python 3"
    },
    "language_info": {
      "name": "python"
    },
    "accelerator": "GPU",
    "gpuClass": "standard"
  },
  "cells": [
    {
      "cell_type": "code",
      "execution_count": 1,
      "metadata": {
        "colab": {
          "base_uri": "https://localhost:8080/"
        },
        "id": "yFIZRRl9O8x-",
        "outputId": "f513e08e-a0a2-4f3e-909b-e991dca42d9e"
      },
      "outputs": [
        {
          "output_type": "stream",
          "name": "stdout",
          "text": [
            "2.9.2\n"
          ]
        }
      ],
      "source": [
        "import tensorflow as tf\n",
        "print(tf.__version__) # check the version (should be 2.x+)"
      ]
    },
    {
      "cell_type": "markdown",
      "source": [
        "### Creating data to view and fit"
      ],
      "metadata": {
        "id": "oZgHoi8JPPkX"
      }
    },
    {
      "cell_type": "code",
      "source": [
        "import numpy as np\n",
        "import matplotlib.pyplot as plt\n",
        "\n",
        "# Create features\n",
        "X = np.array([-7.0, -4.0, -1.0, 2.0, 5.0, 8.0, 11.0, 14.0])\n",
        "\n",
        "# Create labels\n",
        "y = np.array([3.0, 6.0, 9.0, 12.0, 15.0, 18.0, 21.0, 24.0])\n",
        "\n",
        "# Visualize it\n",
        "plt.scatter(X, y);"
      ],
      "metadata": {
        "colab": {
          "base_uri": "https://localhost:8080/",
          "height": 269
        },
        "id": "DmSDZdhHPN_8",
        "outputId": "623399b9-6b4e-49c3-c8fb-bc103f6827f5"
      },
      "execution_count": 2,
      "outputs": [
        {
          "output_type": "display_data",
          "data": {
            "text/plain": [
              "<Figure size 432x288 with 1 Axes>"
            ],
            "image/png": "[encoded data removed]"
          },
          "metadata": {
            "needs_background": "light"
          }
        }
      ]
    },
    {
      "cell_type": "markdown",
      "source": [
        "### Regression input shapes and output shapes\n",
        "\n",
        "One of the most important concepts when working with neural networks are the input and output shapes.\n",
        "\n",
        "The input shape is the shape of your data that goes into the model.\n",
        "\n",
        "The output shape is the shape of your data you want to come out of your model.\n",
        "\n",
        "These will differ depending on the problem you're working on.\n",
        "\n",
        "Neural networks accept numbers and output numbers. These numbers are typically represented as tensors (or arrays).\n",
        "\n",
        "Before, we created data using NumPy arrays, but we could do the same with tensors."
      ],
      "metadata": {
        "id": "BOIPuWl5PVbl"
      }
    },
    {
      "cell_type": "code",
      "source": [
        "# Example input and output shapes of a regresson model\n",
        "house_info = tf.constant([\"bedroom\", \"bathroom\", \"garage\"])\n",
        "house_price = tf.constant([939700])\n",
        "house_info, house_price"
      ],
      "metadata": {
        "colab": {
          "base_uri": "https://localhost:8080/"
        },
        "id": "NWwS5g9RPeiR",
        "outputId": "c1b96ced-8524-44da-a584-6bd2d765b87a"
      },
      "execution_count": 3,
      "outputs": [
        {
          "output_type": "execute_result",
          "data": {
            "text/plain": [
              "(<tf.Tensor: shape=(3,), dtype=string, numpy=array([b'bedroom', b'bathroom', b'garage'], dtype=object)>,\n",
              " <tf.Tensor: shape=(1,), dtype=int32, numpy=array([939700], dtype=int32)>)"
            ]
          },
          "metadata": {},
          "execution_count": 3
        }
      ]
    },
    {
      "cell_type": "code",
      "source": [
        "house_info.shape"
      ],
      "metadata": {
        "colab": {
          "base_uri": "https://localhost:8080/"
        },
        "id": "MH_ucsITPf59",
        "outputId": "420d7fc7-9dc3-4bee-b4ec-f0b0bb33ddef"
      },
      "execution_count": 4,
      "outputs": [
        {
          "output_type": "execute_result",
          "data": {
            "text/plain": [
              "TensorShape([3])"
            ]
          },
          "metadata": {},
          "execution_count": 4
        }
      ]
    },
    {
      "cell_type": "code",
      "source": [
        "import numpy as np\n",
        "import matplotlib.pyplot as plt\n",
        "\n",
        "# Create features (using tensors)\n",
        "X = tf.constant([-7.0, -4.0, -1.0, 2.0, 5.0, 8.0, 11.0, 14.0])\n",
        "\n",
        "# Create labels (using tensors)\n",
        "y = tf.constant([3.0, 6.0, 9.0, 12.0, 15.0, 18.0, 21.0, 24.0])\n",
        "\n",
        "# Visualize it\n",
        "plt.scatter(X, y);"
      ],
      "metadata": {
        "colab": {
          "base_uri": "https://localhost:8080/",
          "height": 269
        },
        "id": "ZYAiYWh8PhX-",
        "outputId": "6a39c034-cadd-4ac7-d34e-aa55f9bc2c62"
      },
      "execution_count": 5,
      "outputs": [
        {
          "output_type": "display_data",
          "data": {
            "text/plain": [
              "<Figure size 432x288 with 1 Axes>"
            ],
            "image/png": "[encoded data removed]"
          },
          "metadata": {
            "needs_background": "light"
          }
        }
      ]
    },
    {
      "cell_type": "code",
      "source": [
        "# Take a single example of X\n",
        "input_shape = X[0].shape \n",
        "\n",
        "# Take a single example of y\n",
        "output_shape = y[0].shape\n",
        "\n",
        "input_shape, output_shape # these are both scalars (no shape)"
      ],
      "metadata": {
        "colab": {
          "base_uri": "https://localhost:8080/"
        },
        "id": "XTuKdloZPjCD",
        "outputId": "d11b8eda-999b-4f44-fae6-6324572183db"
      },
      "execution_count": 6,
      "outputs": [
        {
          "output_type": "execute_result",
          "data": {
            "text/plain": [
              "(TensorShape([]), TensorShape([]))"
            ]
          },
          "metadata": {},
          "execution_count": 6
        }
      ]
    },
    {
      "cell_type": "code",
      "source": [
        "# Let's take a look at the single examples invidually\n",
        "X[0], y[0]"
      ],
      "metadata": {
        "colab": {
          "base_uri": "https://localhost:8080/"
        },
        "id": "RzzSkhFNPrNv",
        "outputId": "114edce7-5189-4aaf-f3da-d00214d7731a"
      },
      "execution_count": 7,
      "outputs": [
        {
          "output_type": "execute_result",
          "data": {
            "text/plain": [
              "(<tf.Tensor: shape=(), dtype=float32, numpy=-7.0>,\n",
              " <tf.Tensor: shape=(), dtype=float32, numpy=3.0>)"
            ]
          },
          "metadata": {},
          "execution_count": 7
        }
      ]
    },
    {
      "cell_type": "markdown",
      "source": [
        "### Steps in modelling with TensorFlow\n",
        "\n",
        "In TensorFlow, there are typically 3 fundamental steps to creating and training a model.\n",
        "\n",
        "Creating a model - piece together the layers of a neural network yourself (using the Functional or Sequential API) or import a previously built model (known as transfer learning).\n",
        "\n",
        "Compiling a model - defining how a models performance should be measured (loss/metrics) as well as defining how it should improve (optimizer).\n",
        "\n",
        "Fitting a model - letting the model try to find patterns in the data (how does X get to y)."
      ],
      "metadata": {
        "id": "y2hQxDglPxkC"
      }
    },
    {
      "cell_type": "code",
      "source": [
        "# Set random seed\n",
        "tf.random.set_seed(42)\n",
        "\n",
        "# Create a model using the Sequential API\n",
        "model = tf.keras.Sequential([\n",
        "  tf.keras.layers.Dense(1)\n",
        "])\n",
        "\n",
        "# Compile the model\n",
        "model.compile(loss=tf.keras.losses.mae, # mae is short for mean absolute error\n",
        "              optimizer=tf.keras.optimizers.SGD(), # SGD is short for stochastic gradient descent\n",
        "              metrics=[\"mae\"])\n",
        "\n",
        "# Fit the model\n",
        "# model.fit(X, y, epochs=5) # this will break with TensorFlow 2.7.0+\n",
        "model.fit(tf.expand_dims(X, axis=-1), y, epochs=5)"
      ],
      "metadata": {
        "colab": {
          "base_uri": "https://localhost:8080/"
        },
        "id": "zOhkz2SMPykh",
        "outputId": "3f59a4b2-4c08-44fa-f385-1d14fd348bb1"
      },
      "execution_count": 8,
      "outputs": [
        {
          "output_type": "stream",
          "name": "stdout",
          "text": [
            "Epoch 1/5\n",
            "1/1 [==============================] - 2s 2s/step - loss: 11.5048 - mae: 11.5048\n",
            "Epoch 2/5\n",
            "1/1 [==============================] - 0s 9ms/step - loss: 11.3723 - mae: 11.3723\n",
            "Epoch 3/5\n",
            "1/1 [==============================] - 0s 9ms/step - loss: 11.2398 - mae: 11.2398\n",
            "Epoch 4/5\n",
            "1/1 [==============================] - 0s 9ms/step - loss: 11.1073 - mae: 11.1073\n",
            "Epoch 5/5\n",
            "1/1 [==============================] - 0s 10ms/step - loss: 10.9748 - mae: 10.9748\n"
          ]
        },
        {
          "output_type": "execute_result",
          "data": {
            "text/plain": [
              "<keras.callbacks.History at 0x7f683014e910>"
            ]
          },
          "metadata": {},
          "execution_count": 8
        }
      ]
    },
    {
      "cell_type": "code",
      "source": [
        "# Check out X and y\n",
        "X, y"
      ],
      "metadata": {
        "colab": {
          "base_uri": "https://localhost:8080/"
        },
        "id": "MkzwHaysP_ah",
        "outputId": "e3483ede-43ae-4f9d-cd63-0666770ada1d"
      },
      "execution_count": 9,
      "outputs": [
        {
          "output_type": "execute_result",
          "data": {
            "text/plain": [
              "(<tf.Tensor: shape=(8,), dtype=float32, numpy=array([-7., -4., -1.,  2.,  5.,  8., 11., 14.], dtype=float32)>,\n",
              " <tf.Tensor: shape=(8,), dtype=float32, numpy=array([ 3.,  6.,  9., 12., 15., 18., 21., 24.], dtype=float32)>)"
            ]
          },
          "metadata": {},
          "execution_count": 9
        }
      ]
    },
    {
      "cell_type": "code",
      "source": [
        "# Make a prediction with the model\n",
        "model.predict([17.0])"
      ],
      "metadata": {
        "colab": {
          "base_uri": "https://localhost:8080/"
        },
        "id": "Gi-Edr7sQCBm",
        "outputId": "43296e4d-bd58-4013-f5ec-b5e70167f5c0"
      },
      "execution_count": 10,
      "outputs": [
        {
          "output_type": "stream",
          "name": "stdout",
          "text": [
            "1/1 [==============================] - 0s 61ms/step\n"
          ]
        },
        {
          "output_type": "execute_result",
          "data": {
            "text/plain": [
              "array([[12.716021]], dtype=float32)"
            ]
          },
          "metadata": {},
          "execution_count": 10
        }
      ]
    },
    {
      "cell_type": "markdown",
      "source": [
        "### Improving a model\n",
        "\n",
        "To improve our model, we alter almost every part of the 3 steps we went through before.\n",
        "\n",
        "Creating a model - here you might want to add more layers, increase the number of hidden units (also called neurons) within each layer, change the activation functions of each layer.\n",
        "\n",
        "Compiling a model - you might want to choose optimization function or perhaps change the learning rate of the optimization function.\n",
        "\n",
        "Fitting a model - perhaps you could fit a model for more epochs (leave it training for longer) or on more data (give the model more examples to learn from)."
      ],
      "metadata": {
        "id": "w9B8TgqJQJic"
      }
    },
    {
      "cell_type": "markdown",
      "source": [
        "![image.png](data:image/png;base64,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)"
      ],
      "metadata": {
        "id": "EVjhe_yUQTd7"
      }
    },
    {
      "cell_type": "code",
      "source": [
        "# Set random seed\n",
        "tf.random.set_seed(42)\n",
        "\n",
        "# Create a model (same as above)\n",
        "model = tf.keras.Sequential([\n",
        "  tf.keras.layers.Dense(1)\n",
        "])\n",
        "\n",
        "# Compile model (same as above)\n",
        "model.compile(loss=tf.keras.losses.mae,\n",
        "              optimizer=tf.keras.optimizers.SGD(),\n",
        "              metrics=[\"mae\"])\n",
        "\n",
        "# Fit model (this time we'll train for longer)\n",
        "model.fit(tf.expand_dims(X, axis=-1), y, epochs=100) # train for 100 epochs not 10"
      ],
      "metadata": {
        "colab": {
          "base_uri": "https://localhost:8080/"
        },
        "id": "d-EQE5ZzQUDw",
        "outputId": "161eb794-9909-4e41-9a3d-7e0643ad343c"
      },
      "execution_count": 11,
      "outputs": [
        {
          "output_type": "stream",
          "name": "stdout",
          "text": [
            "Epoch 1/100\n",
            "1/1 [==============================] - 0s 230ms/step - loss: 11.5048 - mae: 11.5048\n",
            "Epoch 2/100\n",
            "1/1 [==============================] - 0s 8ms/step - loss: 11.3723 - mae: 11.3723\n",
            "Epoch 3/100\n",
            "1/1 [==============================] - 0s 9ms/step - loss: 11.2398 - mae: 11.2398\n",
            "Epoch 4/100\n",
            "1/1 [==============================] - 0s 9ms/step - loss: 11.1073 - mae: 11.1073\n",
            "Epoch 5/100\n",
            "1/1 [==============================] - 0s 8ms/step - loss: 10.9748 - mae: 10.9748\n",
            "Epoch 6/100\n",
            "1/1 [==============================] - 0s 7ms/step - loss: 10.8423 - mae: 10.8423\n",
            "Epoch 7/100\n",
            "1/1 [==============================] - 0s 9ms/step - loss: 10.7098 - mae: 10.7098\n",
            "Epoch 8/100\n",
            "1/1 [==============================] - 0s 7ms/step - loss: 10.5773 - mae: 10.5773\n",
            "Epoch 9/100\n",
            "1/1 [==============================] - 0s 10ms/step - loss: 10.4448 - mae: 10.4448\n",
            "Epoch 10/100\n",
            "1/1 [==============================] - 0s 9ms/step - loss: 10.3123 - mae: 10.3123\n",
            "Epoch 11/100\n",
            "1/1 [==============================] - 0s 8ms/step - loss: 10.1798 - mae: 10.1798\n",
            "Epoch 12/100\n",
            "1/1 [==============================] - 0s 8ms/step - loss: 10.0473 - mae: 10.0473\n",
            "Epoch 13/100\n",
            "1/1 [==============================] - 0s 7ms/step - loss: 9.9148 - mae: 9.9148\n",
            "Epoch 14/100\n",
            "1/1 [==============================] - 0s 8ms/step - loss: 9.7823 - mae: 9.7823\n",
            "Epoch 15/100\n",
            "1/1 [==============================] - 0s 8ms/step - loss: 9.6498 - mae: 9.6498\n",
            "Epoch 16/100\n",
            "1/1 [==============================] - 0s 9ms/step - loss: 9.5173 - mae: 9.5173\n",
            "Epoch 17/100\n",
            "1/1 [==============================] - 0s 8ms/step - loss: 9.3848 - mae: 9.3848\n",
            "Epoch 18/100\n",
            "1/1 [==============================] - 0s 8ms/step - loss: 9.2523 - mae: 9.2523\n",
            "Epoch 19/100\n",
            "1/1 [==============================] - 0s 8ms/step - loss: 9.1198 - mae: 9.1198\n",
            "Epoch 20/100\n",
            "1/1 [==============================] - 0s 7ms/step - loss: 8.9873 - mae: 8.9873\n",
            "Epoch 21/100\n",
            "1/1 [==============================] - 0s 6ms/step - loss: 8.8548 - mae: 8.8548\n",
            "Epoch 22/100\n",
            "1/1 [==============================] - 0s 7ms/step - loss: 8.7223 - mae: 8.7223\n",
            "Epoch 23/100\n",
            "1/1 [==============================] - 0s 7ms/step - loss: 8.5898 - mae: 8.5898\n",
            "Epoch 24/100\n",
            "1/1 [==============================] - 0s 7ms/step - loss: 8.4573 - mae: 8.4573\n",
            "Epoch 25/100\n",
            "1/1 [==============================] - 0s 9ms/step - loss: 8.3248 - mae: 8.3248\n",
            "Epoch 26/100\n",
            "1/1 [==============================] - 0s 8ms/step - loss: 8.1923 - mae: 8.1923\n",
            "Epoch 27/100\n",
            "1/1 [==============================] - 0s 7ms/step - loss: 8.0598 - mae: 8.0598\n",
            "Epoch 28/100\n",
            "1/1 [==============================] - 0s 5ms/step - loss: 7.9273 - mae: 7.9273\n",
            "Epoch 29/100\n",
            "1/1 [==============================] - 0s 6ms/step - loss: 7.7948 - mae: 7.7948\n",
            "Epoch 30/100\n",
            "1/1 [==============================] - 0s 7ms/step - loss: 7.6623 - mae: 7.6623\n",
            "Epoch 31/100\n",
            "1/1 [==============================] - 0s 7ms/step - loss: 7.5298 - mae: 7.5298\n",
            "Epoch 32/100\n",
            "1/1 [==============================] - 0s 7ms/step - loss: 7.3973 - mae: 7.3973\n",
            "Epoch 33/100\n",
            "1/1 [==============================] - 0s 6ms/step - loss: 7.2648 - mae: 7.2648\n",
            "Epoch 34/100\n",
            "1/1 [==============================] - 0s 6ms/step - loss: 7.2525 - mae: 7.2525\n",
            "Epoch 35/100\n",
            "1/1 [==============================] - 0s 8ms/step - loss: 7.2469 - mae: 7.2469\n",
            "Epoch 36/100\n",
            "1/1 [==============================] - 0s 7ms/step - loss: 7.2413 - mae: 7.2413\n",
            "Epoch 37/100\n",
            "1/1 [==============================] - 0s 7ms/step - loss: 7.2356 - mae: 7.2356\n",
            "Epoch 38/100\n",
            "1/1 [==============================] - 0s 7ms/step - loss: 7.2300 - mae: 7.2300\n",
            "Epoch 39/100\n",
            "1/1 [==============================] - 0s 7ms/step - loss: 7.2244 - mae: 7.2244\n",
            "Epoch 40/100\n",
            "1/1 [==============================] - 0s 14ms/step - loss: 7.2188 - mae: 7.2188\n",
            "Epoch 41/100\n",
            "1/1 [==============================] - 0s 8ms/step - loss: 7.2131 - mae: 7.2131\n",
            "Epoch 42/100\n",
            "1/1 [==============================] - 0s 8ms/step - loss: 7.2075 - mae: 7.2075\n",
            "Epoch 43/100\n",
            "1/1 [==============================] - 0s 8ms/step - loss: 7.2019 - mae: 7.2019\n",
            "Epoch 44/100\n",
            "1/1 [==============================] - 0s 7ms/step - loss: 7.1962 - mae: 7.1962\n",
            "Epoch 45/100\n",
            "1/1 [==============================] - 0s 11ms/step - loss: 7.1906 - mae: 7.1906\n",
            "Epoch 46/100\n",
            "1/1 [==============================] - 0s 9ms/step - loss: 7.1850 - mae: 7.1850\n",
            "Epoch 47/100\n",
            "1/1 [==============================] - 0s 18ms/step - loss: 7.1794 - mae: 7.1794\n",
            "Epoch 48/100\n",
            "1/1 [==============================] - 0s 6ms/step - loss: 7.1738 - mae: 7.1738\n",
            "Epoch 49/100\n",
            "1/1 [==============================] - 0s 7ms/step - loss: 7.1681 - mae: 7.1681\n",
            "Epoch 50/100\n",
            "1/1 [==============================] - 0s 7ms/step - loss: 7.1625 - mae: 7.1625\n",
            "Epoch 51/100\n",
            "1/1 [==============================] - 0s 8ms/step - loss: 7.1569 - mae: 7.1569\n",
            "Epoch 52/100\n",
            "1/1 [==============================] - 0s 7ms/step - loss: 7.1512 - mae: 7.1512\n",
            "Epoch 53/100\n",
            "1/1 [==============================] - 0s 8ms/step - loss: 7.1456 - mae: 7.1456\n",
            "Epoch 54/100\n",
            "1/1 [==============================] - 0s 12ms/step - loss: 7.1400 - mae: 7.1400\n",
            "Epoch 55/100\n",
            "1/1 [==============================] - 0s 9ms/step - loss: 7.1344 - mae: 7.1344\n",
            "Epoch 56/100\n",
            "1/1 [==============================] - 0s 6ms/step - loss: 7.1287 - mae: 7.1287\n",
            "Epoch 57/100\n",
            "1/1 [==============================] - 0s 6ms/step - loss: 7.1231 - mae: 7.1231\n",
            "Epoch 58/100\n",
            "1/1 [==============================] - 0s 7ms/step - loss: 7.1175 - mae: 7.1175\n",
            "Epoch 59/100\n",
            "1/1 [==============================] - 0s 13ms/step - loss: 7.1119 - mae: 7.1119\n",
            "Epoch 60/100\n",
            "1/1 [==============================] - 0s 7ms/step - loss: 7.1063 - mae: 7.1063\n",
            "Epoch 61/100\n",
            "1/1 [==============================] - 0s 8ms/step - loss: 7.1006 - mae: 7.1006\n",
            "Epoch 62/100\n",
            "1/1 [==============================] - 0s 8ms/step - loss: 7.0950 - mae: 7.0950\n",
            "Epoch 63/100\n",
            "1/1 [==============================] - 0s 7ms/step - loss: 7.0894 - mae: 7.0894\n",
            "Epoch 64/100\n",
            "1/1 [==============================] - 0s 8ms/step - loss: 7.0838 - mae: 7.0838\n",
            "Epoch 65/100\n",
            "1/1 [==============================] - 0s 7ms/step - loss: 7.0781 - mae: 7.0781\n",
            "Epoch 66/100\n",
            "1/1 [==============================] - 0s 8ms/step - loss: 7.0725 - mae: 7.0725\n",
            "Epoch 67/100\n",
            "1/1 [==============================] - 0s 8ms/step - loss: 7.0669 - mae: 7.0669\n",
            "Epoch 68/100\n",
            "1/1 [==============================] - 0s 8ms/step - loss: 7.0613 - mae: 7.0613\n",
            "Epoch 69/100\n",
            "1/1 [==============================] - 0s 7ms/step - loss: 7.0556 - mae: 7.0556\n",
            "Epoch 70/100\n",
            "1/1 [==============================] - 0s 7ms/step - loss: 7.0500 - mae: 7.0500\n",
            "Epoch 71/100\n",
            "1/1 [==============================] - 0s 10ms/step - loss: 7.0444 - mae: 7.0444\n",
            "Epoch 72/100\n",
            "1/1 [==============================] - 0s 7ms/step - loss: 7.0388 - mae: 7.0388\n",
            "Epoch 73/100\n",
            "1/1 [==============================] - 0s 9ms/step - loss: 7.0331 - mae: 7.0331\n",
            "Epoch 74/100\n",
            "1/1 [==============================] - 0s 8ms/step - loss: 7.0275 - mae: 7.0275\n",
            "Epoch 75/100\n",
            "1/1 [==============================] - 0s 8ms/step - loss: 7.0219 - mae: 7.0219\n",
            "Epoch 76/100\n",
            "1/1 [==============================] - 0s 8ms/step - loss: 7.0163 - mae: 7.0163\n",
            "Epoch 77/100\n",
            "1/1 [==============================] - 0s 9ms/step - loss: 7.0106 - mae: 7.0106\n",
            "Epoch 78/100\n",
            "1/1 [==============================] - 0s 9ms/step - loss: 7.0050 - mae: 7.0050\n",
            "Epoch 79/100\n",
            "1/1 [==============================] - 0s 7ms/step - loss: 6.9994 - mae: 6.9994\n",
            "Epoch 80/100\n",
            "1/1 [==============================] - 0s 9ms/step - loss: 6.9938 - mae: 6.9938\n",
            "Epoch 81/100\n",
            "1/1 [==============================] - 0s 7ms/step - loss: 6.9881 - mae: 6.9881\n",
            "Epoch 82/100\n",
            "1/1 [==============================] - 0s 9ms/step - loss: 6.9825 - mae: 6.9825\n",
            "Epoch 83/100\n",
            "1/1 [==============================] - 0s 9ms/step - loss: 6.9769 - mae: 6.9769\n",
            "Epoch 84/100\n",
            "1/1 [==============================] - 0s 7ms/step - loss: 6.9713 - mae: 6.9713\n",
            "Epoch 85/100\n",
            "1/1 [==============================] - 0s 7ms/step - loss: 6.9656 - mae: 6.9656\n",
            "Epoch 86/100\n",
            "1/1 [==============================] - 0s 13ms/step - loss: 6.9600 - mae: 6.9600\n",
            "Epoch 87/100\n",
            "1/1 [==============================] - 0s 7ms/step - loss: 6.9544 - mae: 6.9544\n",
            "Epoch 88/100\n",
            "1/1 [==============================] - 0s 7ms/step - loss: 6.9488 - mae: 6.9488\n",
            "Epoch 89/100\n",
            "1/1 [==============================] - 0s 5ms/step - loss: 6.9431 - mae: 6.9431\n",
            "Epoch 90/100\n",
            "1/1 [==============================] - 0s 6ms/step - loss: 6.9375 - mae: 6.9375\n",
            "Epoch 91/100\n",
            "1/1 [==============================] - 0s 6ms/step - loss: 6.9319 - mae: 6.9319\n",
            "Epoch 92/100\n",
            "1/1 [==============================] - 0s 6ms/step - loss: 6.9263 - mae: 6.9263\n",
            "Epoch 93/100\n",
            "1/1 [==============================] - 0s 8ms/step - loss: 6.9206 - mae: 6.9206\n",
            "Epoch 94/100\n",
            "1/1 [==============================] - 0s 6ms/step - loss: 6.9150 - mae: 6.9150\n",
            "Epoch 95/100\n",
            "1/1 [==============================] - 0s 6ms/step - loss: 6.9094 - mae: 6.9094\n",
            "Epoch 96/100\n",
            "1/1 [==============================] - 0s 7ms/step - loss: 6.9038 - mae: 6.9038\n",
            "Epoch 97/100\n",
            "1/1 [==============================] - 0s 22ms/step - loss: 6.8981 - mae: 6.8981\n",
            "Epoch 98/100\n",
            "1/1 [==============================] - 0s 9ms/step - loss: 6.8925 - mae: 6.8925\n",
            "Epoch 99/100\n",
            "1/1 [==============================] - 0s 8ms/step - loss: 6.8869 - mae: 6.8869\n",
            "Epoch 100/100\n",
            "1/1 [==============================] - 0s 8ms/step - loss: 6.8813 - mae: 6.8813\n"
          ]
        },
        {
          "output_type": "execute_result",
          "data": {
            "text/plain": [
              "<keras.callbacks.History at 0x7f683f0f29a0>"
            ]
          },
          "metadata": {},
          "execution_count": 11
        }
      ]
    },
    {
      "cell_type": "markdown",
      "source": [
        "You might've noticed the loss value decrease from before (and keep decreasing as the number of epochs gets higher)."
      ],
      "metadata": {
        "id": "ndeTmC0MQdaR"
      }
    },
    {
      "cell_type": "code",
      "source": [
        "# Remind ourselves of what X and y are\n",
        "X, y"
      ],
      "metadata": {
        "colab": {
          "base_uri": "https://localhost:8080/"
        },
        "id": "S-4u3r7kQK0h",
        "outputId": "1e77409e-961e-414b-bec6-9eab11e98086"
      },
      "execution_count": 12,
      "outputs": [
        {
          "output_type": "execute_result",
          "data": {
            "text/plain": [
              "(<tf.Tensor: shape=(8,), dtype=float32, numpy=array([-7., -4., -1.,  2.,  5.,  8., 11., 14.], dtype=float32)>,\n",
              " <tf.Tensor: shape=(8,), dtype=float32, numpy=array([ 3.,  6.,  9., 12., 15., 18., 21., 24.], dtype=float32)>)"
            ]
          },
          "metadata": {},
          "execution_count": 12
        }
      ]
    },
    {
      "cell_type": "code",
      "source": [
        "# Try and predict what y would be if X was 17.0\n",
        "model.predict([17.0]) # the right answer is 27.0 (y = X + 10)"
      ],
      "metadata": {
        "colab": {
          "base_uri": "https://localhost:8080/"
        },
        "id": "K_P-KV5eQfck",
        "outputId": "815c60e8-4212-4dda-f893-4b8ca19b2346"
      },
      "execution_count": 13,
      "outputs": [
        {
          "output_type": "stream",
          "name": "stdout",
          "text": [
            "1/1 [==============================] - 0s 39ms/step\n"
          ]
        },
        {
          "output_type": "execute_result",
          "data": {
            "text/plain": [
              "array([[30.158512]], dtype=float32)"
            ]
          },
          "metadata": {},
          "execution_count": 13
        }
      ]
    },
    {
      "cell_type": "markdown",
      "source": [
        "Much better!\n",
        "\n",
        "We got closer this time. But we could still be better.\n",
        "\n",
        "Now we've trained a model, how could we evaluate it?"
      ],
      "metadata": {
        "id": "EHcvPraiQgrM"
      }
    },
    {
      "cell_type": "markdown",
      "source": [
        "### Evaluating a model\n",
        "\n",
        "Build a model -> evaluate it -> build (tweak) a model -> evaulate it -> build (tweak) a model -> evaluate it..."
      ],
      "metadata": {
        "id": "cVNv64kNQjfV"
      }
    },
    {
      "cell_type": "markdown",
      "source": [
        "#### Visualize, visualize, visualize\n",
        "\n",
        "It's a good idea to visualize:\n",
        "\n",
        "The data - what data are you working with? What does it look like?\n",
        "\n",
        "The model itself - what does the architecture look like? What are the different shapes?\n",
        "\n",
        "The training of a model - how does a model perform while it learns?\n",
        "\n",
        "The predictions of a model - how do the predictions of a model line up against the ground truth (the original labels)?"
      ],
      "metadata": {
        "id": "kKZ5E3tlQp3b"
      }
    },
    {
      "cell_type": "code",
      "source": [
        "# Make a bigger dataset\n",
        "X = np.arange(-100, 100, 4)\n",
        "X"
      ],
      "metadata": {
        "colab": {
          "base_uri": "https://localhost:8080/"
        },
        "id": "IwX9WXpnQwoO",
        "outputId": "ad45c61d-3f59-4cf5-dbe1-486727937521"
      },
      "execution_count": 14,
      "outputs": [
        {
          "output_type": "execute_result",
          "data": {
            "text/plain": [
              "array([-100,  -96,  -92,  -88,  -84,  -80,  -76,  -72,  -68,  -64,  -60,\n",
              "        -56,  -52,  -48,  -44,  -40,  -36,  -32,  -28,  -24,  -20,  -16,\n",
              "        -12,   -8,   -4,    0,    4,    8,   12,   16,   20,   24,   28,\n",
              "         32,   36,   40,   44,   48,   52,   56,   60,   64,   68,   72,\n",
              "         76,   80,   84,   88,   92,   96])"
            ]
          },
          "metadata": {},
          "execution_count": 14
        }
      ]
    },
    {
      "cell_type": "code",
      "source": [
        "# Make labels for the dataset (adhering to the same pattern as before)\n",
        "y = np.arange(-90, 110, 4)\n",
        "y"
      ],
      "metadata": {
        "colab": {
          "base_uri": "https://localhost:8080/"
        },
        "id": "8nu7OasWQxot",
        "outputId": "09dcf9f3-23ac-4e6e-8f2f-fcfb0ced9c76"
      },
      "execution_count": 15,
      "outputs": [
        {
          "output_type": "execute_result",
          "data": {
            "text/plain": [
              "array([-90, -86, -82, -78, -74, -70, -66, -62, -58, -54, -50, -46, -42,\n",
              "       -38, -34, -30, -26, -22, -18, -14, -10,  -6,  -2,   2,   6,  10,\n",
              "        14,  18,  22,  26,  30,  34,  38,  42,  46,  50,  54,  58,  62,\n",
              "        66,  70,  74,  78,  82,  86,  90,  94,  98, 102, 106])"
            ]
          },
          "metadata": {},
          "execution_count": 15
        }
      ]
    },
    {
      "cell_type": "markdown",
      "source": [
        "\n",
        "Since \n",
        "y\n",
        "=\n",
        "X\n",
        "+\n",
        "10\n",
        ", we could make the labels like so:"
      ],
      "metadata": {
        "id": "qCd2JDi0Q30K"
      }
    },
    {
      "cell_type": "code",
      "source": [
        "# Same result as above\n",
        "y = X + 10\n",
        "y"
      ],
      "metadata": {
        "id": "0e95DmTGQ4Lj"
      },
      "execution_count": null,
      "outputs": []
    },
    {
      "cell_type": "markdown",
      "source": [
        "### Split data into training/test set\n",
        "\n",
        "Each set serves a specific purpose:\n",
        "\n",
        "Training set - the model learns from this data, which is typically 70-80% of the total data available (like the course materials you study during the semester).\n",
        "\n",
        "Validation set - the model gets tuned on this data, which is typically 10-15% of the total data available (like the practice exam you take before the final exam).\n",
        "\n",
        "Test set - the model gets evaluated on this data to test what it has learned, it's typically 10-15% of the total data available (like the final exam you take at the end of the semester)."
      ],
      "metadata": {
        "id": "p3uqSu55Q8AG"
      }
    },
    {
      "cell_type": "code",
      "source": [
        "# Check how many samples we have\n",
        "len(X)"
      ],
      "metadata": {
        "colab": {
          "base_uri": "https://localhost:8080/"
        },
        "id": "TOmNhfevQ867",
        "outputId": "2ee99535-b266-4c25-96d8-8fc1fdf4fd46"
      },
      "execution_count": 16,
      "outputs": [
        {
          "output_type": "execute_result",
          "data": {
            "text/plain": [
              "50"
            ]
          },
          "metadata": {},
          "execution_count": 16
        }
      ]
    },
    {
      "cell_type": "code",
      "source": [
        "# Split data into train and test sets\n",
        "X_train = X[:40] # first 40 examples (80% of data)\n",
        "y_train = y[:40]\n",
        "\n",
        "X_test = X[40:] # last 10 examples (20% of data)\n",
        "y_test = y[40:]\n",
        "\n",
        "len(X_train), len(X_test)"
      ],
      "metadata": {
        "colab": {
          "base_uri": "https://localhost:8080/"
        },
        "id": "CFbUZ7a7RGSn",
        "outputId": "ab7b4054-9df4-4687-957c-96120f164814"
      },
      "execution_count": 17,
      "outputs": [
        {
          "output_type": "execute_result",
          "data": {
            "text/plain": [
              "(40, 10)"
            ]
          },
          "metadata": {},
          "execution_count": 17
        }
      ]
    },
    {
      "cell_type": "markdown",
      "source": [
        "### Visualizing the data"
      ],
      "metadata": {
        "id": "u4bZLTy-RIbt"
      }
    },
    {
      "cell_type": "code",
      "source": [
        "plt.figure(figsize=(10, 7))\n",
        "# Plot training data in blue\n",
        "plt.scatter(X_train, y_train, c='b', label='Training data')\n",
        "# Plot test data in green\n",
        "plt.scatter(X_test, y_test, c='g', label='Testing data')\n",
        "# Show the legend\n",
        "plt.legend();"
      ],
      "metadata": {
        "colab": {
          "base_uri": "https://localhost:8080/",
          "height": 428
        },
        "id": "c7HsnGp0RLGr",
        "outputId": "4f750e6b-754e-43b4-a04b-4dd3eb377c5a"
      },
      "execution_count": 18,
      "outputs": [
        {
          "output_type": "display_data",
          "data": {
            "text/plain": [
              "<Figure size 720x504 with 1 Axes>"
            ],
            "image/png": "[encoded data removed]"
          },
          "metadata": {
            "needs_background": "light"
          }
        }
      ]
    },
    {
      "cell_type": "code",
      "source": [
        "# Set random seed\n",
        "tf.random.set_seed(42)\n",
        "\n",
        "# Create a model (same as above)\n",
        "model = tf.keras.Sequential([\n",
        "  tf.keras.layers.Dense(1)\n",
        "])\n",
        "\n",
        "# Compile model (same as above)\n",
        "model.compile(loss=tf.keras.losses.mae,\n",
        "              optimizer=tf.keras.optimizers.SGD(),\n",
        "              metrics=[\"mae\"])\n",
        "\n",
        "# Fit model (same as above)\n",
        "#model.fit(X_train, y_train, epochs=100) # commented out on purpose (not fitting it just yet)"
      ],
      "metadata": {
        "id": "6wduC-qnRNZJ"
      },
      "execution_count": 19,
      "outputs": []
    },
    {
      "cell_type": "markdown",
      "source": [
        "### Visualizing the model"
      ],
      "metadata": {
        "id": "PVwp1nCgRO6P"
      }
    },
    {
      "cell_type": "code",
      "source": [
        "# Doesn't work (model not fit/built)\n",
        "model.summary()"
      ],
      "metadata": {
        "colab": {
          "base_uri": "https://localhost:8080/",
          "height": 304
        },
        "id": "T3lG8W_yRUI-",
        "outputId": "3361aea1-54da-4136-f6fc-714efa88575d"
      },
      "execution_count": 20,
      "outputs": [
        {
          "output_type": "error",
          "ename": "ValueError",
          "evalue": "ignored",
          "traceback": [
            "\u001b[0;31m---------------------------------------------------------------------------\u001b[0m",
            "\u001b[0;31mValueError\u001b[0m                                Traceback (most recent call last)",
            "\u001b[0;32m<ipython-input-20-7d09d31d4e66>\u001b[0m in \u001b[0;36m<module>\u001b[0;34m\u001b[0m\n\u001b[1;32m      1\u001b[0m \u001b[0;31m# Doesn't work (model not fit/built)\u001b[0m\u001b[0;34m\u001b[0m\u001b[0;34m\u001b[0m\u001b[0;34m\u001b[0m\u001b[0m\n\u001b[0;32m----> 2\u001b[0;31m \u001b[0mmodel\u001b[0m\u001b[0;34m.\u001b[0m\u001b[0msummary\u001b[0m\u001b[0;34m(\u001b[0m\u001b[0;34m)\u001b[0m\u001b[0;34m\u001b[0m\u001b[0;34m\u001b[0m\u001b[0m\n\u001b[0m",
            "\u001b[0;32m/usr/local/lib/python3.8/dist-packages/keras/engine/training.py\u001b[0m in \u001b[0;36msummary\u001b[0;34m(self, line_length, positions, print_fn, expand_nested, show_trainable)\u001b[0m\n\u001b[1;32m   2867\u001b[0m     \"\"\"\n\u001b[1;32m   2868\u001b[0m     \u001b[0;32mif\u001b[0m \u001b[0;32mnot\u001b[0m \u001b[0mself\u001b[0m\u001b[0;34m.\u001b[0m\u001b[0mbuilt\u001b[0m\u001b[0;34m:\u001b[0m\u001b[0;34m\u001b[0m\u001b[0;34m\u001b[0m\u001b[0m\n\u001b[0;32m-> 2869\u001b[0;31m       raise ValueError(\n\u001b[0m\u001b[1;32m   2870\u001b[0m           \u001b[0;34m'This model has not yet been built. '\u001b[0m\u001b[0;34m\u001b[0m\u001b[0;34m\u001b[0m\u001b[0m\n\u001b[1;32m   2871\u001b[0m           \u001b[0;34m'Build the model first by calling `build()` or by calling '\u001b[0m\u001b[0;34m\u001b[0m\u001b[0;34m\u001b[0m\u001b[0m\n",
            "\u001b[0;31mValueError\u001b[0m: This model has not yet been built. Build the model first by calling `build()` or by calling the model on a batch of data."
          ]
        }
      ]
    },
    {
      "cell_type": "code",
      "source": [
        "# Set random seed\n",
        "tf.random.set_seed(42)\n",
        "\n",
        "# Create a model (same as above)\n",
        "model = tf.keras.Sequential([\n",
        "  tf.keras.layers.Dense(1, input_shape=[1]) # define the input_shape to our model\n",
        "])\n",
        "\n",
        "# Compile model (same as above)\n",
        "model.compile(loss=tf.keras.losses.mae,\n",
        "              optimizer=tf.keras.optimizers.SGD(),\n",
        "              metrics=[\"mae\"])"
      ],
      "metadata": {
        "id": "h65uFjGIRW-_"
      },
      "execution_count": 21,
      "outputs": []
    },
    {
      "cell_type": "code",
      "source": [
        "# This will work after specifying the input shape\n",
        "model.summary()"
      ],
      "metadata": {
        "colab": {
          "base_uri": "https://localhost:8080/"
        },
        "id": "L1dilKodRYm6",
        "outputId": "81168700-d5c3-40e9-c7db-52ac514438e6"
      },
      "execution_count": 22,
      "outputs": [
        {
          "output_type": "stream",
          "name": "stdout",
          "text": [
            "Model: \"sequential_3\"\n",
            "_________________________________________________________________\n",
            " Layer (type)                Output Shape              Param #   \n",
            "=================================================================\n",
            " dense_3 (Dense)             (None, 1)                 2         \n",
            "                                                                 \n",
            "=================================================================\n",
            "Total params: 2\n",
            "Trainable params: 2\n",
            "Non-trainable params: 0\n",
            "_________________________________________________________________\n"
          ]
        }
      ]
    },
    {
      "cell_type": "markdown",
      "source": [
        "Calling summary() on our model shows us the layers it contains, the output shape and the number of parameters.\n",
        "\n",
        "Total params - total number of parameters in the model.\n",
        "\n",
        "Trainable parameters - these are the parameters (patterns) the model can update as it trains.\n",
        "\n",
        "Non-trainable parameters - these parameters aren't updated during training (this is typical when you bring in the already learned patterns from other models during transfer learning)."
      ],
      "metadata": {
        "id": "iZM3YT1uRbFC"
      }
    },
    {
      "cell_type": "code",
      "source": [
        "# Fit the model to the training data\n",
        "model.fit(X_train, y_train, epochs=100, verbose=0) # verbose controls how much gets output"
      ],
      "metadata": {
        "colab": {
          "base_uri": "https://localhost:8080/"
        },
        "id": "Lde_mjZJRdUm",
        "outputId": "af42bdc4-87e5-40ee-cc33-9f3ea43176c3"
      },
      "execution_count": 23,
      "outputs": [
        {
          "output_type": "execute_result",
          "data": {
            "text/plain": [
              "<keras.callbacks.History at 0x7f67da3a7eb0>"
            ]
          },
          "metadata": {},
          "execution_count": 23
        }
      ]
    },
    {
      "cell_type": "code",
      "source": [
        "# Check the model summary\n",
        "model.summary()"
      ],
      "metadata": {
        "colab": {
          "base_uri": "https://localhost:8080/"
        },
        "id": "5dVl1jcHRexo",
        "outputId": "ebac8a40-2c08-48c4-8c96-3ecf807fbebc"
      },
      "execution_count": 24,
      "outputs": [
        {
          "output_type": "stream",
          "name": "stdout",
          "text": [
            "Model: \"sequential_3\"\n",
            "_________________________________________________________________\n",
            " Layer (type)                Output Shape              Param #   \n",
            "=================================================================\n",
            " dense_3 (Dense)             (None, 1)                 2         \n",
            "                                                                 \n",
            "=================================================================\n",
            "Total params: 2\n",
            "Trainable params: 2\n",
            "Non-trainable params: 0\n",
            "_________________________________________________________________\n"
          ]
        }
      ]
    },
    {
      "cell_type": "code",
      "source": [
        "from tensorflow.keras.utils import plot_model\n",
        "\n",
        "plot_model(model, show_shapes=True)"
      ],
      "metadata": {
        "colab": {
          "base_uri": "https://localhost:8080/",
          "height": 201
        },
        "id": "1Zf0phYWRgUR",
        "outputId": "8af88a98-a914-4888-d4a0-fab08e177e66"
      },
      "execution_count": 25,
      "outputs": [
        {
          "output_type": "execute_result",
          "data": {
            "image/png": "[encoded data removed]",
            "text/plain": [
              "<IPython.core.display.Image object>"
            ]
          },
          "metadata": {},
          "execution_count": 25
        }
      ]
    },
    {
      "cell_type": "markdown",
      "source": [
        "### Visualizing the predictions\n",
        "\n",
        "To visualize predictions, it's always a good idea to plot them against the ground truth labels.\n",
        "\n",
        "Often you'll see this in the form of y_test vs. y_pred (ground truth vs. predictions).\n",
        "\n",
        "First, we'll make some predictions on the test data (X_test), remember the model has never seen the test data."
      ],
      "metadata": {
        "id": "E4oDiWAwRine"
      }
    },
    {
      "cell_type": "code",
      "source": [
        "# Make predictions\n",
        "y_preds = model.predict(X_test)"
      ],
      "metadata": {
        "colab": {
          "base_uri": "https://localhost:8080/"
        },
        "id": "ZQLWY2FiRnnn",
        "outputId": "1be4a70c-b801-4744-839f-1082d39c4973"
      },
      "execution_count": 26,
      "outputs": [
        {
          "output_type": "stream",
          "name": "stdout",
          "text": [
            "1/1 [==============================] - 0s 35ms/step\n"
          ]
        }
      ]
    },
    {
      "cell_type": "code",
      "source": [
        "# View the predictions\n",
        "y_preds"
      ],
      "metadata": {
        "colab": {
          "base_uri": "https://localhost:8080/"
        },
        "id": "EOfd2jk3Rqgz",
        "outputId": "73de9abc-c8bd-404f-9f89-9ee34c15ba85"
      },
      "execution_count": 27,
      "outputs": [
        {
          "output_type": "execute_result",
          "data": {
            "text/plain": [
              "array([[53.57109 ],\n",
              "       [57.05633 ],\n",
              "       [60.541573],\n",
              "       [64.02681 ],\n",
              "       [67.512054],\n",
              "       [70.99729 ],\n",
              "       [74.48254 ],\n",
              "       [77.96777 ],\n",
              "       [81.45301 ],\n",
              "       [84.938255]], dtype=float32)"
            ]
          },
          "metadata": {},
          "execution_count": 27
        }
      ]
    },
    {
      "cell_type": "code",
      "source": [
        "def plot_predictions(train_data=X_train, \n",
        "                     train_labels=y_train, \n",
        "                     test_data=X_test, \n",
        "                     test_labels=y_test, \n",
        "                     predictions=y_preds):\n",
        "  \"\"\"\n",
        "  Plots training data, test data and compares predictions.\n",
        "  \"\"\"\n",
        "  plt.figure(figsize=(10, 7))\n",
        "  # Plot training data in blue\n",
        "  plt.scatter(train_data, train_labels, c=\"b\", label=\"Training data\")\n",
        "  # Plot test data in green\n",
        "  plt.scatter(test_data, test_labels, c=\"g\", label=\"Testing data\")\n",
        "  # Plot the predictions in red (predictions were made on the test data)\n",
        "  plt.scatter(test_data, predictions, c=\"r\", label=\"Predictions\")\n",
        "  # Show the legend\n",
        "  plt.legend();"
      ],
      "metadata": {
        "id": "iNndagJhRsQE"
      },
      "execution_count": 28,
      "outputs": []
    },
    {
      "cell_type": "code",
      "source": [
        "plot_predictions(train_data=X_train,\n",
        "                 train_labels=y_train,\n",
        "                 test_data=X_test,\n",
        "                 test_labels=y_test,\n",
        "                 predictions=y_preds)"
      ],
      "metadata": {
        "colab": {
          "base_uri": "https://localhost:8080/",
          "height": 428
        },
        "id": "q2ZCDmVlRvM3",
        "outputId": "72a4a6d3-6a2d-44af-b92f-823c79c84fc0"
      },
      "execution_count": 29,
      "outputs": [
        {
          "output_type": "display_data",
          "data": {
            "text/plain": [
              "<Figure size 720x504 with 1 Axes>"
            ],
            "image/png": "[encoded data removed]"
          },
          "metadata": {
            "needs_background": "light"
          }
        }
      ]
    },
    {
      "cell_type": "markdown",
      "source": [
        "### Evaluating predictions\n",
        "\n",
        "Two of the main metrics used for regression problems are:\n",
        "\n",
        "Mean absolute error (MAE) - the mean difference between each of the predictions.\n",
        "\n",
        "Mean squared error (MSE) - the squared mean difference between of the predictions (use if larger errors are more detrimental than smaller errors)."
      ],
      "metadata": {
        "id": "yicY3ETVRxVF"
      }
    },
    {
      "cell_type": "code",
      "source": [
        "# Evaluate the model on the test set\n",
        "model.evaluate(X_test, y_test)"
      ],
      "metadata": {
        "colab": {
          "base_uri": "https://localhost:8080/"
        },
        "id": "IOe6VjoOR4tU",
        "outputId": "0d0d330b-7a81-435c-c9ec-47c6e3afdbc1"
      },
      "execution_count": 30,
      "outputs": [
        {
          "output_type": "stream",
          "name": "stdout",
          "text": [
            "1/1 [==============================] - 0s 114ms/step - loss: 18.7453 - mae: 18.7453\n"
          ]
        },
        {
          "output_type": "execute_result",
          "data": {
            "text/plain": [
              "[18.74532699584961, 18.74532699584961]"
            ]
          },
          "metadata": {},
          "execution_count": 30
        }
      ]
    },
    {
      "cell_type": "code",
      "source": [
        "# Calculate the mean absolute error\n",
        "mae = tf.metrics.mean_absolute_error(y_true=y_test, \n",
        "                                     y_pred=y_preds)\n",
        "mae"
      ],
      "metadata": {
        "colab": {
          "base_uri": "https://localhost:8080/"
        },
        "id": "0qzeSs-jSEPi",
        "outputId": "c3f00b66-e69c-44af-ec1a-28c29027e783"
      },
      "execution_count": 31,
      "outputs": [
        {
          "output_type": "execute_result",
          "data": {
            "text/plain": [
              "<tf.Tensor: shape=(10,), dtype=float32, numpy=\n",
              "array([34.42891 , 30.943668, 27.45843 , 23.97319 , 20.487946, 17.202168,\n",
              "       14.510478, 12.419336, 11.018796, 10.212349], dtype=float32)>"
            ]
          },
          "metadata": {},
          "execution_count": 31
        }
      ]
    },
    {
      "cell_type": "markdown",
      "source": [
        "Huh? That's strange, MAE should be a single output.\n",
        "\n",
        "Instead, we get 10 values.\n",
        "\n",
        "This is because our y_test and y_preds tensors are different shapes."
      ],
      "metadata": {
        "id": "Jstljx-fSROL"
      }
    },
    {
      "cell_type": "code",
      "source": [
        "# Check the test label tensor values\n",
        "y_test"
      ],
      "metadata": {
        "colab": {
          "base_uri": "https://localhost:8080/"
        },
        "id": "GhLbW4mPSS6J",
        "outputId": "401a5377-377b-4b22-c06c-3a12f7b6bf69"
      },
      "execution_count": 32,
      "outputs": [
        {
          "output_type": "execute_result",
          "data": {
            "text/plain": [
              "array([ 70,  74,  78,  82,  86,  90,  94,  98, 102, 106])"
            ]
          },
          "metadata": {},
          "execution_count": 32
        }
      ]
    },
    {
      "cell_type": "code",
      "source": [
        "# Check the predictions tensor values (notice the extra square brackets)\n",
        "y_preds"
      ],
      "metadata": {
        "colab": {
          "base_uri": "https://localhost:8080/"
        },
        "id": "sdc8bRXlSU0H",
        "outputId": "cde49c63-042e-46ba-e2c3-0499bb2a8834"
      },
      "execution_count": 33,
      "outputs": [
        {
          "output_type": "execute_result",
          "data": {
            "text/plain": [
              "array([[53.57109 ],\n",
              "       [57.05633 ],\n",
              "       [60.541573],\n",
              "       [64.02681 ],\n",
              "       [67.512054],\n",
              "       [70.99729 ],\n",
              "       [74.48254 ],\n",
              "       [77.96777 ],\n",
              "       [81.45301 ],\n",
              "       [84.938255]], dtype=float32)"
            ]
          },
          "metadata": {},
          "execution_count": 33
        }
      ]
    },
    {
      "cell_type": "code",
      "source": [
        "# Check the tensor shapes\n",
        "y_test.shape, y_preds.shape"
      ],
      "metadata": {
        "colab": {
          "base_uri": "https://localhost:8080/"
        },
        "id": "geQKVwdmSWub",
        "outputId": "5cd0b6f0-5a53-48b0-ee23-02046a679a30"
      },
      "execution_count": 34,
      "outputs": [
        {
          "output_type": "execute_result",
          "data": {
            "text/plain": [
              "((10,), (10, 1))"
            ]
          },
          "metadata": {},
          "execution_count": 34
        }
      ]
    },
    {
      "cell_type": "code",
      "source": [
        "# Shape before squeeze()\n",
        "y_preds.shape"
      ],
      "metadata": {
        "colab": {
          "base_uri": "https://localhost:8080/"
        },
        "id": "Eau-Pof3SZAb",
        "outputId": "3b61f345-1fdf-4789-c5bb-6175314babc8"
      },
      "execution_count": 35,
      "outputs": [
        {
          "output_type": "execute_result",
          "data": {
            "text/plain": [
              "(10, 1)"
            ]
          },
          "metadata": {},
          "execution_count": 35
        }
      ]
    },
    {
      "cell_type": "code",
      "source": [
        "# Shape after squeeze()\n",
        "y_preds.squeeze().shape"
      ],
      "metadata": {
        "colab": {
          "base_uri": "https://localhost:8080/"
        },
        "id": "gI5DVfhVSaPG",
        "outputId": "f93c9d87-d0ab-4e2f-ab13-6b851298fa0b"
      },
      "execution_count": 36,
      "outputs": [
        {
          "output_type": "execute_result",
          "data": {
            "text/plain": [
              "(10,)"
            ]
          },
          "metadata": {},
          "execution_count": 36
        }
      ]
    },
    {
      "cell_type": "code",
      "source": [
        "# What do they look like?\n",
        "y_test, y_preds.squeeze()"
      ],
      "metadata": {
        "colab": {
          "base_uri": "https://localhost:8080/"
        },
        "id": "Pve5eOHTSbvH",
        "outputId": "b7ae3428-bc22-4261-f47f-b7f03c7de9a9"
      },
      "execution_count": 37,
      "outputs": [
        {
          "output_type": "execute_result",
          "data": {
            "text/plain": [
              "(array([ 70,  74,  78,  82,  86,  90,  94,  98, 102, 106]),\n",
              " array([53.57109 , 57.05633 , 60.541573, 64.02681 , 67.512054, 70.99729 ,\n",
              "        74.48254 , 77.96777 , 81.45301 , 84.938255], dtype=float32))"
            ]
          },
          "metadata": {},
          "execution_count": 37
        }
      ]
    },
    {
      "cell_type": "code",
      "source": [
        "# Calcuate the MAE\n",
        "mae = tf.metrics.mean_absolute_error(y_true=y_test, \n",
        "                                     y_pred=y_preds.squeeze()) # use squeeze() to make same shape\n",
        "mae"
      ],
      "metadata": {
        "colab": {
          "base_uri": "https://localhost:8080/"
        },
        "id": "gEHqQ9Z1SdNU",
        "outputId": "1bf687c4-d444-4511-ef5e-8ad6900a13c3"
      },
      "execution_count": 38,
      "outputs": [
        {
          "output_type": "execute_result",
          "data": {
            "text/plain": [
              "<tf.Tensor: shape=(), dtype=float32, numpy=18.745327>"
            ]
          },
          "metadata": {},
          "execution_count": 38
        }
      ]
    },
    {
      "cell_type": "code",
      "source": [
        "# Calculate the MSE\n",
        "mse = tf.metrics.mean_squared_error(y_true=y_test,\n",
        "                                    y_pred=y_preds.squeeze())\n",
        "mse"
      ],
      "metadata": {
        "colab": {
          "base_uri": "https://localhost:8080/"
        },
        "id": "uftFhqUiSe-0",
        "outputId": "ba0caeff-bf46-45da-f96b-5f86112ed2c5"
      },
      "execution_count": 39,
      "outputs": [
        {
          "output_type": "execute_result",
          "data": {
            "text/plain": [
              "<tf.Tensor: shape=(), dtype=float32, numpy=353.5734>"
            ]
          },
          "metadata": {},
          "execution_count": 39
        }
      ]
    },
    {
      "cell_type": "code",
      "source": [
        "# Returns the same as tf.metrics.mean_absolute_error()\n",
        "tf.reduce_mean(tf.abs(y_test-y_preds.squeeze()))"
      ],
      "metadata": {
        "colab": {
          "base_uri": "https://localhost:8080/"
        },
        "id": "7DE-PS6qSgji",
        "outputId": "63d0ae4c-2af4-4c29-996a-0ee28725ee34"
      },
      "execution_count": 40,
      "outputs": [
        {
          "output_type": "execute_result",
          "data": {
            "text/plain": [
              "<tf.Tensor: shape=(), dtype=float64, numpy=18.745327377319335>"
            ]
          },
          "metadata": {},
          "execution_count": 40
        }
      ]
    },
    {
      "cell_type": "code",
      "source": [
        "def mae(y_test, y_pred):\n",
        "  \"\"\"\n",
        "  Calculuates mean absolute error between y_test and y_preds.\n",
        "  \"\"\"\n",
        "  return tf.metrics.mean_absolute_error(y_test,\n",
        "                                        y_pred)\n",
        "  \n",
        "def mse(y_test, y_pred):\n",
        "  \"\"\"\n",
        "  Calculates mean squared error between y_test and y_preds.\n",
        "  \"\"\"\n",
        "  return tf.metrics.mean_squared_error(y_test,\n",
        "                                       y_pred)"
      ],
      "metadata": {
        "id": "c8o4z27KSjJQ"
      },
      "execution_count": 41,
      "outputs": []
    },
    {
      "cell_type": "markdown",
      "source": [
        "### Running experiments to improve a model\n",
        "\n",
        "After seeing the evaluation metrics and the predictions your model makes, it's likely you'll want to improve it.\n",
        "\n",
        "Again, there are many different ways you can do this, but 3 of the main ones are:\n",
        "\n",
        "Get more data - get more examples for your model to train on (more opportunities to learn patterns).\n",
        "\n",
        "Make your model larger (use a more complex model) - this might come in the form of more layers or more hidden units in each layer.\n",
        "\n",
        "Train for longer - give your model more of a chance to find the patterns in the data.\n",
        "\n",
        "So let's take a look at how we can improve our model using 2 and 3.\n",
        "\n",
        "To do so, we'll build 3 models and compare their results:\n",
        "\n",
        "model_1 - same as original model, 1 layer, trained for 100 epochs.\n",
        "\n",
        "model_2 - 2 layers, trained for 100 epochs.\n",
        "\n",
        "model_3 - 2 layers, trained for 500 epochs."
      ],
      "metadata": {
        "id": "tvAvWj8ASlfe"
      }
    },
    {
      "cell_type": "markdown",
      "source": [
        "Build model_1"
      ],
      "metadata": {
        "id": "9YMKF1o3Symj"
      }
    },
    {
      "cell_type": "code",
      "source": [
        "# Set random seed\n",
        "tf.random.set_seed(42)\n",
        "\n",
        "# Replicate original model\n",
        "model_1 = tf.keras.Sequential([\n",
        "  tf.keras.layers.Dense(1)\n",
        "])\n",
        "\n",
        "# Compile the model\n",
        "model_1.compile(loss=tf.keras.losses.mae,\n",
        "                optimizer=tf.keras.optimizers.SGD(),\n",
        "                metrics=['mae'])\n",
        "\n",
        "# Fit the model\n",
        "model_1.fit(tf.expand_dims(X_train, axis=-1), y_train, epochs=100)"
      ],
      "metadata": {
        "colab": {
          "base_uri": "https://localhost:8080/"
        },
        "id": "oaYdUxJwSzg6",
        "outputId": "e5feb56f-da50-453f-94a2-adc81f930dc7"
      },
      "execution_count": 42,
      "outputs": [
        {
          "output_type": "stream",
          "name": "stdout",
          "text": [
            "Epoch 1/100\n",
            "2/2 [==============================] - 0s 7ms/step - loss: 15.9024 - mae: 15.9024\n",
            "Epoch 2/100\n",
            "2/2 [==============================] - 0s 6ms/step - loss: 11.2837 - mae: 11.2837\n",
            "Epoch 3/100\n",
            "2/2 [==============================] - 0s 6ms/step - loss: 11.1074 - mae: 11.1074\n",
            "Epoch 4/100\n",
            "2/2 [==============================] - 0s 6ms/step - loss: 9.2990 - mae: 9.2990\n",
            "Epoch 5/100\n",
            "2/2 [==============================] - 0s 6ms/step - loss: 10.1677 - mae: 10.1677\n",
            "Epoch 6/100\n",
            "2/2 [==============================] - 0s 6ms/step - loss: 9.4303 - mae: 9.4303\n",
            "Epoch 7/100\n",
            "2/2 [==============================] - 0s 5ms/step - loss: 8.5704 - mae: 8.5704\n",
            "Epoch 8/100\n",
            "2/2 [==============================] - 0s 6ms/step - loss: 9.0442 - mae: 9.0442\n",
            "Epoch 9/100\n",
            "2/2 [==============================] - 0s 5ms/step - loss: 18.7517 - mae: 18.7517\n",
            "Epoch 10/100\n",
            "2/2 [==============================] - 0s 5ms/step - loss: 10.1142 - mae: 10.1142\n",
            "Epoch 11/100\n",
            "2/2 [==============================] - 0s 5ms/step - loss: 8.3980 - mae: 8.3980\n",
            "Epoch 12/100\n",
            "2/2 [==============================] - 0s 5ms/step - loss: 10.6639 - mae: 10.6639\n",
            "Epoch 13/100\n",
            "2/2 [==============================] - 0s 5ms/step - loss: 9.7977 - mae: 9.7977\n",
            "Epoch 14/100\n",
            "2/2 [==============================] - 0s 5ms/step - loss: 16.0103 - mae: 16.0103\n",
            "Epoch 15/100\n",
            "2/2 [==============================] - 0s 10ms/step - loss: 11.4068 - mae: 11.4068\n",
            "Epoch 16/100\n",
            "2/2 [==============================] - 0s 6ms/step - loss: 8.5393 - mae: 8.5393\n",
            "Epoch 17/100\n",
            "2/2 [==============================] - 0s 5ms/step - loss: 13.6348 - mae: 13.6348\n",
            "Epoch 18/100\n",
            "2/2 [==============================] - 0s 5ms/step - loss: 11.4629 - mae: 11.4629\n",
            "Epoch 19/100\n",
            "2/2 [==============================] - 0s 5ms/step - loss: 17.9148 - mae: 17.9148\n",
            "Epoch 20/100\n",
            "2/2 [==============================] - 0s 6ms/step - loss: 15.0494 - mae: 15.0494\n",
            "Epoch 21/100\n",
            "2/2 [==============================] - 0s 6ms/step - loss: 11.0216 - mae: 11.0216\n",
            "Epoch 22/100\n",
            "2/2 [==============================] - 0s 7ms/step - loss: 8.1558 - mae: 8.1558\n",
            "Epoch 23/100\n",
            "2/2 [==============================] - 0s 7ms/step - loss: 9.5138 - mae: 9.5138\n",
            "Epoch 24/100\n",
            "2/2 [==============================] - 0s 6ms/step - loss: 7.6617 - mae: 7.6617\n",
            "Epoch 25/100\n",
            "2/2 [==============================] - 0s 6ms/step - loss: 13.1859 - mae: 13.1859\n",
            "Epoch 26/100\n",
            "2/2 [==============================] - 0s 6ms/step - loss: 16.4211 - mae: 16.4211\n",
            "Epoch 27/100\n",
            "2/2 [==============================] - 0s 7ms/step - loss: 13.1659 - mae: 13.1659\n",
            "Epoch 28/100\n",
            "2/2 [==============================] - 0s 6ms/step - loss: 14.2559 - mae: 14.2559\n",
            "Epoch 29/100\n",
            "2/2 [==============================] - 0s 7ms/step - loss: 10.0670 - mae: 10.0670\n",
            "Epoch 30/100\n",
            "2/2 [==============================] - 0s 6ms/step - loss: 16.3409 - mae: 16.3409\n",
            "Epoch 31/100\n",
            "2/2 [==============================] - 0s 6ms/step - loss: 23.6444 - mae: 23.6444\n",
            "Epoch 32/100\n",
            "2/2 [==============================] - 0s 6ms/step - loss: 7.6215 - mae: 7.6215\n",
            "Epoch 33/100\n",
            "2/2 [==============================] - 0s 5ms/step - loss: 9.3221 - mae: 9.3221\n",
            "Epoch 34/100\n",
            "2/2 [==============================] - 0s 6ms/step - loss: 13.7313 - mae: 13.7313\n",
            "Epoch 35/100\n",
            "2/2 [==============================] - 0s 6ms/step - loss: 11.1276 - mae: 11.1276\n",
            "Epoch 36/100\n",
            "2/2 [==============================] - 0s 9ms/step - loss: 13.3222 - mae: 13.3222\n",
            "Epoch 37/100\n",
            "2/2 [==============================] - 0s 5ms/step - loss: 9.4763 - mae: 9.4763\n",
            "Epoch 38/100\n",
            "2/2 [==============================] - 0s 4ms/step - loss: 10.1381 - mae: 10.1381\n",
            "Epoch 39/100\n",
            "2/2 [==============================] - 0s 6ms/step - loss: 10.1793 - mae: 10.1793\n",
            "Epoch 40/100\n",
            "2/2 [==============================] - 0s 6ms/step - loss: 10.9137 - mae: 10.9137\n",
            "Epoch 41/100\n",
            "2/2 [==============================] - 0s 6ms/step - loss: 7.9063 - mae: 7.9063\n",
            "Epoch 42/100\n",
            "2/2 [==============================] - 0s 5ms/step - loss: 10.0914 - mae: 10.0914\n",
            "Epoch 43/100\n",
            "2/2 [==============================] - 0s 6ms/step - loss: 8.7006 - mae: 8.7006\n",
            "Epoch 44/100\n",
            "2/2 [==============================] - 0s 6ms/step - loss: 12.2047 - mae: 12.2047\n",
            "Epoch 45/100\n",
            "2/2 [==============================] - 0s 6ms/step - loss: 13.7970 - mae: 13.7970\n",
            "Epoch 46/100\n",
            "2/2 [==============================] - 0s 6ms/step - loss: 8.4687 - mae: 8.4687\n",
            "Epoch 47/100\n",
            "2/2 [==============================] - 0s 6ms/step - loss: 9.1330 - mae: 9.1330\n",
            "Epoch 48/100\n",
            "2/2 [==============================] - 0s 6ms/step - loss: 10.6190 - mae: 10.6190\n",
            "Epoch 49/100\n",
            "2/2 [==============================] - 0s 6ms/step - loss: 7.7503 - mae: 7.7503\n",
            "Epoch 50/100\n",
            "2/2 [==============================] - 0s 6ms/step - loss: 9.5407 - mae: 9.5407\n",
            "Epoch 51/100\n",
            "2/2 [==============================] - 0s 6ms/step - loss: 9.1584 - mae: 9.1584\n",
            "Epoch 52/100\n",
            "2/2 [==============================] - 0s 6ms/step - loss: 16.3630 - mae: 16.3630\n",
            "Epoch 53/100\n",
            "2/2 [==============================] - 0s 6ms/step - loss: 14.1299 - mae: 14.1299\n",
            "Epoch 54/100\n",
            "2/2 [==============================] - 0s 5ms/step - loss: 21.1247 - mae: 21.1247\n",
            "Epoch 55/100\n",
            "2/2 [==============================] - 0s 7ms/step - loss: 16.3961 - mae: 16.3961\n",
            "Epoch 56/100\n",
            "2/2 [==============================] - 0s 6ms/step - loss: 9.9806 - mae: 9.9806\n",
            "Epoch 57/100\n",
            "2/2 [==============================] - 0s 5ms/step - loss: 9.9606 - mae: 9.9606\n",
            "Epoch 58/100\n",
            "2/2 [==============================] - 0s 6ms/step - loss: 9.2209 - mae: 9.2209\n",
            "Epoch 59/100\n",
            "2/2 [==============================] - 0s 6ms/step - loss: 8.4239 - mae: 8.4239\n",
            "Epoch 60/100\n",
            "2/2 [==============================] - 0s 6ms/step - loss: 9.4869 - mae: 9.4869\n",
            "Epoch 61/100\n",
            "2/2 [==============================] - 0s 6ms/step - loss: 11.4355 - mae: 11.4355\n",
            "Epoch 62/100\n",
            "2/2 [==============================] - 0s 6ms/step - loss: 11.6887 - mae: 11.6887\n",
            "Epoch 63/100\n",
            "2/2 [==============================] - 0s 6ms/step - loss: 7.0838 - mae: 7.0838\n",
            "Epoch 64/100\n",
            "2/2 [==============================] - 0s 6ms/step - loss: 16.9675 - mae: 16.9675\n",
            "Epoch 65/100\n",
            "2/2 [==============================] - 0s 6ms/step - loss: 12.4599 - mae: 12.4599\n",
            "Epoch 66/100\n",
            "2/2 [==============================] - 0s 7ms/step - loss: 13.0184 - mae: 13.0184\n",
            "Epoch 67/100\n",
            "2/2 [==============================] - 0s 6ms/step - loss: 8.0600 - mae: 8.0600\n",
            "Epoch 68/100\n",
            "2/2 [==============================] - 0s 6ms/step - loss: 10.1888 - mae: 10.1888\n",
            "Epoch 69/100\n",
            "2/2 [==============================] - 0s 8ms/step - loss: 12.3633 - mae: 12.3633\n",
            "Epoch 70/100\n",
            "2/2 [==============================] - 0s 6ms/step - loss: 9.0516 - mae: 9.0516\n",
            "Epoch 71/100\n",
            "2/2 [==============================] - 0s 6ms/step - loss: 10.0378 - mae: 10.0378\n",
            "Epoch 72/100\n",
            "2/2 [==============================] - 0s 6ms/step - loss: 10.0516 - mae: 10.0516\n",
            "Epoch 73/100\n",
            "2/2 [==============================] - 0s 6ms/step - loss: 12.6151 - mae: 12.6151\n",
            "Epoch 74/100\n",
            "2/2 [==============================] - 0s 11ms/step - loss: 10.3819 - mae: 10.3819\n",
            "Epoch 75/100\n",
            "2/2 [==============================] - 0s 9ms/step - loss: 9.7229 - mae: 9.7229\n",
            "Epoch 76/100\n",
            "2/2 [==============================] - 0s 6ms/step - loss: 11.2252 - mae: 11.2252\n",
            "Epoch 77/100\n",
            "2/2 [==============================] - 0s 6ms/step - loss: 8.3642 - mae: 8.3642\n",
            "Epoch 78/100\n",
            "2/2 [==============================] - 0s 7ms/step - loss: 9.1274 - mae: 9.1274\n",
            "Epoch 79/100\n",
            "2/2 [==============================] - 0s 5ms/step - loss: 19.5039 - mae: 19.5039\n",
            "Epoch 80/100\n",
            "2/2 [==============================] - 0s 8ms/step - loss: 14.8945 - mae: 14.8945\n",
            "Epoch 81/100\n",
            "2/2 [==============================] - 0s 6ms/step - loss: 9.0034 - mae: 9.0034\n",
            "Epoch 82/100\n",
            "2/2 [==============================] - 0s 6ms/step - loss: 13.0206 - mae: 13.0206\n",
            "Epoch 83/100\n",
            "2/2 [==============================] - 0s 6ms/step - loss: 7.9299 - mae: 7.9299\n",
            "Epoch 84/100\n",
            "2/2 [==============================] - 0s 6ms/step - loss: 7.6872 - mae: 7.6872\n",
            "Epoch 85/100\n",
            "2/2 [==============================] - 0s 6ms/step - loss: 10.0328 - mae: 10.0328\n",
            "Epoch 86/100\n",
            "2/2 [==============================] - 0s 6ms/step - loss: 9.2433 - mae: 9.2433\n",
            "Epoch 87/100\n",
            "2/2 [==============================] - 0s 6ms/step - loss: 12.0209 - mae: 12.0209\n",
            "Epoch 88/100\n",
            "2/2 [==============================] - 0s 6ms/step - loss: 10.6389 - mae: 10.6389\n",
            "Epoch 89/100\n",
            "2/2 [==============================] - 0s 8ms/step - loss: 7.2667 - mae: 7.2667\n",
            "Epoch 90/100\n",
            "2/2 [==============================] - 0s 8ms/step - loss: 12.7786 - mae: 12.7786\n",
            "Epoch 91/100\n",
            "2/2 [==============================] - 0s 6ms/step - loss: 7.3481 - mae: 7.3481\n",
            "Epoch 92/100\n",
            "2/2 [==============================] - 0s 7ms/step - loss: 7.7175 - mae: 7.7175\n",
            "Epoch 93/100\n",
            "2/2 [==============================] - 0s 6ms/step - loss: 7.1263 - mae: 7.1263\n",
            "Epoch 94/100\n",
            "2/2 [==============================] - 0s 8ms/step - loss: 12.6190 - mae: 12.6190\n",
            "Epoch 95/100\n",
            "2/2 [==============================] - 0s 7ms/step - loss: 10.0912 - mae: 10.0912\n",
            "Epoch 96/100\n",
            "2/2 [==============================] - 0s 5ms/step - loss: 9.3558 - mae: 9.3558\n",
            "Epoch 97/100\n",
            "2/2 [==============================] - 0s 6ms/step - loss: 12.6834 - mae: 12.6834\n",
            "Epoch 98/100\n",
            "2/2 [==============================] - 0s 6ms/step - loss: 8.6762 - mae: 8.6762\n",
            "Epoch 99/100\n",
            "2/2 [==============================] - 0s 6ms/step - loss: 9.4693 - mae: 9.4693\n",
            "Epoch 100/100\n",
            "2/2 [==============================] - 0s 6ms/step - loss: 8.7067 - mae: 8.7067\n"
          ]
        },
        {
          "output_type": "execute_result",
          "data": {
            "text/plain": [
              "<keras.callbacks.History at 0x7f68420fb670>"
            ]
          },
          "metadata": {},
          "execution_count": 42
        }
      ]
    },
    {
      "cell_type": "code",
      "source": [
        "# Make and plot predictions for model_1\n",
        "y_preds_1 = model_1.predict(X_test)\n",
        "plot_predictions(predictions=y_preds_1)"
      ],
      "metadata": {
        "colab": {
          "base_uri": "https://localhost:8080/",
          "height": 445
        },
        "id": "xFAd-lMnS2zD",
        "outputId": "36d61b43-4c02-4271-a95e-31dd8989551c"
      },
      "execution_count": 43,
      "outputs": [
        {
          "output_type": "stream",
          "name": "stdout",
          "text": [
            "1/1 [==============================] - 0s 51ms/step\n"
          ]
        },
        {
          "output_type": "display_data",
          "data": {
            "text/plain": [
              "<Figure size 720x504 with 1 Axes>"
            ],
            "image/png": "[encoded data removed]"
          },
          "metadata": {
            "needs_background": "light"
          }
        }
      ]
    },
    {
      "cell_type": "code",
      "source": [
        "# Calculate model_1 metrics\n",
        "mae_1 = mae(y_test, y_preds_1.squeeze()).numpy()\n",
        "mse_1 = mse(y_test, y_preds_1.squeeze()).numpy()\n",
        "mae_1, mse_1"
      ],
      "metadata": {
        "colab": {
          "base_uri": "https://localhost:8080/"
        },
        "id": "H8daws5QS4QL",
        "outputId": "afb324c8-f552-4529-ee54-f938e9d8b763"
      },
      "execution_count": 44,
      "outputs": [
        {
          "output_type": "execute_result",
          "data": {
            "text/plain": [
              "(18.745327, 353.5734)"
            ]
          },
          "metadata": {},
          "execution_count": 44
        }
      ]
    },
    {
      "cell_type": "markdown",
      "source": [
        "Build model_2"
      ],
      "metadata": {
        "id": "ydAKqPw9S5vK"
      }
    },
    {
      "cell_type": "code",
      "source": [
        "# Set random seed\n",
        "tf.random.set_seed(42)\n",
        "\n",
        "# Replicate model_1 and add an extra layer\n",
        "model_2 = tf.keras.Sequential([\n",
        "  tf.keras.layers.Dense(1),\n",
        "  tf.keras.layers.Dense(1) # add a second layer\n",
        "])\n",
        "\n",
        "# Compile the model\n",
        "model_2.compile(loss=tf.keras.losses.mae,\n",
        "                optimizer=tf.keras.optimizers.SGD(),\n",
        "                metrics=['mae'])\n",
        "\n",
        "# Fit the model\n",
        "model_2.fit(tf.expand_dims(X_train, axis=-1), y_train, epochs=100, verbose=0) # set verbose to 0 for less output"
      ],
      "metadata": {
        "colab": {
          "base_uri": "https://localhost:8080/"
        },
        "id": "a6QR1NA0S6mK",
        "outputId": "5833fb99-1fc5-41f9-8919-b5bac57896b8"
      },
      "execution_count": 45,
      "outputs": [
        {
          "output_type": "execute_result",
          "data": {
            "text/plain": [
              "<keras.callbacks.History at 0x7f6841ff2d30>"
            ]
          },
          "metadata": {},
          "execution_count": 45
        }
      ]
    },
    {
      "cell_type": "code",
      "source": [
        "# Make and plot predictions for model_2\n",
        "y_preds_2 = model_2.predict(X_test)\n",
        "plot_predictions(predictions=y_preds_2)"
      ],
      "metadata": {
        "colab": {
          "base_uri": "https://localhost:8080/",
          "height": 483
        },
        "id": "tgfeVtoMS9yX",
        "outputId": "87f3fe66-d290-45ab-c55f-b1ed6b3a7aaa"
      },
      "execution_count": 46,
      "outputs": [
        {
          "output_type": "stream",
          "name": "stderr",
          "text": [
            "WARNING:tensorflow:5 out of the last 5 calls to <function Model.make_predict_function.<locals>.predict_function at 0x7f6842029820> triggered tf.function retracing. Tracing is expensive and the excessive number of tracings could be due to (1) creating @tf.function repeatedly in a loop, (2) passing tensors with different shapes, (3) passing Python objects instead of tensors. For (1), please define your @tf.function outside of the loop. For (2), @tf.function has reduce_retracing=True option that can avoid unnecessary retracing. For (3), please refer to https://www.tensorflow.org/guide/function#controlling_retracing and https://www.tensorflow.org/api_docs/python/tf/function for  more details.\n"
          ]
        },
        {
          "output_type": "stream",
          "name": "stdout",
          "text": [
            "1/1 [==============================] - 0s 63ms/step\n"
          ]
        },
        {
          "output_type": "display_data",
          "data": {
            "text/plain": [
              "<Figure size 720x504 with 1 Axes>"
            ],
            "image/png": "[encoded data removed]"
          },
          "metadata": {
            "needs_background": "light"
          }
        }
      ]
    },
    {
      "cell_type": "code",
      "source": [
        "# Calculate model_2 metrics\n",
        "mae_2 = mae(y_test, y_preds_2.squeeze()).numpy()\n",
        "mse_2 = mse(y_test, y_preds_2.squeeze()).numpy()\n",
        "mae_2, mse_2"
      ],
      "metadata": {
        "colab": {
          "base_uri": "https://localhost:8080/"
        },
        "id": "kZCa-hVdS_Zk",
        "outputId": "f135dd24-d2e9-4035-bb36-8d32fed749bb"
      },
      "execution_count": 47,
      "outputs": [
        {
          "output_type": "execute_result",
          "data": {
            "text/plain": [
              "(1.9098641, 5.4595404)"
            ]
          },
          "metadata": {},
          "execution_count": 47
        }
      ]
    },
    {
      "cell_type": "markdown",
      "source": [
        "Build model_3"
      ],
      "metadata": {
        "id": "i_HNF-c0TA7X"
      }
    },
    {
      "cell_type": "code",
      "source": [
        "# Set random seed\n",
        "tf.random.set_seed(42)\n",
        "\n",
        "# Replicate model_2\n",
        "model_3 = tf.keras.Sequential([\n",
        "  tf.keras.layers.Dense(1),\n",
        "  tf.keras.layers.Dense(1)\n",
        "])\n",
        "\n",
        "# Compile the model\n",
        "model_3.compile(loss=tf.keras.losses.mae,\n",
        "                optimizer=tf.keras.optimizers.SGD(),\n",
        "                metrics=['mae'])\n",
        "\n",
        "# Fit the model (this time for 500 epochs, not 100)\n",
        "model_3.fit(tf.expand_dims(X_train, axis=-1), y_train, epochs=500, verbose=0) # set verbose to 0 for less output"
      ],
      "metadata": {
        "colab": {
          "base_uri": "https://localhost:8080/"
        },
        "id": "U4-twbXCTBnq",
        "outputId": "e0eeeb3d-3565-43af-a195-9f415f8fee52"
      },
      "execution_count": 48,
      "outputs": [
        {
          "output_type": "execute_result",
          "data": {
            "text/plain": [
              "<keras.callbacks.History at 0x7f6841f24bb0>"
            ]
          },
          "metadata": {},
          "execution_count": 48
        }
      ]
    },
    {
      "cell_type": "code",
      "source": [
        "# Make and plot predictions for model_3\n",
        "y_preds_3 = model_3.predict(X_test)\n",
        "plot_predictions(predictions=y_preds_3)"
      ],
      "metadata": {
        "colab": {
          "base_uri": "https://localhost:8080/",
          "height": 483
        },
        "id": "2toyEIzNTFFf",
        "outputId": "ca3ed306-e6a8-4b7f-b13c-fc8e75425482"
      },
      "execution_count": 49,
      "outputs": [
        {
          "output_type": "stream",
          "name": "stderr",
          "text": [
            "WARNING:tensorflow:6 out of the last 6 calls to <function Model.make_predict_function.<locals>.predict_function at 0x7f6841df3af0> triggered tf.function retracing. Tracing is expensive and the excessive number of tracings could be due to (1) creating @tf.function repeatedly in a loop, (2) passing tensors with different shapes, (3) passing Python objects instead of tensors. For (1), please define your @tf.function outside of the loop. For (2), @tf.function has reduce_retracing=True option that can avoid unnecessary retracing. For (3), please refer to https://www.tensorflow.org/guide/function#controlling_retracing and https://www.tensorflow.org/api_docs/python/tf/function for  more details.\n"
          ]
        },
        {
          "output_type": "stream",
          "name": "stdout",
          "text": [
            "1/1 [==============================] - 0s 41ms/step\n"
          ]
        },
        {
          "output_type": "display_data",
          "data": {
            "text/plain": [
              "<Figure size 720x504 with 1 Axes>"
            ],
            "image/png": "[encoded data removed]"
          },
          "metadata": {
            "needs_background": "light"
          }
        }
      ]
    },
    {
      "cell_type": "markdown",
      "source": [
        "Strange, we trained for longer but our model performed worse?\n",
        "\n",
        "As it turns out, our model might've trained too long and has thus resulted in worse results (we'll see ways to prevent training for too long later on)."
      ],
      "metadata": {
        "id": "WhM4vdxXTG-X"
      }
    },
    {
      "cell_type": "code",
      "source": [
        "# Calculate model_3 metrics\n",
        "mae_3 = mae(y_test, y_preds_3.squeeze()).numpy()\n",
        "mse_3 = mse(y_test, y_preds_3.squeeze()).numpy()\n",
        "mae_3, mse_3"
      ],
      "metadata": {
        "colab": {
          "base_uri": "https://localhost:8080/"
        },
        "id": "RKrXQyVcTJPm",
        "outputId": "fd59d21f-d427-40a3-b24a-9be6a99d75b6"
      },
      "execution_count": 50,
      "outputs": [
        {
          "output_type": "execute_result",
          "data": {
            "text/plain": [
              "(68.687874, 4804.4736)"
            ]
          },
          "metadata": {},
          "execution_count": 50
        }
      ]
    },
    {
      "cell_type": "code",
      "source": [
        "model_results = [[\"model_1\", mae_1, mse_1],\n",
        "                 [\"model_2\", mae_2, mse_2],\n",
        "                 [\"model_3\", mae_3, mae_3]]"
      ],
      "metadata": {
        "id": "F4piP0VFTKpy"
      },
      "execution_count": 51,
      "outputs": []
    },
    {
      "cell_type": "code",
      "source": [
        "import pandas as pd\n",
        "all_results = pd.DataFrame(model_results, columns=[\"model\", \"mae\", \"mse\"])\n",
        "all_results"
      ],
      "metadata": {
        "colab": {
          "base_uri": "https://localhost:8080/",
          "height": 143
        },
        "id": "wis06OMiTMIH",
        "outputId": "b2efb272-258b-49fe-ea0d-0de3bccda8d4"
      },
      "execution_count": 52,
      "outputs": [
        {
          "output_type": "execute_result",
          "data": {
            "text/plain": [
              "     model        mae         mse\n",
              "0  model_1  18.745327  353.573395\n",
              "1  model_2   1.909864    5.459540\n",
              "2  model_3  68.687874   68.687874"
            ],
            "text/html": [
              "\n",
              "  <div id=\"df-1e44f496-3045-4854-9b4d-2f87ae482ba3\">\n",
              "    <div class=\"colab-df-container\">\n",
              "      <div>\n",
              "<style scoped>\n",
              "    .dataframe tbody tr th:only-of-type {\n",
              "        vertical-align: middle;\n",
              "    }\n",
              "\n",
              "    .dataframe tbody tr th {\n",
              "        vertical-align: top;\n",
              "    }\n",
              "\n",
              "    .dataframe thead th {\n",
              "        text-align: right;\n",
              "    }\n",
              "</style>\n",
              "<table border=\"1\" class=\"dataframe\">\n",
              "  <thead>\n",
              "    <tr style=\"text-align: right;\">\n",
              "      <th></th>\n",
              "      <th>model</th>\n",
              "      <th>mae</th>\n",
              "      <th>mse</th>\n",
              "    </tr>\n",
              "  </thead>\n",
              "  <tbody>\n",
              "    <tr>\n",
              "      <th>0</th>\n",
              "      <td>model_1</td>\n",
              "      <td>18.745327</td>\n",
              "      <td>353.573395</td>\n",
              "    </tr>\n",
              "    <tr>\n",
              "      <th>1</th>\n",
              "      <td>model_2</td>\n",
              "      <td>1.909864</td>\n",
              "      <td>5.459540</td>\n",
              "    </tr>\n",
              "    <tr>\n",
              "      <th>2</th>\n",
              "      <td>model_3</td>\n",
              "      <td>68.687874</td>\n",
              "      <td>68.687874</td>\n",
              "    </tr>\n",
              "  </tbody>\n",
              "</table>\n",
              "</div>\n",
              "      <button class=\"colab-df-convert\" onclick=\"convertToInteractive('df-1e44f496-3045-4854-9b4d-2f87ae482ba3')\"\n",
              "              title=\"Convert this dataframe to an interactive table.\"\n",
              "              style=\"display:none;\">\n",
              "        \n",
              "  <svg xmlns=\"http://www.w3.org/2000/svg\" height=\"24px\"viewBox=\"0 0 24 24\"\n",
              "       width=\"24px\">\n",
              "    <path d=\"M0 0h24v24H0V0z\" fill=\"none\"/>\n",
              "    <path d=\"M18.56 5.44l.94 2.06.94-2.06 2.06-.94-2.06-.94-.94-2.06-.94 2.06-2.06.94zm-11 1L8.5 8.5l.94-2.06 2.06-.94-2.06-.94L8.5 2.5l-.94 2.06-2.06.94zm10 10l.94 2.06.94-2.06 2.06-.94-2.06-.94-.94-2.06-.94 2.06-2.06.94z\"/><path d=\"M17.41 7.96l-1.37-1.37c-.4-.4-.92-.59-1.43-.59-.52 0-1.04.2-1.43.59L10.3 9.45l-7.72 7.72c-.78.78-.78 2.05 0 2.83L4 21.41c.39.39.9.59 1.41.59.51 0 1.02-.2 1.41-.59l7.78-7.78 2.81-2.81c.8-.78.8-2.07 0-2.86zM5.41 20L4 18.59l7.72-7.72 1.47 1.35L5.41 20z\"/>\n",
              "  </svg>\n",
              "      </button>\n",
              "      \n",
              "  <style>\n",
              "    .colab-df-container {\n",
              "      display:flex;\n",
              "      flex-wrap:wrap;\n",
              "      gap: 12px;\n",
              "    }\n",
              "\n",
              "    .colab-df-convert {\n",
              "      background-color: #E8F0FE;\n",
              "      border: none;\n",
              "      border-radius: 50%;\n",
              "      cursor: pointer;\n",
              "      display: none;\n",
              "      fill: #1967D2;\n",
              "      height: 32px;\n",
              "      padding: 0 0 0 0;\n",
              "      width: 32px;\n",
              "    }\n",
              "\n",
              "    .colab-df-convert:hover {\n",
              "      background-color: #E2EBFA;\n",
              "      box-shadow: 0px 1px 2px rgba(60, 64, 67, 0.3), 0px 1px 3px 1px rgba(60, 64, 67, 0.15);\n",
              "      fill: #174EA6;\n",
              "    }\n",
              "\n",
              "    [theme=dark] .colab-df-convert {\n",
              "      background-color: #3B4455;\n",
              "      fill: #D2E3FC;\n",
              "    }\n",
              "\n",
              "    [theme=dark] .colab-df-convert:hover {\n",
              "      background-color: #434B5C;\n",
              "      box-shadow: 0px 1px 3px 1px rgba(0, 0, 0, 0.15);\n",
              "      filter: drop-shadow(0px 1px 2px rgba(0, 0, 0, 0.3));\n",
              "      fill: #FFFFFF;\n",
              "    }\n",
              "  </style>\n",
              "\n",
              "      <script>\n",
              "        const buttonEl =\n",
              "          document.querySelector('#df-1e44f496-3045-4854-9b4d-2f87ae482ba3 button.colab-df-convert');\n",
              "        buttonEl.style.display =\n",
              "          google.colab.kernel.accessAllowed ? 'block' : 'none';\n",
              "\n",
              "        async function convertToInteractive(key) {\n",
              "          const element = document.querySelector('#df-1e44f496-3045-4854-9b4d-2f87ae482ba3');\n",
              "          const dataTable =\n",
              "            await google.colab.kernel.invokeFunction('convertToInteractive',\n",
              "                                                     [key], {});\n",
              "          if (!dataTable) return;\n",
              "\n",
              "          const docLinkHtml = 'Like what you see? Visit the ' +\n",
              "            '<a target=\"_blank\" href=https://colab.research.google.com/notebooks/data_table.ipynb>data table notebook</a>'\n",
              "            + ' to learn more about interactive tables.';\n",
              "          element.innerHTML = '';\n",
              "          dataTable['output_type'] = 'display_data';\n",
              "          await google.colab.output.renderOutput(dataTable, element);\n",
              "          const docLink = document.createElement('div');\n",
              "          docLink.innerHTML = docLinkHtml;\n",
              "          element.appendChild(docLink);\n",
              "        }\n",
              "      </script>\n",
              "    </div>\n",
              "  </div>\n",
              "  "
            ]
          },
          "metadata": {},
          "execution_count": 52
        }
      ]
    },
    {
      "cell_type": "markdown",
      "source": [
        "### Tracking your experiments\n",
        "\n",
        "📖 Resource: But as you build more models, you'll want to look into using tools such as:\n",
        "\n",
        "TensorBoard - a component of the TensorFlow library to help track modelling experiments (we'll see this later).\n",
        "\n",
        "Weights & Biases - a tool for tracking all kinds of machine learning experiments (the good news for Weights & Biases is it plugs into TensorBoard)."
      ],
      "metadata": {
        "id": "1EUNW_hZTQH4"
      }
    },
    {
      "cell_type": "markdown",
      "source": [
        "### Saving a model\n",
        "\n",
        "You can save a TensorFlow/Keras model using model.save().\n",
        "\n",
        "There are two ways to save a model in TensorFlow:\n",
        "\n",
        "The **SavedModel format (default)**.\n",
        "\n",
        "The **HDF5 format**.\n",
        "\n",
        "The main difference between the two is the SavedModel is automatically able to save custom objects (such as special layers) without additional modifications when loading the model back in.\n",
        "\n",
        "Which one should you use?\n",
        "\n",
        "It depends on your situation but the SavedModel format will suffice most of the time.\n",
        "\n",
        "Both methods use the same method call."
      ],
      "metadata": {
        "id": "2umYgKQ3TWkA"
      }
    },
    {
      "cell_type": "code",
      "source": [
        "# Save a model using the SavedModel format\n",
        "model_2.save('best_model_SavedModel_format')"
      ],
      "metadata": {
        "id": "veIbyeKITV8C"
      },
      "execution_count": 53,
      "outputs": []
    },
    {
      "cell_type": "code",
      "source": [
        "# Check it out - outputs a protobuf binary file (.pb) as well as other files\n",
        "!ls best_model_SavedModel_format"
      ],
      "metadata": {
        "colab": {
          "base_uri": "https://localhost:8080/"
        },
        "id": "qMnPfF3STmk_",
        "outputId": "052a53db-5056-46e2-f475-de1de4bf6f51"
      },
      "execution_count": 54,
      "outputs": [
        {
          "output_type": "stream",
          "name": "stdout",
          "text": [
            "assets\tkeras_metadata.pb  saved_model.pb  variables\n"
          ]
        }
      ]
    },
    {
      "cell_type": "markdown",
      "source": [
        "Now let's save the model in the HDF5 format, we'll use the same method but with a different filename."
      ],
      "metadata": {
        "id": "ufhEZrxKTpzE"
      }
    },
    {
      "cell_type": "code",
      "source": [
        "# Save a model using the HDF5 format\n",
        "model_2.save(\"best_model_HDF5_format.h5\") # note the addition of '.h5' on the end"
      ],
      "metadata": {
        "id": "cymML3oaTqdh"
      },
      "execution_count": 55,
      "outputs": []
    },
    {
      "cell_type": "code",
      "source": [
        "# Check it out\n",
        "!ls best_model_HDF5_format.h5"
      ],
      "metadata": {
        "colab": {
          "base_uri": "https://localhost:8080/"
        },
        "id": "MuapvSddTtcJ",
        "outputId": "14c6e6cc-8dc3-4586-d3cf-2e2a0206f193"
      },
      "execution_count": 56,
      "outputs": [
        {
          "output_type": "stream",
          "name": "stdout",
          "text": [
            "best_model_HDF5_format.h5\n"
          ]
        }
      ]
    },
    {
      "cell_type": "markdown",
      "source": [
        "### Loading a model\n",
        "\n",
        "We can load a saved model using the load_model() method.\n",
        "\n",
        "Loading a model for the different formats (SavedModel and HDF5) is the same (as long as the pathnames to the particular formats are correct)."
      ],
      "metadata": {
        "id": "tpQsy-itTsYp"
      }
    },
    {
      "cell_type": "code",
      "source": [
        "# Load a model from the SavedModel format\n",
        "loaded_saved_model = tf.keras.models.load_model(\"best_model_SavedModel_format\")\n",
        "loaded_saved_model.summary()"
      ],
      "metadata": {
        "colab": {
          "base_uri": "https://localhost:8080/"
        },
        "id": "gk1Eac6MTwOz",
        "outputId": "c94be5e7-cce0-4e8b-d487-11e821d1e7fd"
      },
      "execution_count": 57,
      "outputs": [
        {
          "output_type": "stream",
          "name": "stdout",
          "text": [
            "Model: \"sequential_5\"\n",
            "_________________________________________________________________\n",
            " Layer (type)                Output Shape              Param #   \n",
            "=================================================================\n",
            " dense_5 (Dense)             (None, 1)                 2         \n",
            "                                                                 \n",
            " dense_6 (Dense)             (None, 1)                 2         \n",
            "                                                                 \n",
            "=================================================================\n",
            "Total params: 4\n",
            "Trainable params: 4\n",
            "Non-trainable params: 0\n",
            "_________________________________________________________________\n"
          ]
        }
      ]
    },
    {
      "cell_type": "code",
      "source": [
        "# Compare model_2 with the SavedModel version (should return True)\n",
        "model_2_preds = model_2.predict(X_test)\n",
        "saved_model_preds = loaded_saved_model.predict(X_test)\n",
        "mae(y_test, saved_model_preds.squeeze()).numpy() == mae(y_test, model_2_preds.squeeze()).numpy()"
      ],
      "metadata": {
        "colab": {
          "base_uri": "https://localhost:8080/"
        },
        "id": "uyn4tQ32T1ji",
        "outputId": "c8c896a0-d5ec-4f1f-bb27-bec05f773ee4"
      },
      "execution_count": 58,
      "outputs": [
        {
          "output_type": "stream",
          "name": "stdout",
          "text": [
            "1/1 [==============================] - 0s 40ms/step\n",
            "1/1 [==============================] - 0s 39ms/step\n"
          ]
        },
        {
          "output_type": "execute_result",
          "data": {
            "text/plain": [
              "True"
            ]
          },
          "metadata": {},
          "execution_count": 58
        }
      ]
    },
    {
      "cell_type": "markdown",
      "source": [
        "Loading in from the HDF5 is much the same."
      ],
      "metadata": {
        "id": "blsw9ov2T27r"
      }
    },
    {
      "cell_type": "code",
      "source": [
        "# Load a model from the HDF5 format\n",
        "loaded_h5_model = tf.keras.models.load_model(\"best_model_HDF5_format.h5\")\n",
        "loaded_h5_model.summary()\n"
      ],
      "metadata": {
        "colab": {
          "base_uri": "https://localhost:8080/"
        },
        "id": "u0d35yV0T44s",
        "outputId": "420ae219-28cd-46a0-a8e9-08a4a856f237"
      },
      "execution_count": 59,
      "outputs": [
        {
          "output_type": "stream",
          "name": "stdout",
          "text": [
            "Model: \"sequential_5\"\n",
            "_________________________________________________________________\n",
            " Layer (type)                Output Shape              Param #   \n",
            "=================================================================\n",
            " dense_5 (Dense)             (None, 1)                 2         \n",
            "                                                                 \n",
            " dense_6 (Dense)             (None, 1)                 2         \n",
            "                                                                 \n",
            "=================================================================\n",
            "Total params: 4\n",
            "Trainable params: 4\n",
            "Non-trainable params: 0\n",
            "_________________________________________________________________\n"
          ]
        }
      ]
    },
    {
      "cell_type": "code",
      "source": [
        "# Compare model_2 with the loaded HDF5 version (should return True)\n",
        "h5_model_preds = loaded_h5_model.predict(X_test)\n",
        "mae(y_test, h5_model_preds.squeeze()).numpy() == mae(y_test, model_2_preds.squeeze()).numpy()"
      ],
      "metadata": {
        "colab": {
          "base_uri": "https://localhost:8080/"
        },
        "id": "-EMJXR-6T88E",
        "outputId": "872dc4fe-950c-4216-a897-ac8ea0299e05"
      },
      "execution_count": 60,
      "outputs": [
        {
          "output_type": "stream",
          "name": "stdout",
          "text": [
            "1/1 [==============================] - 0s 38ms/step\n"
          ]
        },
        {
          "output_type": "execute_result",
          "data": {
            "text/plain": [
              "True"
            ]
          },
          "metadata": {},
          "execution_count": 60
        }
      ]
    },
    {
      "cell_type": "markdown",
      "source": [
        "### Downloading a model (from Google Colab)\n",
        "\n",
        "Say you wanted to get your model from Google Colab to your local machine, you can do one of the following things:\n",
        "\n",
        "1. Right click on the file in the files pane and click 'download'.\n",
        "\n",
        "2. Use the code below."
      ],
      "metadata": {
        "id": "JY8xumbIUBQG"
      }
    },
    {
      "cell_type": "code",
      "source": [
        "# Download the model (or any file) from Google Colab\n",
        "from google.colab import files\n",
        "files.download(\"best_model_HDF5_format.h5\")"
      ],
      "metadata": {
        "id": "y_R9PYhKUHKv"
      },
      "execution_count": null,
      "outputs": []
    },
    {
      "cell_type": "markdown",
      "source": [
        "### A larger example\n",
        "\n",
        "Let's step it up a notch and build a model for a more feature rich dataset.\n",
        "\n",
        "More specifically we're going to try predict the cost of medical insurance for individuals based on a number of different parameters such as, age, sex, bmi, children, smoking_status and residential_region.\n",
        "\n",
        "To do, we'll leverage the pubically available Medical Cost dataset available from Kaggle and hosted on GitHub."
      ],
      "metadata": {
        "id": "g_-SBfMVUJJX"
      }
    },
    {
      "cell_type": "code",
      "source": [
        "# Import required libraries\n",
        "import tensorflow as tf\n",
        "import pandas as pd\n",
        "import matplotlib.pyplot as plt"
      ],
      "metadata": {
        "id": "O797lNCDUPzg"
      },
      "execution_count": 61,
      "outputs": []
    },
    {
      "cell_type": "code",
      "source": [
        "# Read in the insurance dataset\n",
        "insurance = pd.read_csv(\"https://raw.githubusercontent.com/stedy/Machine-Learning-with-R-datasets/master/insurance.csv\")"
      ],
      "metadata": {
        "id": "Rh9xNB_fURcb"
      },
      "execution_count": 62,
      "outputs": []
    },
    {
      "cell_type": "code",
      "source": [
        "# Check out the insurance dataset\n",
        "insurance.head()"
      ],
      "metadata": {
        "colab": {
          "base_uri": "https://localhost:8080/",
          "height": 206
        },
        "id": "zf2Pv5wdUSu7",
        "outputId": "51d9e87b-90ee-47f0-f39e-377dee8aa138"
      },
      "execution_count": 63,
      "outputs": [
        {
          "output_type": "execute_result",
          "data": {
            "text/plain": [
              "   age     sex     bmi  children smoker     region      charges\n",
              "0   19  female  27.900         0    yes  southwest  16884.92400\n",
              "1   18    male  33.770         1     no  southeast   1725.55230\n",
              "2   28    male  33.000         3     no  southeast   4449.46200\n",
              "3   33    male  22.705         0     no  northwest  21984.47061\n",
              "4   32    male  28.880         0     no  northwest   3866.85520"
            ],
            "text/html": [
              "\n",
              "  <div id=\"df-84ac4537-d7df-4aaa-96aa-c7bf8cef35cd\">\n",
              "    <div class=\"colab-df-container\">\n",
              "      <div>\n",
              "<style scoped>\n",
              "    .dataframe tbody tr th:only-of-type {\n",
              "        vertical-align: middle;\n",
              "    }\n",
              "\n",
              "    .dataframe tbody tr th {\n",
              "        vertical-align: top;\n",
              "    }\n",
              "\n",
              "    .dataframe thead th {\n",
              "        text-align: right;\n",
              "    }\n",
              "</style>\n",
              "<table border=\"1\" class=\"dataframe\">\n",
              "  <thead>\n",
              "    <tr style=\"text-align: right;\">\n",
              "      <th></th>\n",
              "      <th>age</th>\n",
              "      <th>sex</th>\n",
              "      <th>bmi</th>\n",
              "      <th>children</th>\n",
              "      <th>smoker</th>\n",
              "      <th>region</th>\n",
              "      <th>charges</th>\n",
              "    </tr>\n",
              "  </thead>\n",
              "  <tbody>\n",
              "    <tr>\n",
              "      <th>0</th>\n",
              "      <td>19</td>\n",
              "      <td>female</td>\n",
              "      <td>27.900</td>\n",
              "      <td>0</td>\n",
              "      <td>yes</td>\n",
              "      <td>southwest</td>\n",
              "      <td>16884.92400</td>\n",
              "    </tr>\n",
              "    <tr>\n",
              "      <th>1</th>\n",
              "      <td>18</td>\n",
              "      <td>male</td>\n",
              "      <td>33.770</td>\n",
              "      <td>1</td>\n",
              "      <td>no</td>\n",
              "      <td>southeast</td>\n",
              "      <td>1725.55230</td>\n",
              "    </tr>\n",
              "    <tr>\n",
              "      <th>2</th>\n",
              "      <td>28</td>\n",
              "      <td>male</td>\n",
              "      <td>33.000</td>\n",
              "      <td>3</td>\n",
              "      <td>no</td>\n",
              "      <td>southeast</td>\n",
              "      <td>4449.46200</td>\n",
              "    </tr>\n",
              "    <tr>\n",
              "      <th>3</th>\n",
              "      <td>33</td>\n",
              "      <td>male</td>\n",
              "      <td>22.705</td>\n",
              "      <td>0</td>\n",
              "      <td>no</td>\n",
              "      <td>northwest</td>\n",
              "      <td>21984.47061</td>\n",
              "    </tr>\n",
              "    <tr>\n",
              "      <th>4</th>\n",
              "      <td>32</td>\n",
              "      <td>male</td>\n",
              "      <td>28.880</td>\n",
              "      <td>0</td>\n",
              "      <td>no</td>\n",
              "      <td>northwest</td>\n",
              "      <td>3866.85520</td>\n",
              "    </tr>\n",
              "  </tbody>\n",
              "</table>\n",
              "</div>\n",
              "      <button class=\"colab-df-convert\" onclick=\"convertToInteractive('df-84ac4537-d7df-4aaa-96aa-c7bf8cef35cd')\"\n",
              "              title=\"Convert this dataframe to an interactive table.\"\n",
              "              style=\"display:none;\">\n",
              "        \n",
              "  <svg xmlns=\"http://www.w3.org/2000/svg\" height=\"24px\"viewBox=\"0 0 24 24\"\n",
              "       width=\"24px\">\n",
              "    <path d=\"M0 0h24v24H0V0z\" fill=\"none\"/>\n",
              "    <path d=\"M18.56 5.44l.94 2.06.94-2.06 2.06-.94-2.06-.94-.94-2.06-.94 2.06-2.06.94zm-11 1L8.5 8.5l.94-2.06 2.06-.94-2.06-.94L8.5 2.5l-.94 2.06-2.06.94zm10 10l.94 2.06.94-2.06 2.06-.94-2.06-.94-.94-2.06-.94 2.06-2.06.94z\"/><path d=\"M17.41 7.96l-1.37-1.37c-.4-.4-.92-.59-1.43-.59-.52 0-1.04.2-1.43.59L10.3 9.45l-7.72 7.72c-.78.78-.78 2.05 0 2.83L4 21.41c.39.39.9.59 1.41.59.51 0 1.02-.2 1.41-.59l7.78-7.78 2.81-2.81c.8-.78.8-2.07 0-2.86zM5.41 20L4 18.59l7.72-7.72 1.47 1.35L5.41 20z\"/>\n",
              "  </svg>\n",
              "      </button>\n",
              "      \n",
              "  <style>\n",
              "    .colab-df-container {\n",
              "      display:flex;\n",
              "      flex-wrap:wrap;\n",
              "      gap: 12px;\n",
              "    }\n",
              "\n",
              "    .colab-df-convert {\n",
              "      background-color: #E8F0FE;\n",
              "      border: none;\n",
              "      border-radius: 50%;\n",
              "      cursor: pointer;\n",
              "      display: none;\n",
              "      fill: #1967D2;\n",
              "      height: 32px;\n",
              "      padding: 0 0 0 0;\n",
              "      width: 32px;\n",
              "    }\n",
              "\n",
              "    .colab-df-convert:hover {\n",
              "      background-color: #E2EBFA;\n",
              "      box-shadow: 0px 1px 2px rgba(60, 64, 67, 0.3), 0px 1px 3px 1px rgba(60, 64, 67, 0.15);\n",
              "      fill: #174EA6;\n",
              "    }\n",
              "\n",
              "    [theme=dark] .colab-df-convert {\n",
              "      background-color: #3B4455;\n",
              "      fill: #D2E3FC;\n",
              "    }\n",
              "\n",
              "    [theme=dark] .colab-df-convert:hover {\n",
              "      background-color: #434B5C;\n",
              "      box-shadow: 0px 1px 3px 1px rgba(0, 0, 0, 0.15);\n",
              "      filter: drop-shadow(0px 1px 2px rgba(0, 0, 0, 0.3));\n",
              "      fill: #FFFFFF;\n",
              "    }\n",
              "  </style>\n",
              "\n",
              "      <script>\n",
              "        const buttonEl =\n",
              "          document.querySelector('#df-84ac4537-d7df-4aaa-96aa-c7bf8cef35cd button.colab-df-convert');\n",
              "        buttonEl.style.display =\n",
              "          google.colab.kernel.accessAllowed ? 'block' : 'none';\n",
              "\n",
              "        async function convertToInteractive(key) {\n",
              "          const element = document.querySelector('#df-84ac4537-d7df-4aaa-96aa-c7bf8cef35cd');\n",
              "          const dataTable =\n",
              "            await google.colab.kernel.invokeFunction('convertToInteractive',\n",
              "                                                     [key], {});\n",
              "          if (!dataTable) return;\n",
              "\n",
              "          const docLinkHtml = 'Like what you see? Visit the ' +\n",
              "            '<a target=\"_blank\" href=https://colab.research.google.com/notebooks/data_table.ipynb>data table notebook</a>'\n",
              "            + ' to learn more about interactive tables.';\n",
              "          element.innerHTML = '';\n",
              "          dataTable['output_type'] = 'display_data';\n",
              "          await google.colab.output.renderOutput(dataTable, element);\n",
              "          const docLink = document.createElement('div');\n",
              "          docLink.innerHTML = docLinkHtml;\n",
              "          element.appendChild(docLink);\n",
              "        }\n",
              "      </script>\n",
              "    </div>\n",
              "  </div>\n",
              "  "
            ]
          },
          "metadata": {},
          "execution_count": 63
        }
      ]
    },
    {
      "cell_type": "markdown",
      "source": [
        "We're going to have to turn the non-numerical columns into numbers (because a neural network can't handle non-numerical inputs).\n",
        "\n",
        "To do so, we'll use the get_dummies() method in pandas.\n",
        "\n",
        "It converts categorical variables (like the sex, smoker and region columns) into numerical variables using one-hot encoding."
      ],
      "metadata": {
        "id": "kxS-onMyUWZi"
      }
    },
    {
      "cell_type": "code",
      "source": [
        "# Turn all categories into numbers\n",
        "insurance_one_hot = pd.get_dummies(insurance)\n",
        "insurance_one_hot.head() # view the converted columns"
      ],
      "metadata": {
        "colab": {
          "base_uri": "https://localhost:8080/",
          "height": 206
        },
        "id": "wyLTsIj0UYIy",
        "outputId": "149b007b-fc33-43a5-d6a9-1f90236020db"
      },
      "execution_count": 64,
      "outputs": [
        {
          "output_type": "execute_result",
          "data": {
            "text/plain": [
              "   age     bmi  children      charges  sex_female  sex_male  smoker_no  \\\n",
              "0   19  27.900         0  16884.92400           1         0          0   \n",
              "1   18  33.770         1   1725.55230           0         1          1   \n",
              "2   28  33.000         3   4449.46200           0         1          1   \n",
              "3   33  22.705         0  21984.47061           0         1          1   \n",
              "4   32  28.880         0   3866.85520           0         1          1   \n",
              "\n",
              "   smoker_yes  region_northeast  region_northwest  region_southeast  \\\n",
              "0           1                 0                 0                 0   \n",
              "1           0                 0                 0                 1   \n",
              "2           0                 0                 0                 1   \n",
              "3           0                 0                 1                 0   \n",
              "4           0                 0                 1                 0   \n",
              "\n",
              "   region_southwest  \n",
              "0                 1  \n",
              "1                 0  \n",
              "2                 0  \n",
              "3                 0  \n",
              "4                 0  "
            ],
            "text/html": [
              "\n",
              "  <div id=\"df-d5d2be01-dd93-4c5a-8c59-de95532d92f1\">\n",
              "    <div class=\"colab-df-container\">\n",
              "      <div>\n",
              "<style scoped>\n",
              "    .dataframe tbody tr th:only-of-type {\n",
              "        vertical-align: middle;\n",
              "    }\n",
              "\n",
              "    .dataframe tbody tr th {\n",
              "        vertical-align: top;\n",
              "    }\n",
              "\n",
              "    .dataframe thead th {\n",
              "        text-align: right;\n",
              "    }\n",
              "</style>\n",
              "<table border=\"1\" class=\"dataframe\">\n",
              "  <thead>\n",
              "    <tr style=\"text-align: right;\">\n",
              "      <th></th>\n",
              "      <th>age</th>\n",
              "      <th>bmi</th>\n",
              "      <th>children</th>\n",
              "      <th>charges</th>\n",
              "      <th>sex_female</th>\n",
              "      <th>sex_male</th>\n",
              "      <th>smoker_no</th>\n",
              "      <th>smoker_yes</th>\n",
              "      <th>region_northeast</th>\n",
              "      <th>region_northwest</th>\n",
              "      <th>region_southeast</th>\n",
              "      <th>region_southwest</th>\n",
              "    </tr>\n",
              "  </thead>\n",
              "  <tbody>\n",
              "    <tr>\n",
              "      <th>0</th>\n",
              "      <td>19</td>\n",
              "      <td>27.900</td>\n",
              "      <td>0</td>\n",
              "      <td>16884.92400</td>\n",
              "      <td>1</td>\n",
              "      <td>0</td>\n",
              "      <td>0</td>\n",
              "      <td>1</td>\n",
              "      <td>0</td>\n",
              "      <td>0</td>\n",
              "      <td>0</td>\n",
              "      <td>1</td>\n",
              "    </tr>\n",
              "    <tr>\n",
              "      <th>1</th>\n",
              "      <td>18</td>\n",
              "      <td>33.770</td>\n",
              "      <td>1</td>\n",
              "      <td>1725.55230</td>\n",
              "      <td>0</td>\n",
              "      <td>1</td>\n",
              "      <td>1</td>\n",
              "      <td>0</td>\n",
              "      <td>0</td>\n",
              "      <td>0</td>\n",
              "      <td>1</td>\n",
              "      <td>0</td>\n",
              "    </tr>\n",
              "    <tr>\n",
              "      <th>2</th>\n",
              "      <td>28</td>\n",
              "      <td>33.000</td>\n",
              "      <td>3</td>\n",
              "      <td>4449.46200</td>\n",
              "      <td>0</td>\n",
              "      <td>1</td>\n",
              "      <td>1</td>\n",
              "      <td>0</td>\n",
              "      <td>0</td>\n",
              "      <td>0</td>\n",
              "      <td>1</td>\n",
              "      <td>0</td>\n",
              "    </tr>\n",
              "    <tr>\n",
              "      <th>3</th>\n",
              "      <td>33</td>\n",
              "      <td>22.705</td>\n",
              "      <td>0</td>\n",
              "      <td>21984.47061</td>\n",
              "      <td>0</td>\n",
              "      <td>1</td>\n",
              "      <td>1</td>\n",
              "      <td>0</td>\n",
              "      <td>0</td>\n",
              "      <td>1</td>\n",
              "      <td>0</td>\n",
              "      <td>0</td>\n",
              "    </tr>\n",
              "    <tr>\n",
              "      <th>4</th>\n",
              "      <td>32</td>\n",
              "      <td>28.880</td>\n",
              "      <td>0</td>\n",
              "      <td>3866.85520</td>\n",
              "      <td>0</td>\n",
              "      <td>1</td>\n",
              "      <td>1</td>\n",
              "      <td>0</td>\n",
              "      <td>0</td>\n",
              "      <td>1</td>\n",
              "      <td>0</td>\n",
              "      <td>0</td>\n",
              "    </tr>\n",
              "  </tbody>\n",
              "</table>\n",
              "</div>\n",
              "      <button class=\"colab-df-convert\" onclick=\"convertToInteractive('df-d5d2be01-dd93-4c5a-8c59-de95532d92f1')\"\n",
              "              title=\"Convert this dataframe to an interactive table.\"\n",
              "              style=\"display:none;\">\n",
              "        \n",
              "  <svg xmlns=\"http://www.w3.org/2000/svg\" height=\"24px\"viewBox=\"0 0 24 24\"\n",
              "       width=\"24px\">\n",
              "    <path d=\"M0 0h24v24H0V0z\" fill=\"none\"/>\n",
              "    <path d=\"M18.56 5.44l.94 2.06.94-2.06 2.06-.94-2.06-.94-.94-2.06-.94 2.06-2.06.94zm-11 1L8.5 8.5l.94-2.06 2.06-.94-2.06-.94L8.5 2.5l-.94 2.06-2.06.94zm10 10l.94 2.06.94-2.06 2.06-.94-2.06-.94-.94-2.06-.94 2.06-2.06.94z\"/><path d=\"M17.41 7.96l-1.37-1.37c-.4-.4-.92-.59-1.43-.59-.52 0-1.04.2-1.43.59L10.3 9.45l-7.72 7.72c-.78.78-.78 2.05 0 2.83L4 21.41c.39.39.9.59 1.41.59.51 0 1.02-.2 1.41-.59l7.78-7.78 2.81-2.81c.8-.78.8-2.07 0-2.86zM5.41 20L4 18.59l7.72-7.72 1.47 1.35L5.41 20z\"/>\n",
              "  </svg>\n",
              "      </button>\n",
              "      \n",
              "  <style>\n",
              "    .colab-df-container {\n",
              "      display:flex;\n",
              "      flex-wrap:wrap;\n",
              "      gap: 12px;\n",
              "    }\n",
              "\n",
              "    .colab-df-convert {\n",
              "      background-color: #E8F0FE;\n",
              "      border: none;\n",
              "      border-radius: 50%;\n",
              "      cursor: pointer;\n",
              "      display: none;\n",
              "      fill: #1967D2;\n",
              "      height: 32px;\n",
              "      padding: 0 0 0 0;\n",
              "      width: 32px;\n",
              "    }\n",
              "\n",
              "    .colab-df-convert:hover {\n",
              "      background-color: #E2EBFA;\n",
              "      box-shadow: 0px 1px 2px rgba(60, 64, 67, 0.3), 0px 1px 3px 1px rgba(60, 64, 67, 0.15);\n",
              "      fill: #174EA6;\n",
              "    }\n",
              "\n",
              "    [theme=dark] .colab-df-convert {\n",
              "      background-color: #3B4455;\n",
              "      fill: #D2E3FC;\n",
              "    }\n",
              "\n",
              "    [theme=dark] .colab-df-convert:hover {\n",
              "      background-color: #434B5C;\n",
              "      box-shadow: 0px 1px 3px 1px rgba(0, 0, 0, 0.15);\n",
              "      filter: drop-shadow(0px 1px 2px rgba(0, 0, 0, 0.3));\n",
              "      fill: #FFFFFF;\n",
              "    }\n",
              "  </style>\n",
              "\n",
              "      <script>\n",
              "        const buttonEl =\n",
              "          document.querySelector('#df-d5d2be01-dd93-4c5a-8c59-de95532d92f1 button.colab-df-convert');\n",
              "        buttonEl.style.display =\n",
              "          google.colab.kernel.accessAllowed ? 'block' : 'none';\n",
              "\n",
              "        async function convertToInteractive(key) {\n",
              "          const element = document.querySelector('#df-d5d2be01-dd93-4c5a-8c59-de95532d92f1');\n",
              "          const dataTable =\n",
              "            await google.colab.kernel.invokeFunction('convertToInteractive',\n",
              "                                                     [key], {});\n",
              "          if (!dataTable) return;\n",
              "\n",
              "          const docLinkHtml = 'Like what you see? Visit the ' +\n",
              "            '<a target=\"_blank\" href=https://colab.research.google.com/notebooks/data_table.ipynb>data table notebook</a>'\n",
              "            + ' to learn more about interactive tables.';\n",
              "          element.innerHTML = '';\n",
              "          dataTable['output_type'] = 'display_data';\n",
              "          await google.colab.output.renderOutput(dataTable, element);\n",
              "          const docLink = document.createElement('div');\n",
              "          docLink.innerHTML = docLinkHtml;\n",
              "          element.appendChild(docLink);\n",
              "        }\n",
              "      </script>\n",
              "    </div>\n",
              "  </div>\n",
              "  "
            ]
          },
          "metadata": {},
          "execution_count": 64
        }
      ]
    },
    {
      "cell_type": "code",
      "source": [
        "# Create X & y values\n",
        "X = insurance_one_hot.drop(\"charges\", axis=1)\n",
        "y = insurance_one_hot[\"charges\"]"
      ],
      "metadata": {
        "id": "NRCbE_BkUZjL"
      },
      "execution_count": 65,
      "outputs": []
    },
    {
      "cell_type": "code",
      "source": [
        "# View features\n",
        "X.head()"
      ],
      "metadata": {
        "colab": {
          "base_uri": "https://localhost:8080/",
          "height": 206
        },
        "id": "ewaGxOmrUa3G",
        "outputId": "883a563a-e0ae-469f-c89c-3a2d5cef7539"
      },
      "execution_count": 66,
      "outputs": [
        {
          "output_type": "execute_result",
          "data": {
            "text/plain": [
              "   age     bmi  children  sex_female  sex_male  smoker_no  smoker_yes  \\\n",
              "0   19  27.900         0           1         0          0           1   \n",
              "1   18  33.770         1           0         1          1           0   \n",
              "2   28  33.000         3           0         1          1           0   \n",
              "3   33  22.705         0           0         1          1           0   \n",
              "4   32  28.880         0           0         1          1           0   \n",
              "\n",
              "   region_northeast  region_northwest  region_southeast  region_southwest  \n",
              "0                 0                 0                 0                 1  \n",
              "1                 0                 0                 1                 0  \n",
              "2                 0                 0                 1                 0  \n",
              "3                 0                 1                 0                 0  \n",
              "4                 0                 1                 0                 0  "
            ],
            "text/html": [
              "\n",
              "  <div id=\"df-9576874f-5932-490d-9271-fe188ff33ff8\">\n",
              "    <div class=\"colab-df-container\">\n",
              "      <div>\n",
              "<style scoped>\n",
              "    .dataframe tbody tr th:only-of-type {\n",
              "        vertical-align: middle;\n",
              "    }\n",
              "\n",
              "    .dataframe tbody tr th {\n",
              "        vertical-align: top;\n",
              "    }\n",
              "\n",
              "    .dataframe thead th {\n",
              "        text-align: right;\n",
              "    }\n",
              "</style>\n",
              "<table border=\"1\" class=\"dataframe\">\n",
              "  <thead>\n",
              "    <tr style=\"text-align: right;\">\n",
              "      <th></th>\n",
              "      <th>age</th>\n",
              "      <th>bmi</th>\n",
              "      <th>children</th>\n",
              "      <th>sex_female</th>\n",
              "      <th>sex_male</th>\n",
              "      <th>smoker_no</th>\n",
              "      <th>smoker_yes</th>\n",
              "      <th>region_northeast</th>\n",
              "      <th>region_northwest</th>\n",
              "      <th>region_southeast</th>\n",
              "      <th>region_southwest</th>\n",
              "    </tr>\n",
              "  </thead>\n",
              "  <tbody>\n",
              "    <tr>\n",
              "      <th>0</th>\n",
              "      <td>19</td>\n",
              "      <td>27.900</td>\n",
              "      <td>0</td>\n",
              "      <td>1</td>\n",
              "      <td>0</td>\n",
              "      <td>0</td>\n",
              "      <td>1</td>\n",
              "      <td>0</td>\n",
              "      <td>0</td>\n",
              "      <td>0</td>\n",
              "      <td>1</td>\n",
              "    </tr>\n",
              "    <tr>\n",
              "      <th>1</th>\n",
              "      <td>18</td>\n",
              "      <td>33.770</td>\n",
              "      <td>1</td>\n",
              "      <td>0</td>\n",
              "      <td>1</td>\n",
              "      <td>1</td>\n",
              "      <td>0</td>\n",
              "      <td>0</td>\n",
              "      <td>0</td>\n",
              "      <td>1</td>\n",
              "      <td>0</td>\n",
              "    </tr>\n",
              "    <tr>\n",
              "      <th>2</th>\n",
              "      <td>28</td>\n",
              "      <td>33.000</td>\n",
              "      <td>3</td>\n",
              "      <td>0</td>\n",
              "      <td>1</td>\n",
              "      <td>1</td>\n",
              "      <td>0</td>\n",
              "      <td>0</td>\n",
              "      <td>0</td>\n",
              "      <td>1</td>\n",
              "      <td>0</td>\n",
              "    </tr>\n",
              "    <tr>\n",
              "      <th>3</th>\n",
              "      <td>33</td>\n",
              "      <td>22.705</td>\n",
              "      <td>0</td>\n",
              "      <td>0</td>\n",
              "      <td>1</td>\n",
              "      <td>1</td>\n",
              "      <td>0</td>\n",
              "      <td>0</td>\n",
              "      <td>1</td>\n",
              "      <td>0</td>\n",
              "      <td>0</td>\n",
              "    </tr>\n",
              "    <tr>\n",
              "      <th>4</th>\n",
              "      <td>32</td>\n",
              "      <td>28.880</td>\n",
              "      <td>0</td>\n",
              "      <td>0</td>\n",
              "      <td>1</td>\n",
              "      <td>1</td>\n",
              "      <td>0</td>\n",
              "      <td>0</td>\n",
              "      <td>1</td>\n",
              "      <td>0</td>\n",
              "      <td>0</td>\n",
              "    </tr>\n",
              "  </tbody>\n",
              "</table>\n",
              "</div>\n",
              "      <button class=\"colab-df-convert\" onclick=\"convertToInteractive('df-9576874f-5932-490d-9271-fe188ff33ff8')\"\n",
              "              title=\"Convert this dataframe to an interactive table.\"\n",
              "              style=\"display:none;\">\n",
              "        \n",
              "  <svg xmlns=\"http://www.w3.org/2000/svg\" height=\"24px\"viewBox=\"0 0 24 24\"\n",
              "       width=\"24px\">\n",
              "    <path d=\"M0 0h24v24H0V0z\" fill=\"none\"/>\n",
              "    <path d=\"M18.56 5.44l.94 2.06.94-2.06 2.06-.94-2.06-.94-.94-2.06-.94 2.06-2.06.94zm-11 1L8.5 8.5l.94-2.06 2.06-.94-2.06-.94L8.5 2.5l-.94 2.06-2.06.94zm10 10l.94 2.06.94-2.06 2.06-.94-2.06-.94-.94-2.06-.94 2.06-2.06.94z\"/><path d=\"M17.41 7.96l-1.37-1.37c-.4-.4-.92-.59-1.43-.59-.52 0-1.04.2-1.43.59L10.3 9.45l-7.72 7.72c-.78.78-.78 2.05 0 2.83L4 21.41c.39.39.9.59 1.41.59.51 0 1.02-.2 1.41-.59l7.78-7.78 2.81-2.81c.8-.78.8-2.07 0-2.86zM5.41 20L4 18.59l7.72-7.72 1.47 1.35L5.41 20z\"/>\n",
              "  </svg>\n",
              "      </button>\n",
              "      \n",
              "  <style>\n",
              "    .colab-df-container {\n",
              "      display:flex;\n",
              "      flex-wrap:wrap;\n",
              "      gap: 12px;\n",
              "    }\n",
              "\n",
              "    .colab-df-convert {\n",
              "      background-color: #E8F0FE;\n",
              "      border: none;\n",
              "      border-radius: 50%;\n",
              "      cursor: pointer;\n",
              "      display: none;\n",
              "      fill: #1967D2;\n",
              "      height: 32px;\n",
              "      padding: 0 0 0 0;\n",
              "      width: 32px;\n",
              "    }\n",
              "\n",
              "    .colab-df-convert:hover {\n",
              "      background-color: #E2EBFA;\n",
              "      box-shadow: 0px 1px 2px rgba(60, 64, 67, 0.3), 0px 1px 3px 1px rgba(60, 64, 67, 0.15);\n",
              "      fill: #174EA6;\n",
              "    }\n",
              "\n",
              "    [theme=dark] .colab-df-convert {\n",
              "      background-color: #3B4455;\n",
              "      fill: #D2E3FC;\n",
              "    }\n",
              "\n",
              "    [theme=dark] .colab-df-convert:hover {\n",
              "      background-color: #434B5C;\n",
              "      box-shadow: 0px 1px 3px 1px rgba(0, 0, 0, 0.15);\n",
              "      filter: drop-shadow(0px 1px 2px rgba(0, 0, 0, 0.3));\n",
              "      fill: #FFFFFF;\n",
              "    }\n",
              "  </style>\n",
              "\n",
              "      <script>\n",
              "        const buttonEl =\n",
              "          document.querySelector('#df-9576874f-5932-490d-9271-fe188ff33ff8 button.colab-df-convert');\n",
              "        buttonEl.style.display =\n",
              "          google.colab.kernel.accessAllowed ? 'block' : 'none';\n",
              "\n",
              "        async function convertToInteractive(key) {\n",
              "          const element = document.querySelector('#df-9576874f-5932-490d-9271-fe188ff33ff8');\n",
              "          const dataTable =\n",
              "            await google.colab.kernel.invokeFunction('convertToInteractive',\n",
              "                                                     [key], {});\n",
              "          if (!dataTable) return;\n",
              "\n",
              "          const docLinkHtml = 'Like what you see? Visit the ' +\n",
              "            '<a target=\"_blank\" href=https://colab.research.google.com/notebooks/data_table.ipynb>data table notebook</a>'\n",
              "            + ' to learn more about interactive tables.';\n",
              "          element.innerHTML = '';\n",
              "          dataTable['output_type'] = 'display_data';\n",
              "          await google.colab.output.renderOutput(dataTable, element);\n",
              "          const docLink = document.createElement('div');\n",
              "          docLink.innerHTML = docLinkHtml;\n",
              "          element.appendChild(docLink);\n",
              "        }\n",
              "      </script>\n",
              "    </div>\n",
              "  </div>\n",
              "  "
            ]
          },
          "metadata": {},
          "execution_count": 66
        }
      ]
    },
    {
      "cell_type": "markdown",
      "source": [
        "\n",
        "And create training and test sets. We could do this manually, but to make it easier, we'll leverage the already available train_test_split function available from Scikit-Learn."
      ],
      "metadata": {
        "id": "aUTuyIGaUd3M"
      }
    },
    {
      "cell_type": "code",
      "source": [
        "# Create training and test sets\n",
        "from sklearn.model_selection import train_test_split\n",
        "X_train, X_test, y_train, y_test = train_test_split(X, \n",
        "                                                    y, \n",
        "                                                    test_size=0.2, \n",
        "                                                    random_state=42) # set random state for reproducible splits"
      ],
      "metadata": {
        "id": "8H1Yz62NUdRi"
      },
      "execution_count": 67,
      "outputs": []
    },
    {
      "cell_type": "markdown",
      "source": [
        "Now we can build and fit a model (we'll make it the same as model_2)."
      ],
      "metadata": {
        "id": "fEwL6N71Ugnu"
      }
    },
    {
      "cell_type": "code",
      "source": [
        "# Set random seed\n",
        "tf.random.set_seed(42)\n",
        "\n",
        "# Create a new model (same as model_2)\n",
        "insurance_model = tf.keras.Sequential([\n",
        "  tf.keras.layers.Dense(1),\n",
        "  tf.keras.layers.Dense(1)\n",
        "])\n",
        "\n",
        "# Compile the model\n",
        "insurance_model.compile(loss=tf.keras.losses.mae,\n",
        "                        optimizer=tf.keras.optimizers.SGD(),\n",
        "                        metrics=['mae'])\n",
        "\n",
        "# Fit the model\n",
        "insurance_model.fit(X_train, y_train, epochs=100)"
      ],
      "metadata": {
        "colab": {
          "base_uri": "https://localhost:8080/"
        },
        "id": "P07QzILqUheR",
        "outputId": "6d074ca3-dfbb-4334-f6b4-35e9b31d0c10"
      },
      "execution_count": 68,
      "outputs": [
        {
          "output_type": "stream",
          "name": "stdout",
          "text": [
            "Epoch 1/100\n",
            "34/34 [==============================] - 0s 2ms/step - loss: 8868.5918 - mae: 8868.5918\n",
            "Epoch 2/100\n",
            "34/34 [==============================] - 0s 2ms/step - loss: 7887.1597 - mae: 7887.1597\n",
            "Epoch 3/100\n",
            "34/34 [==============================] - 0s 2ms/step - loss: 7537.0947 - mae: 7537.0947\n",
            "Epoch 4/100\n",
            "34/34 [==============================] - 0s 2ms/step - loss: 7859.4336 - mae: 7859.4336\n",
            "Epoch 5/100\n",
            "34/34 [==============================] - 0s 3ms/step - loss: 7639.6699 - mae: 7639.6699\n",
            "Epoch 6/100\n",
            "34/34 [==============================] - 0s 3ms/step - loss: 7578.0840 - mae: 7578.0840\n",
            "Epoch 7/100\n",
            "34/34 [==============================] - 0s 3ms/step - loss: 7514.6162 - mae: 7514.6162\n",
            "Epoch 8/100\n",
            "34/34 [==============================] - 0s 2ms/step - loss: 7694.1348 - mae: 7694.1348\n",
            "Epoch 9/100\n",
            "34/34 [==============================] - 0s 2ms/step - loss: 7595.9121 - mae: 7595.9121\n",
            "Epoch 10/100\n",
            "34/34 [==============================] - 0s 2ms/step - loss: 7735.9106 - mae: 7735.9106\n",
            "Epoch 11/100\n",
            "34/34 [==============================] - 0s 2ms/step - loss: 7444.4185 - mae: 7444.4185\n",
            "Epoch 12/100\n",
            "34/34 [==============================] - 0s 3ms/step - loss: 7678.0332 - mae: 7678.0332\n",
            "Epoch 13/100\n",
            "34/34 [==============================] - 0s 2ms/step - loss: 7681.5835 - mae: 7681.5835\n",
            "Epoch 14/100\n",
            "34/34 [==============================] - 0s 3ms/step - loss: 7702.2842 - mae: 7702.2842\n",
            "Epoch 15/100\n",
            "34/34 [==============================] - 0s 3ms/step - loss: 7585.8931 - mae: 7585.8931\n",
            "Epoch 16/100\n",
            "34/34 [==============================] - 0s 3ms/step - loss: 7689.5356 - mae: 7689.5356\n",
            "Epoch 17/100\n",
            "34/34 [==============================] - 0s 2ms/step - loss: 7509.2036 - mae: 7509.2036\n",
            "Epoch 18/100\n",
            "34/34 [==============================] - 0s 3ms/step - loss: 7695.0083 - mae: 7695.0083\n",
            "Epoch 19/100\n",
            "34/34 [==============================] - 0s 2ms/step - loss: 7669.3740 - mae: 7669.3740\n",
            "Epoch 20/100\n",
            "34/34 [==============================] - 0s 2ms/step - loss: 7901.1362 - mae: 7901.1362\n",
            "Epoch 21/100\n",
            "34/34 [==============================] - 0s 3ms/step - loss: 7552.4819 - mae: 7552.4819\n",
            "Epoch 22/100\n",
            "34/34 [==============================] - 0s 2ms/step - loss: 7844.9971 - mae: 7844.9971\n",
            "Epoch 23/100\n",
            "34/34 [==============================] - 0s 2ms/step - loss: 7642.2505 - mae: 7642.2505\n",
            "Epoch 24/100\n",
            "34/34 [==============================] - 0s 2ms/step - loss: 7515.3096 - mae: 7515.3096\n",
            "Epoch 25/100\n",
            "34/34 [==============================] - 0s 2ms/step - loss: 7678.3521 - mae: 7678.3521\n",
            "Epoch 26/100\n",
            "34/34 [==============================] - 0s 2ms/step - loss: 7653.0283 - mae: 7653.0283\n",
            "Epoch 27/100\n",
            "34/34 [==============================] - 0s 3ms/step - loss: 7559.5464 - mae: 7559.5464\n",
            "Epoch 28/100\n",
            "34/34 [==============================] - 0s 2ms/step - loss: 7459.9404 - mae: 7459.9404\n",
            "Epoch 29/100\n",
            "34/34 [==============================] - 0s 2ms/step - loss: 7618.6182 - mae: 7618.6182\n",
            "Epoch 30/100\n",
            "34/34 [==============================] - 0s 2ms/step - loss: 7628.6250 - mae: 7628.6250\n",
            "Epoch 31/100\n",
            "34/34 [==============================] - 0s 2ms/step - loss: 7540.4888 - mae: 7540.4888\n",
            "Epoch 32/100\n",
            "34/34 [==============================] - 0s 3ms/step - loss: 7486.0176 - mae: 7486.0176\n",
            "Epoch 33/100\n",
            "34/34 [==============================] - 0s 2ms/step - loss: 7418.6636 - mae: 7418.6636\n",
            "Epoch 34/100\n",
            "34/34 [==============================] - 0s 2ms/step - loss: 7480.7305 - mae: 7480.7305\n",
            "Epoch 35/100\n",
            "34/34 [==============================] - 0s 2ms/step - loss: 7615.3110 - mae: 7615.3110\n",
            "Epoch 36/100\n",
            "34/34 [==============================] - 0s 3ms/step - loss: 7566.7886 - mae: 7566.7886\n",
            "Epoch 37/100\n",
            "34/34 [==============================] - 0s 2ms/step - loss: 7661.0869 - mae: 7661.0869\n",
            "Epoch 38/100\n",
            "34/34 [==============================] - 0s 2ms/step - loss: 7522.6816 - mae: 7522.6816\n",
            "Epoch 39/100\n",
            "34/34 [==============================] - 0s 3ms/step - loss: 7556.0698 - mae: 7556.0698\n",
            "Epoch 40/100\n",
            "34/34 [==============================] - 0s 2ms/step - loss: 7433.5664 - mae: 7433.5664\n",
            "Epoch 41/100\n",
            "34/34 [==============================] - 0s 2ms/step - loss: 7722.4321 - mae: 7722.4321\n",
            "Epoch 42/100\n",
            "34/34 [==============================] - 0s 3ms/step - loss: 7344.2690 - mae: 7344.2690\n",
            "Epoch 43/100\n",
            "34/34 [==============================] - 0s 2ms/step - loss: 7597.4331 - mae: 7597.4331\n",
            "Epoch 44/100\n",
            "34/34 [==============================] - 0s 2ms/step - loss: 7338.0142 - mae: 7338.0142\n",
            "Epoch 45/100\n",
            "34/34 [==============================] - 0s 2ms/step - loss: 7510.3462 - mae: 7510.3462\n",
            "Epoch 46/100\n",
            "34/34 [==============================] - 0s 3ms/step - loss: 7413.5796 - mae: 7413.5796\n",
            "Epoch 47/100\n",
            "34/34 [==============================] - 0s 2ms/step - loss: 7451.0391 - mae: 7451.0391\n",
            "Epoch 48/100\n",
            "34/34 [==============================] - 0s 2ms/step - loss: 7340.5386 - mae: 7340.5386\n",
            "Epoch 49/100\n",
            "34/34 [==============================] - 0s 2ms/step - loss: 7481.9971 - mae: 7481.9971\n",
            "Epoch 50/100\n",
            "34/34 [==============================] - 0s 3ms/step - loss: 7468.2852 - mae: 7468.2852\n",
            "Epoch 51/100\n",
            "34/34 [==============================] - 0s 2ms/step - loss: 7411.3418 - mae: 7411.3418\n",
            "Epoch 52/100\n",
            "34/34 [==============================] - 0s 2ms/step - loss: 7460.0806 - mae: 7460.0806\n",
            "Epoch 53/100\n",
            "34/34 [==============================] - 0s 2ms/step - loss: 7601.6606 - mae: 7601.6606\n",
            "Epoch 54/100\n",
            "34/34 [==============================] - 0s 2ms/step - loss: 7241.2549 - mae: 7241.2549\n",
            "Epoch 55/100\n",
            "34/34 [==============================] - 0s 2ms/step - loss: 7539.6948 - mae: 7539.6948\n",
            "Epoch 56/100\n",
            "34/34 [==============================] - 0s 2ms/step - loss: 7293.2012 - mae: 7293.2012\n",
            "Epoch 57/100\n",
            "34/34 [==============================] - 0s 3ms/step - loss: 7417.9722 - mae: 7417.9722\n",
            "Epoch 58/100\n",
            "34/34 [==============================] - 0s 2ms/step - loss: 7353.0615 - mae: 7353.0615\n",
            "Epoch 59/100\n",
            "34/34 [==============================] - 0s 2ms/step - loss: 7643.8242 - mae: 7643.8242\n",
            "Epoch 60/100\n",
            "34/34 [==============================] - 0s 2ms/step - loss: 7410.3989 - mae: 7410.3989\n",
            "Epoch 61/100\n",
            "34/34 [==============================] - 0s 3ms/step - loss: 7612.8340 - mae: 7612.8340\n",
            "Epoch 62/100\n",
            "34/34 [==============================] - 0s 3ms/step - loss: 7387.9087 - mae: 7387.9087\n",
            "Epoch 63/100\n",
            "34/34 [==============================] - 0s 2ms/step - loss: 7359.5596 - mae: 7359.5596\n",
            "Epoch 64/100\n",
            "34/34 [==============================] - 0s 2ms/step - loss: 7109.0879 - mae: 7109.0879\n",
            "Epoch 65/100\n",
            "34/34 [==============================] - 0s 3ms/step - loss: 7396.3223 - mae: 7396.3223\n",
            "Epoch 66/100\n",
            "34/34 [==============================] - 0s 3ms/step - loss: 7179.8618 - mae: 7179.8618\n",
            "Epoch 67/100\n",
            "34/34 [==============================] - 0s 2ms/step - loss: 7289.7710 - mae: 7289.7710\n",
            "Epoch 68/100\n",
            "34/34 [==============================] - 0s 2ms/step - loss: 7523.6968 - mae: 7523.6968\n",
            "Epoch 69/100\n",
            "34/34 [==============================] - 0s 4ms/step - loss: 7442.6157 - mae: 7442.6157\n",
            "Epoch 70/100\n",
            "34/34 [==============================] - 0s 4ms/step - loss: 7673.4829 - mae: 7673.4829\n",
            "Epoch 71/100\n",
            "34/34 [==============================] - 0s 4ms/step - loss: 7276.0332 - mae: 7276.0332\n",
            "Epoch 72/100\n",
            "34/34 [==============================] - 0s 3ms/step - loss: 7246.3726 - mae: 7246.3726\n",
            "Epoch 73/100\n",
            "34/34 [==============================] - 0s 4ms/step - loss: 7372.0708 - mae: 7372.0708\n",
            "Epoch 74/100\n",
            "34/34 [==============================] - 0s 4ms/step - loss: 7512.0742 - mae: 7512.0742\n",
            "Epoch 75/100\n",
            "34/34 [==============================] - 0s 3ms/step - loss: 7269.7441 - mae: 7269.7441\n",
            "Epoch 76/100\n",
            "34/34 [==============================] - 0s 4ms/step - loss: 7199.5054 - mae: 7199.5054\n",
            "Epoch 77/100\n",
            "34/34 [==============================] - 0s 4ms/step - loss: 7261.2925 - mae: 7261.2925\n",
            "Epoch 78/100\n",
            "34/34 [==============================] - 0s 4ms/step - loss: 7185.7632 - mae: 7185.7632\n",
            "Epoch 79/100\n",
            "34/34 [==============================] - 0s 4ms/step - loss: 7301.7490 - mae: 7301.7490\n",
            "Epoch 80/100\n",
            "34/34 [==============================] - 0s 2ms/step - loss: 7002.6313 - mae: 7002.6313\n",
            "Epoch 81/100\n",
            "34/34 [==============================] - 0s 2ms/step - loss: 7289.1362 - mae: 7289.1362\n",
            "Epoch 82/100\n",
            "34/34 [==============================] - 0s 2ms/step - loss: 7155.3945 - mae: 7155.3945\n",
            "Epoch 83/100\n",
            "34/34 [==============================] - 0s 3ms/step - loss: 7475.1709 - mae: 7475.1709\n",
            "Epoch 84/100\n",
            "34/34 [==============================] - 0s 3ms/step - loss: 7387.3672 - mae: 7387.3672\n",
            "Epoch 85/100\n",
            "34/34 [==============================] - 0s 2ms/step - loss: 7289.9453 - mae: 7289.9453\n",
            "Epoch 86/100\n",
            "34/34 [==============================] - 0s 2ms/step - loss: 7268.0947 - mae: 7268.0947\n",
            "Epoch 87/100\n",
            "34/34 [==============================] - 0s 2ms/step - loss: 7238.5869 - mae: 7238.5869\n",
            "Epoch 88/100\n",
            "34/34 [==============================] - 0s 3ms/step - loss: 7201.7344 - mae: 7201.7344\n",
            "Epoch 89/100\n",
            "34/34 [==============================] - 0s 3ms/step - loss: 7538.0747 - mae: 7538.0747\n",
            "Epoch 90/100\n",
            "34/34 [==============================] - 0s 2ms/step - loss: 6967.1172 - mae: 6967.1172\n",
            "Epoch 91/100\n",
            "34/34 [==============================] - 0s 2ms/step - loss: 7314.1289 - mae: 7314.1289\n",
            "Epoch 92/100\n",
            "34/34 [==============================] - 0s 3ms/step - loss: 7192.3115 - mae: 7192.3115\n",
            "Epoch 93/100\n",
            "34/34 [==============================] - 0s 2ms/step - loss: 7530.8770 - mae: 7530.8770\n",
            "Epoch 94/100\n",
            "34/34 [==============================] - 0s 2ms/step - loss: 7187.3579 - mae: 7187.3579\n",
            "Epoch 95/100\n",
            "34/34 [==============================] - 0s 3ms/step - loss: 7561.5630 - mae: 7561.5630\n",
            "Epoch 96/100\n",
            "34/34 [==============================] - 0s 2ms/step - loss: 7263.4639 - mae: 7263.4639\n",
            "Epoch 97/100\n",
            "34/34 [==============================] - 0s 2ms/step - loss: 7146.2900 - mae: 7146.2900\n",
            "Epoch 98/100\n",
            "34/34 [==============================] - 0s 2ms/step - loss: 7247.9248 - mae: 7247.9248\n",
            "Epoch 99/100\n",
            "34/34 [==============================] - 0s 3ms/step - loss: 7200.6689 - mae: 7200.6689\n",
            "Epoch 100/100\n",
            "34/34 [==============================] - 0s 2ms/step - loss: 7301.6870 - mae: 7301.6870\n"
          ]
        },
        {
          "output_type": "execute_result",
          "data": {
            "text/plain": [
              "<keras.callbacks.History at 0x7f67b0db09a0>"
            ]
          },
          "metadata": {},
          "execution_count": 68
        }
      ]
    },
    {
      "cell_type": "code",
      "source": [
        "# Check the results of the insurance model\n",
        "insurance_model.evaluate(X_test, y_test)"
      ],
      "metadata": {
        "colab": {
          "base_uri": "https://localhost:8080/"
        },
        "id": "62lLfysZUkLh",
        "outputId": "0219478b-aec0-40be-b2fb-4c62be762c6d"
      },
      "execution_count": 69,
      "outputs": [
        {
          "output_type": "stream",
          "name": "stdout",
          "text": [
            "9/9 [==============================] - 0s 3ms/step - loss: 8628.2344 - mae: 8628.2344\n"
          ]
        },
        {
          "output_type": "execute_result",
          "data": {
            "text/plain": [
              "[8628.234375, 8628.234375]"
            ]
          },
          "metadata": {},
          "execution_count": 69
        }
      ]
    },
    {
      "cell_type": "markdown",
      "source": [
        "Our model didn't perform very well, let's try a bigger model.\n",
        "\n",
        "We'll try 3 things:\n",
        "\n",
        "Increasing the number of layers (2 -> 3).\n",
        "\n",
        "Increasing the number of units in each layer (except for the output layer).\n",
        "\n",
        "Changing the optimizer (from SGD to Adam)."
      ],
      "metadata": {
        "id": "wFyI8KJqUm82"
      }
    },
    {
      "cell_type": "code",
      "source": [
        "# Set random seed\n",
        "tf.random.set_seed(42)\n",
        "\n",
        "# Add an extra layer and increase number of units\n",
        "insurance_model_2 = tf.keras.Sequential([\n",
        "  tf.keras.layers.Dense(100), # 100 units\n",
        "  tf.keras.layers.Dense(10), # 10 units\n",
        "  tf.keras.layers.Dense(1) # 1 unit (important for output layer)\n",
        "])\n",
        "\n",
        "# Compile the model\n",
        "insurance_model_2.compile(loss=tf.keras.losses.mae,\n",
        "                          optimizer=tf.keras.optimizers.Adam(), # Adam works but SGD doesn't \n",
        "                          metrics=['mae'])\n",
        "\n",
        "# Fit the model and save the history (we can plot this)\n",
        "history = insurance_model_2.fit(X_train, y_train, epochs=100, verbose=0)"
      ],
      "metadata": {
        "id": "7HYszj4eUoB2"
      },
      "execution_count": 70,
      "outputs": []
    },
    {
      "cell_type": "code",
      "source": [
        "# Evaluate our larger model\n",
        "insurance_model_2.evaluate(X_test, y_test)"
      ],
      "metadata": {
        "colab": {
          "base_uri": "https://localhost:8080/"
        },
        "id": "C80CSndFUqTP",
        "outputId": "3effda1f-e2a0-48c3-9211-2aa126151454"
      },
      "execution_count": 71,
      "outputs": [
        {
          "output_type": "stream",
          "name": "stdout",
          "text": [
            "9/9 [==============================] - 0s 2ms/step - loss: 4924.5107 - mae: 4924.5107\n"
          ]
        },
        {
          "output_type": "execute_result",
          "data": {
            "text/plain": [
              "[4924.5107421875, 4924.5107421875]"
            ]
          },
          "metadata": {},
          "execution_count": 71
        }
      ]
    },
    {
      "cell_type": "code",
      "source": [
        "# Plot history (also known as a loss curve)\n",
        "pd.DataFrame(history.history).plot()\n",
        "plt.ylabel(\"loss\")\n",
        "plt.xlabel(\"epochs\");"
      ],
      "metadata": {
        "colab": {
          "base_uri": "https://localhost:8080/",
          "height": 279
        },
        "id": "D9AwnwhqUrgF",
        "outputId": "fa73774a-120b-4005-dd1a-3f084bd5942c"
      },
      "execution_count": 72,
      "outputs": [
        {
          "output_type": "display_data",
          "data": {
            "text/plain": [
              "<Figure size 432x288 with 1 Axes>"
            ],
            "image/png": "[encoded data removed]"
          },
          "metadata": {
            "needs_background": "light"
          }
        }
      ]
    },
    {
      "cell_type": "markdown",
      "source": [
        "From this, it looks like our model's loss (and MAE) were both still decreasing (in our case, MAE and loss are the same, hence the lines in the plot overlap eachother).\n",
        "\n",
        "What this tells us is the loss might go down if we try training it for longer."
      ],
      "metadata": {
        "id": "RGfPtmnaUwY-"
      }
    },
    {
      "cell_type": "code",
      "source": [
        "# Try training for a little longer (100 more epochs)\n",
        "history_2 = insurance_model_2.fit(X_train, y_train, epochs=100, verbose=0)"
      ],
      "metadata": {
        "id": "0O_dw4TaUs7m"
      },
      "execution_count": 73,
      "outputs": []
    },
    {
      "cell_type": "code",
      "source": [
        "# Evaluate the model trained for 200 total epochs\n",
        "insurance_model_2_loss, insurance_model_2_mae = insurance_model_2.evaluate(X_test, y_test)\n",
        "insurance_model_2_loss, insurance_model_2_mae"
      ],
      "metadata": {
        "colab": {
          "base_uri": "https://localhost:8080/"
        },
        "id": "b3I1UxIJUz59",
        "outputId": "252f55f0-6c67-460c-dbef-7b334d440fb5"
      },
      "execution_count": 74,
      "outputs": [
        {
          "output_type": "stream",
          "name": "stdout",
          "text": [
            "9/9 [==============================] - 0s 7ms/step - loss: 3495.8022 - mae: 3495.8022\n"
          ]
        },
        {
          "output_type": "execute_result",
          "data": {
            "text/plain": [
              "(3495.80224609375, 3495.80224609375)"
            ]
          },
          "metadata": {},
          "execution_count": 74
        }
      ]
    },
    {
      "cell_type": "code",
      "source": [
        "# Plot the model trained for 200 total epochs loss curves\n",
        "pd.DataFrame(history_2.history).plot()\n",
        "plt.ylabel(\"loss\")\n",
        "plt.xlabel(\"epochs\"); # note: epochs will only show 100 since we overrid the history variable"
      ],
      "metadata": {
        "colab": {
          "base_uri": "https://localhost:8080/",
          "height": 279
        },
        "id": "YnTg__p0U10I",
        "outputId": "5493ddc1-a230-4d03-f17c-283304ac7a46"
      },
      "execution_count": 75,
      "outputs": [
        {
          "output_type": "display_data",
          "data": {
            "text/plain": [
              "<Figure size 432x288 with 1 Axes>"
            ],
            "image/png": "[encoded data removed]"
          },
          "metadata": {
            "needs_background": "light"
          }
        }
      ]
    },
    {
      "cell_type": "markdown",
      "source": [
        "\n",
        "Preprocessing data (normalization and standardization)\n",
        "A common practice when working with neural networks is to make sure all of the data you pass to them is in the range 0 to 1.\n",
        "\n",
        "This practice is called normalization (scaling all values from their original range to, e.g. between 0 and 100,000 to be between 0 and 1).\n",
        "\n",
        "There is another process call standardization which converts all of your data to unit variance and 0 mean.\n",
        "\n",
        "These two practices are often part of a preprocessing pipeline (a series of functions to prepare your data for use with neural networks).\n",
        "\n",
        "Knowing this, some of the major steps you'll take to preprocess your data for a neural network include:\n",
        "\n",
        "1. Turning all of your data to numbers (a neural network can't handle strings).\n",
        "2. Making sure your data is in the right shape (verifying input and output shapes).\n",
        "3. Feature scaling:\n",
        "\n",
        "Normalizing data (making sure all values are between 0 and 1). This is done by subtracting the minimum value then dividing by the maximum value minus the minmum. This is also referred to as min-max scaling.\n",
        "\n",
        "Standardization (making sure all values have a mean of 0 and a variance of 1). This is done by substracting the mean value from the target feature and then dividing it by the standard deviation.\n",
        "\n",
        "Which one should you use?\n",
        "\n",
        "With neural networks you'll tend to favour normalization as they tend to prefer values between 0 and 1 (you'll see this espcially with image processing), however, you'll often find a neural network can perform pretty well with minimal feature scaling."
      ],
      "metadata": {
        "id": "D1XIB4dyVKhN"
      }
    },
    {
      "cell_type": "code",
      "source": [
        "import pandas as pd\n",
        "import matplotlib.pyplot as plt\n",
        "import tensorflow as tf\n",
        "\n",
        "# Read in the insurance dataset\n",
        "insurance = pd.read_csv(\"https://raw.githubusercontent.com/stedy/Machine-Learning-with-R-datasets/master/insurance.csv\")"
      ],
      "metadata": {
        "id": "TBpT-_dWVRiH"
      },
      "execution_count": 76,
      "outputs": []
    },
    {
      "cell_type": "code",
      "source": [
        "# Check out the data\n",
        "insurance.head()"
      ],
      "metadata": {
        "colab": {
          "base_uri": "https://localhost:8080/",
          "height": 206
        },
        "id": "GECNk8PEVTrn",
        "outputId": "f525b51a-6541-4e42-ff15-4fbddceb48c9"
      },
      "execution_count": 77,
      "outputs": [
        {
          "output_type": "execute_result",
          "data": {
            "text/plain": [
              "   age     sex     bmi  children smoker     region      charges\n",
              "0   19  female  27.900         0    yes  southwest  16884.92400\n",
              "1   18    male  33.770         1     no  southeast   1725.55230\n",
              "2   28    male  33.000         3     no  southeast   4449.46200\n",
              "3   33    male  22.705         0     no  northwest  21984.47061\n",
              "4   32    male  28.880         0     no  northwest   3866.85520"
            ],
            "text/html": [
              "\n",
              "  <div id=\"df-bfa0b278-0652-4e21-902d-ed7fac260c2d\">\n",
              "    <div class=\"colab-df-container\">\n",
              "      <div>\n",
              "<style scoped>\n",
              "    .dataframe tbody tr th:only-of-type {\n",
              "        vertical-align: middle;\n",
              "    }\n",
              "\n",
              "    .dataframe tbody tr th {\n",
              "        vertical-align: top;\n",
              "    }\n",
              "\n",
              "    .dataframe thead th {\n",
              "        text-align: right;\n",
              "    }\n",
              "</style>\n",
              "<table border=\"1\" class=\"dataframe\">\n",
              "  <thead>\n",
              "    <tr style=\"text-align: right;\">\n",
              "      <th></th>\n",
              "      <th>age</th>\n",
              "      <th>sex</th>\n",
              "      <th>bmi</th>\n",
              "      <th>children</th>\n",
              "      <th>smoker</th>\n",
              "      <th>region</th>\n",
              "      <th>charges</th>\n",
              "    </tr>\n",
              "  </thead>\n",
              "  <tbody>\n",
              "    <tr>\n",
              "      <th>0</th>\n",
              "      <td>19</td>\n",
              "      <td>female</td>\n",
              "      <td>27.900</td>\n",
              "      <td>0</td>\n",
              "      <td>yes</td>\n",
              "      <td>southwest</td>\n",
              "      <td>16884.92400</td>\n",
              "    </tr>\n",
              "    <tr>\n",
              "      <th>1</th>\n",
              "      <td>18</td>\n",
              "      <td>male</td>\n",
              "      <td>33.770</td>\n",
              "      <td>1</td>\n",
              "      <td>no</td>\n",
              "      <td>southeast</td>\n",
              "      <td>1725.55230</td>\n",
              "    </tr>\n",
              "    <tr>\n",
              "      <th>2</th>\n",
              "      <td>28</td>\n",
              "      <td>male</td>\n",
              "      <td>33.000</td>\n",
              "      <td>3</td>\n",
              "      <td>no</td>\n",
              "      <td>southeast</td>\n",
              "      <td>4449.46200</td>\n",
              "    </tr>\n",
              "    <tr>\n",
              "      <th>3</th>\n",
              "      <td>33</td>\n",
              "      <td>male</td>\n",
              "      <td>22.705</td>\n",
              "      <td>0</td>\n",
              "      <td>no</td>\n",
              "      <td>northwest</td>\n",
              "      <td>21984.47061</td>\n",
              "    </tr>\n",
              "    <tr>\n",
              "      <th>4</th>\n",
              "      <td>32</td>\n",
              "      <td>male</td>\n",
              "      <td>28.880</td>\n",
              "      <td>0</td>\n",
              "      <td>no</td>\n",
              "      <td>northwest</td>\n",
              "      <td>3866.85520</td>\n",
              "    </tr>\n",
              "  </tbody>\n",
              "</table>\n",
              "</div>\n",
              "      <button class=\"colab-df-convert\" onclick=\"convertToInteractive('df-bfa0b278-0652-4e21-902d-ed7fac260c2d')\"\n",
              "              title=\"Convert this dataframe to an interactive table.\"\n",
              "              style=\"display:none;\">\n",
              "        \n",
              "  <svg xmlns=\"http://www.w3.org/2000/svg\" height=\"24px\"viewBox=\"0 0 24 24\"\n",
              "       width=\"24px\">\n",
              "    <path d=\"M0 0h24v24H0V0z\" fill=\"none\"/>\n",
              "    <path d=\"M18.56 5.44l.94 2.06.94-2.06 2.06-.94-2.06-.94-.94-2.06-.94 2.06-2.06.94zm-11 1L8.5 8.5l.94-2.06 2.06-.94-2.06-.94L8.5 2.5l-.94 2.06-2.06.94zm10 10l.94 2.06.94-2.06 2.06-.94-2.06-.94-.94-2.06-.94 2.06-2.06.94z\"/><path d=\"M17.41 7.96l-1.37-1.37c-.4-.4-.92-.59-1.43-.59-.52 0-1.04.2-1.43.59L10.3 9.45l-7.72 7.72c-.78.78-.78 2.05 0 2.83L4 21.41c.39.39.9.59 1.41.59.51 0 1.02-.2 1.41-.59l7.78-7.78 2.81-2.81c.8-.78.8-2.07 0-2.86zM5.41 20L4 18.59l7.72-7.72 1.47 1.35L5.41 20z\"/>\n",
              "  </svg>\n",
              "      </button>\n",
              "      \n",
              "  <style>\n",
              "    .colab-df-container {\n",
              "      display:flex;\n",
              "      flex-wrap:wrap;\n",
              "      gap: 12px;\n",
              "    }\n",
              "\n",
              "    .colab-df-convert {\n",
              "      background-color: #E8F0FE;\n",
              "      border: none;\n",
              "      border-radius: 50%;\n",
              "      cursor: pointer;\n",
              "      display: none;\n",
              "      fill: #1967D2;\n",
              "      height: 32px;\n",
              "      padding: 0 0 0 0;\n",
              "      width: 32px;\n",
              "    }\n",
              "\n",
              "    .colab-df-convert:hover {\n",
              "      background-color: #E2EBFA;\n",
              "      box-shadow: 0px 1px 2px rgba(60, 64, 67, 0.3), 0px 1px 3px 1px rgba(60, 64, 67, 0.15);\n",
              "      fill: #174EA6;\n",
              "    }\n",
              "\n",
              "    [theme=dark] .colab-df-convert {\n",
              "      background-color: #3B4455;\n",
              "      fill: #D2E3FC;\n",
              "    }\n",
              "\n",
              "    [theme=dark] .colab-df-convert:hover {\n",
              "      background-color: #434B5C;\n",
              "      box-shadow: 0px 1px 3px 1px rgba(0, 0, 0, 0.15);\n",
              "      filter: drop-shadow(0px 1px 2px rgba(0, 0, 0, 0.3));\n",
              "      fill: #FFFFFF;\n",
              "    }\n",
              "  </style>\n",
              "\n",
              "      <script>\n",
              "        const buttonEl =\n",
              "          document.querySelector('#df-bfa0b278-0652-4e21-902d-ed7fac260c2d button.colab-df-convert');\n",
              "        buttonEl.style.display =\n",
              "          google.colab.kernel.accessAllowed ? 'block' : 'none';\n",
              "\n",
              "        async function convertToInteractive(key) {\n",
              "          const element = document.querySelector('#df-bfa0b278-0652-4e21-902d-ed7fac260c2d');\n",
              "          const dataTable =\n",
              "            await google.colab.kernel.invokeFunction('convertToInteractive',\n",
              "                                                     [key], {});\n",
              "          if (!dataTable) return;\n",
              "\n",
              "          const docLinkHtml = 'Like what you see? Visit the ' +\n",
              "            '<a target=\"_blank\" href=https://colab.research.google.com/notebooks/data_table.ipynb>data table notebook</a>'\n",
              "            + ' to learn more about interactive tables.';\n",
              "          element.innerHTML = '';\n",
              "          dataTable['output_type'] = 'display_data';\n",
              "          await google.colab.output.renderOutput(dataTable, element);\n",
              "          const docLink = document.createElement('div');\n",
              "          docLink.innerHTML = docLinkHtml;\n",
              "          element.appendChild(docLink);\n",
              "        }\n",
              "      </script>\n",
              "    </div>\n",
              "  </div>\n",
              "  "
            ]
          },
          "metadata": {},
          "execution_count": 77
        }
      ]
    },
    {
      "cell_type": "markdown",
      "source": [
        "\n",
        "Now, just as before, we need to transform the non-numerical columns into numbers and this time we'll also be normalizing the numerical columns with different ranges (to make sure they're all between 0 and 1).\n",
        "\n",
        "To do this, we're going to use a few classes from Scikit-Learn:\n",
        "\n",
        "make_column_transformer - build a multi-step data preprocessing function for the folllowing transformations:\n",
        "\n",
        "MinMaxScaler - make sure all numerical columns are normalized (between 0 and 1)\n",
        ".\n",
        "OneHotEncoder - one hot encode the non-numerical columns."
      ],
      "metadata": {
        "id": "bIZFLxmXVXv2"
      }
    },
    {
      "cell_type": "code",
      "source": [
        "from sklearn.compose import make_column_transformer\n",
        "from sklearn.preprocessing import MinMaxScaler, OneHotEncoder\n",
        "\n",
        "# Create column transformer (this will help us normalize/preprocess our data)\n",
        "ct = make_column_transformer(\n",
        "    (MinMaxScaler(), [\"age\", \"bmi\", \"children\"]), # get all values between 0 and 1\n",
        "    (OneHotEncoder(handle_unknown=\"ignore\"), [\"sex\", \"smoker\", \"region\"])\n",
        ")\n",
        "\n",
        "# Create X & y\n",
        "X = insurance.drop(\"charges\", axis=1)\n",
        "y = insurance[\"charges\"]\n",
        "\n",
        "# Build our train and test sets (use random state to ensure same split as before)\n",
        "X_train, X_test, y_train, y_test = train_test_split(X, y, test_size=0.2, random_state=42)\n",
        "\n",
        "# Fit column transformer on the training data only (doing so on test data would result in data leakage)\n",
        "ct.fit(X_train)\n",
        "\n",
        "# Transform training and test data with normalization (MinMaxScalar) and one hot encoding (OneHotEncoder)\n",
        "X_train_normal = ct.transform(X_train)\n",
        "X_test_normal = ct.transform(X_test)"
      ],
      "metadata": {
        "id": "IPDRIh4PVZ1l"
      },
      "execution_count": 78,
      "outputs": []
    },
    {
      "cell_type": "code",
      "source": [
        "# Non-normalized and non-one-hot encoded data example\n",
        "X_train.loc[0]"
      ],
      "metadata": {
        "colab": {
          "base_uri": "https://localhost:8080/"
        },
        "id": "DCD9bmxBVbDE",
        "outputId": "8d3f5931-06ea-4268-b1f4-609330fd9813"
      },
      "execution_count": 79,
      "outputs": [
        {
          "output_type": "execute_result",
          "data": {
            "text/plain": [
              "age                19\n",
              "sex            female\n",
              "bmi              27.9\n",
              "children            0\n",
              "smoker            yes\n",
              "region      southwest\n",
              "Name: 0, dtype: object"
            ]
          },
          "metadata": {},
          "execution_count": 79
        }
      ]
    },
    {
      "cell_type": "code",
      "source": [
        "# Normalized and one-hot encoded example\n",
        "X_train_normal[0]"
      ],
      "metadata": {
        "colab": {
          "base_uri": "https://localhost:8080/"
        },
        "id": "ufjm_A04Vcfu",
        "outputId": "23e6dc08-2d31-4816-9f10-2efed6e80b84"
      },
      "execution_count": 80,
      "outputs": [
        {
          "output_type": "execute_result",
          "data": {
            "text/plain": [
              "array([0.60869565, 0.10734463, 0.4       , 1.        , 0.        ,\n",
              "       1.        , 0.        , 0.        , 1.        , 0.        ,\n",
              "       0.        ])"
            ]
          },
          "metadata": {},
          "execution_count": 80
        }
      ]
    },
    {
      "cell_type": "code",
      "source": [
        "# Notice the normalized/one-hot encoded shape is larger because of the extra columns\n",
        "X_train_normal.shape, X_train.shape"
      ],
      "metadata": {
        "colab": {
          "base_uri": "https://localhost:8080/"
        },
        "id": "PmxEQ0FAVe3N",
        "outputId": "7095646e-df86-43b5-dbb1-c60c3095925e"
      },
      "execution_count": 81,
      "outputs": [
        {
          "output_type": "execute_result",
          "data": {
            "text/plain": [
              "((1070, 11), (1070, 6))"
            ]
          },
          "metadata": {},
          "execution_count": 81
        }
      ]
    },
    {
      "cell_type": "code",
      "source": [
        "# Set random seed\n",
        "tf.random.set_seed(42)\n",
        "\n",
        "# Build the model (3 layers, 100, 10, 1 units)\n",
        "insurance_model_3 = tf.keras.Sequential([\n",
        "  tf.keras.layers.Dense(100),\n",
        "  tf.keras.layers.Dense(10),\n",
        "  tf.keras.layers.Dense(1)\n",
        "])\n",
        "\n",
        "# Compile the model\n",
        "insurance_model_3.compile(loss=tf.keras.losses.mae,\n",
        "                          optimizer=tf.keras.optimizers.Adam(),\n",
        "                          metrics=['mae'])\n",
        "\n",
        "# Fit the model for 200 epochs (same as insurance_model_2)\n",
        "insurance_model_3.fit(X_train_normal, y_train, epochs=200, verbose=0)"
      ],
      "metadata": {
        "colab": {
          "base_uri": "https://localhost:8080/"
        },
        "id": "WRYJYcNxVgXl",
        "outputId": "ea2f181b-e1dc-4aa1-e520-f3b457f344ed"
      },
      "execution_count": 82,
      "outputs": [
        {
          "output_type": "execute_result",
          "data": {
            "text/plain": [
              "<keras.callbacks.History at 0x7f683f107550>"
            ]
          },
          "metadata": {},
          "execution_count": 82
        }
      ]
    },
    {
      "cell_type": "code",
      "source": [
        "# Evaulate 3rd model\n",
        "insurance_model_3_loss, insurance_model_3_mae = insurance_model_3.evaluate(X_test_normal, y_test)"
      ],
      "metadata": {
        "colab": {
          "base_uri": "https://localhost:8080/"
        },
        "id": "m1PZAF34aU4x",
        "outputId": "1720852c-76a5-4e2a-d792-1b0be43f26a0"
      },
      "execution_count": 83,
      "outputs": [
        {
          "output_type": "stream",
          "name": "stdout",
          "text": [
            "9/9 [==============================] - 0s 4ms/step - loss: 3171.5779 - mae: 3171.5779\n"
          ]
        }
      ]
    },
    {
      "cell_type": "code",
      "source": [
        "# Compare modelling results from non-normalized data and normalized data\n",
        "insurance_model_2_mae, insurance_model_3_mae"
      ],
      "metadata": {
        "colab": {
          "base_uri": "https://localhost:8080/"
        },
        "id": "37pMfa_IaWVM",
        "outputId": "c144e047-3608-4160-89d8-511c8755a471"
      },
      "execution_count": 84,
      "outputs": [
        {
          "output_type": "execute_result",
          "data": {
            "text/plain": [
              "(3495.80224609375, 3171.577880859375)"
            ]
          },
          "metadata": {},
          "execution_count": 84
        }
      ]
    },
    {
      "cell_type": "markdown",
      "source": [
        "From this we can see normalizing the data results in 10% less error using the same model than not normalizing the data.\n",
        "\n",
        "This is one of the main benefits of normalization: faster convergence time (a fancy way of saying, your model gets to better results faster).\n",
        "\n",
        "insurance_model_2 may have eventually achieved the same results as insurance_model_3 if we left it training for longer.\n",
        "\n",
        "Also, the results may change if we were to alter the architectures of the models, e.g. more hidden units per layer or more layers.\n",
        "\n",
        "But since our main goal as neural network practitioners is to decrease the time between experiments, anything that helps us get better results sooner is a plus."
      ],
      "metadata": {
        "id": "up2IayWCabCo"
      }
    }
  ]
}