{
  "nbformat": 4,
  "nbformat_minor": 0,
  "metadata": {
    "colab": {
      "provenance": [],
      "toc_visible": true
    },
    "kernelspec": {
      "name": "python3",
      "display_name": "Python 3"
    },
    "language_info": {
      "name": "python"
    },
    "accelerator": "GPU",
    "gpuClass": "standard"
  },
  "cells": [
    {
      "cell_type": "code",
      "execution_count": 1,
      "metadata": {
        "colab": {
          "base_uri": "https://localhost:8080/"
        },
        "id": "vI_1C5b-F84L",
        "outputId": "e6a58db5-5353-4c49-c565-35358d7c4a6b"
      },
      "outputs": [
        {
          "output_type": "stream",
          "name": "stdout",
          "text": [
            "2.9.2\n"
          ]
        }
      ],
      "source": [
        "# Import TensorFlow\n",
        "import tensorflow as tf\n",
        "print(tf.__version__) # find the version number (should be 2.x+)"
      ]
    },
    {
      "cell_type": "markdown",
      "source": [
        "### Introduction to tensors"
      ],
      "metadata": {
        "id": "iPF1YyPCGKf5"
      }
    },
    {
      "cell_type": "markdown",
      "source": [
        "#### Creating Tensors with tf.constant()"
      ],
      "metadata": {
        "id": "UmkyScBTGOGS"
      }
    },
    {
      "cell_type": "code",
      "source": [
        "# Create a scalar (rank 0 tensor)\n",
        "scalar = tf.constant(7)\n",
        "scalar"
      ],
      "metadata": {
        "colab": {
          "base_uri": "https://localhost:8080/"
        },
        "id": "tEGxTySAGHCh",
        "outputId": "f4fc3918-b219-4b6c-84a9-dfad1616cce4"
      },
      "execution_count": 2,
      "outputs": [
        {
          "output_type": "execute_result",
          "data": {
            "text/plain": [
              "<tf.Tensor: shape=(), dtype=int32, numpy=7>"
            ]
          },
          "metadata": {},
          "execution_count": 2
        }
      ]
    },
    {
      "cell_type": "code",
      "source": [
        "# Check the number of dimensions of a tensor (ndim stands for number of dimensions)\n",
        "scalar.ndim"
      ],
      "metadata": {
        "colab": {
          "base_uri": "https://localhost:8080/"
        },
        "id": "ZBXszZTcGUmH",
        "outputId": "4bbb56f1-0d77-44a7-f98a-d17c513240e1"
      },
      "execution_count": 3,
      "outputs": [
        {
          "output_type": "execute_result",
          "data": {
            "text/plain": [
              "0"
            ]
          },
          "metadata": {},
          "execution_count": 3
        }
      ]
    },
    {
      "cell_type": "code",
      "source": [
        "# Create a vector (more than 0 dimensions)\n",
        "vector = tf.constant([10, 10])\n",
        "vector"
      ],
      "metadata": {
        "colab": {
          "base_uri": "https://localhost:8080/"
        },
        "id": "6lpsOmvgGWAA",
        "outputId": "85d33be1-dadd-4afd-d74f-4aab0c7e1b2a"
      },
      "execution_count": 4,
      "outputs": [
        {
          "output_type": "execute_result",
          "data": {
            "text/plain": [
              "<tf.Tensor: shape=(2,), dtype=int32, numpy=array([10, 10], dtype=int32)>"
            ]
          },
          "metadata": {},
          "execution_count": 4
        }
      ]
    },
    {
      "cell_type": "code",
      "source": [
        "# Check the number of dimensions of our vector tensor\n",
        "vector.ndim"
      ],
      "metadata": {
        "colab": {
          "base_uri": "https://localhost:8080/"
        },
        "id": "8Q02gxyxGYYB",
        "outputId": "6a606709-0fe1-4a91-d3a5-9b916f9b02ca"
      },
      "execution_count": 5,
      "outputs": [
        {
          "output_type": "execute_result",
          "data": {
            "text/plain": [
              "1"
            ]
          },
          "metadata": {},
          "execution_count": 5
        }
      ]
    },
    {
      "cell_type": "code",
      "source": [
        "# Create a matrix (more than 1 dimension)\n",
        "matrix = tf.constant([[10, 7],\n",
        "                      [7, 10]])\n",
        "matrix"
      ],
      "metadata": {
        "colab": {
          "base_uri": "https://localhost:8080/"
        },
        "id": "qZTbvZBnGc9a",
        "outputId": "6775b128-8c1a-4baf-bd43-a26afee6b091"
      },
      "execution_count": 6,
      "outputs": [
        {
          "output_type": "execute_result",
          "data": {
            "text/plain": [
              "<tf.Tensor: shape=(2, 2), dtype=int32, numpy=\n",
              "array([[10,  7],\n",
              "       [ 7, 10]], dtype=int32)>"
            ]
          },
          "metadata": {},
          "execution_count": 6
        }
      ]
    },
    {
      "cell_type": "code",
      "source": [
        "matrix.ndim"
      ],
      "metadata": {
        "colab": {
          "base_uri": "https://localhost:8080/"
        },
        "id": "Qenaad4cGdat",
        "outputId": "8e50da89-ac56-4be1-a432-4d786bbce00b"
      },
      "execution_count": 7,
      "outputs": [
        {
          "output_type": "execute_result",
          "data": {
            "text/plain": [
              "2"
            ]
          },
          "metadata": {},
          "execution_count": 7
        }
      ]
    },
    {
      "cell_type": "code",
      "source": [
        "# Create another matrix and define the datatype\n",
        "another_matrix = tf.constant([[10., 7.],\n",
        "                              [3., 2.],\n",
        "                              [8., 9.]], dtype=tf.float16) # specify the datatype with 'dtype'\n",
        "another_matrix"
      ],
      "metadata": {
        "colab": {
          "base_uri": "https://localhost:8080/"
        },
        "id": "if4V9JWpGdfv",
        "outputId": "1670e3fb-e61e-48eb-9d21-8b138717a19a"
      },
      "execution_count": 8,
      "outputs": [
        {
          "output_type": "execute_result",
          "data": {
            "text/plain": [
              "<tf.Tensor: shape=(3, 2), dtype=float16, numpy=\n",
              "array([[10.,  7.],\n",
              "       [ 3.,  2.],\n",
              "       [ 8.,  9.]], dtype=float16)>"
            ]
          },
          "metadata": {},
          "execution_count": 8
        }
      ]
    },
    {
      "cell_type": "code",
      "source": [
        "# Even though another_matrix contains more numbers, its dimensions stay the same\n",
        "another_matrix.ndim"
      ],
      "metadata": {
        "colab": {
          "base_uri": "https://localhost:8080/"
        },
        "id": "-EGCpnzcGlp7",
        "outputId": "c5bdad6c-aa20-4d77-a4ca-c7a59069f724"
      },
      "execution_count": 9,
      "outputs": [
        {
          "output_type": "execute_result",
          "data": {
            "text/plain": [
              "2"
            ]
          },
          "metadata": {},
          "execution_count": 9
        }
      ]
    },
    {
      "cell_type": "code",
      "source": [
        "# How about a tensor? (more than 2 dimensions, although, all of the above items are also technically tensors)\n",
        "tensor = tf.constant([[[1, 2, 3],\n",
        "                       [4, 5, 6]],\n",
        "                      [[7, 8, 9],\n",
        "                       [10, 11, 12]],\n",
        "                      [[13, 14, 15],\n",
        "                       [16, 17, 18]]])\n",
        "tensor"
      ],
      "metadata": {
        "colab": {
          "base_uri": "https://localhost:8080/"
        },
        "id": "RxcRalr8GpgZ",
        "outputId": "fe68a963-27c4-4d60-9942-56b71a58af43"
      },
      "execution_count": 10,
      "outputs": [
        {
          "output_type": "execute_result",
          "data": {
            "text/plain": [
              "<tf.Tensor: shape=(3, 2, 3), dtype=int32, numpy=\n",
              "array([[[ 1,  2,  3],\n",
              "        [ 4,  5,  6]],\n",
              "\n",
              "       [[ 7,  8,  9],\n",
              "        [10, 11, 12]],\n",
              "\n",
              "       [[13, 14, 15],\n",
              "        [16, 17, 18]]], dtype=int32)>"
            ]
          },
          "metadata": {},
          "execution_count": 10
        }
      ]
    },
    {
      "cell_type": "code",
      "source": [
        "tensor.ndim"
      ],
      "metadata": {
        "colab": {
          "base_uri": "https://localhost:8080/"
        },
        "id": "-1Gn3ly5GuUi",
        "outputId": "bd6975d3-2a23-48c5-f94c-0bb27b68cdf9"
      },
      "execution_count": 11,
      "outputs": [
        {
          "output_type": "execute_result",
          "data": {
            "text/plain": [
              "3"
            ]
          },
          "metadata": {},
          "execution_count": 11
        }
      ]
    },
    {
      "cell_type": "markdown",
      "source": [
        "#### Creating Tensors with tf.Variable()\n",
        "\n",
        "The difference between tf.Variable() and tf.constant() is tensors created with tf.constant() are immutable (can't be changed, can only be used to create a new tensor), where as, tensors created with tf.Variable() are mutable (can be changed)."
      ],
      "metadata": {
        "id": "-zKyH9ThG1TQ"
      }
    },
    {
      "cell_type": "code",
      "source": [
        "# Create the same tensor with tf.Variable() and tf.constant()\n",
        "changeable_tensor = tf.Variable([10, 7])\n",
        "unchangeable_tensor = tf.constant([10, 7])\n",
        "changeable_tensor, unchangeable_tensor"
      ],
      "metadata": {
        "colab": {
          "base_uri": "https://localhost:8080/"
        },
        "id": "hwQXv3MSG6fo",
        "outputId": "89ff6695-e555-4c47-cda3-c13c6daeea02"
      },
      "execution_count": 12,
      "outputs": [
        {
          "output_type": "execute_result",
          "data": {
            "text/plain": [
              "(<tf.Variable 'Variable:0' shape=(2,) dtype=int32, numpy=array([10,  7], dtype=int32)>,\n",
              " <tf.Tensor: shape=(2,), dtype=int32, numpy=array([10,  7], dtype=int32)>)"
            ]
          },
          "metadata": {},
          "execution_count": 12
        }
      ]
    },
    {
      "cell_type": "code",
      "source": [
        "# Will error (requires the .assign() method)\n",
        "changeable_tensor[0] = 7\n",
        "changeable_tensor"
      ],
      "metadata": {
        "colab": {
          "base_uri": "https://localhost:8080/",
          "height": 200
        },
        "id": "7zXLWv3gG7xw",
        "outputId": "8fdebb99-bee4-4be1-f993-2e76b3a0b1bc"
      },
      "execution_count": 13,
      "outputs": [
        {
          "output_type": "error",
          "ename": "TypeError",
          "evalue": "ignored",
          "traceback": [
            "\u001b[0;31m---------------------------------------------------------------------------\u001b[0m",
            "\u001b[0;31mTypeError\u001b[0m                                 Traceback (most recent call last)",
            "\u001b[0;32m<ipython-input-13-daecfbad2415>\u001b[0m in \u001b[0;36m<module>\u001b[0;34m\u001b[0m\n\u001b[1;32m      1\u001b[0m \u001b[0;31m# Will error (requires the .assign() method)\u001b[0m\u001b[0;34m\u001b[0m\u001b[0;34m\u001b[0m\u001b[0;34m\u001b[0m\u001b[0m\n\u001b[0;32m----> 2\u001b[0;31m \u001b[0mchangeable_tensor\u001b[0m\u001b[0;34m[\u001b[0m\u001b[0;36m0\u001b[0m\u001b[0;34m]\u001b[0m \u001b[0;34m=\u001b[0m \u001b[0;36m7\u001b[0m\u001b[0;34m\u001b[0m\u001b[0;34m\u001b[0m\u001b[0m\n\u001b[0m\u001b[1;32m      3\u001b[0m \u001b[0mchangeable_tensor\u001b[0m\u001b[0;34m\u001b[0m\u001b[0;34m\u001b[0m\u001b[0m\n",
            "\u001b[0;31mTypeError\u001b[0m: 'ResourceVariable' object does not support item assignment"
          ]
        }
      ]
    },
    {
      "cell_type": "markdown",
      "source": [
        "To change an element of a tf.Variable() tensor requires the assign() method."
      ],
      "metadata": {
        "id": "kQrxaBVoHAw0"
      }
    },
    {
      "cell_type": "code",
      "source": [
        "# Won't error\n",
        "changeable_tensor[0].assign(7)\n",
        "changeable_tensor"
      ],
      "metadata": {
        "colab": {
          "base_uri": "https://localhost:8080/"
        },
        "id": "SU1rTkJWHBUv",
        "outputId": "c62502b3-3c06-41bb-c842-edc20daf19a1"
      },
      "execution_count": 14,
      "outputs": [
        {
          "output_type": "execute_result",
          "data": {
            "text/plain": [
              "<tf.Variable 'Variable:0' shape=(2,) dtype=int32, numpy=array([7, 7], dtype=int32)>"
            ]
          },
          "metadata": {},
          "execution_count": 14
        }
      ]
    },
    {
      "cell_type": "code",
      "source": [
        "# Will error (can't change tf.constant())\n",
        "unchangeable_tensor[0].assign(7)\n",
        "unchangleable_tensor"
      ],
      "metadata": {
        "colab": {
          "base_uri": "https://localhost:8080/",
          "height": 321
        },
        "id": "dzIgrYyIHFoV",
        "outputId": "514cd8c2-2383-4ea4-9552-90c000eda526"
      },
      "execution_count": 15,
      "outputs": [
        {
          "output_type": "error",
          "ename": "AttributeError",
          "evalue": "ignored",
          "traceback": [
            "\u001b[0;31m---------------------------------------------------------------------------\u001b[0m",
            "\u001b[0;31mAttributeError\u001b[0m                            Traceback (most recent call last)",
            "\u001b[0;32m<ipython-input-15-3947b974feb9>\u001b[0m in \u001b[0;36m<module>\u001b[0;34m\u001b[0m\n\u001b[1;32m      1\u001b[0m \u001b[0;31m# Will error (can't change tf.constant())\u001b[0m\u001b[0;34m\u001b[0m\u001b[0;34m\u001b[0m\u001b[0;34m\u001b[0m\u001b[0m\n\u001b[0;32m----> 2\u001b[0;31m \u001b[0munchangeable_tensor\u001b[0m\u001b[0;34m[\u001b[0m\u001b[0;36m0\u001b[0m\u001b[0;34m]\u001b[0m\u001b[0;34m.\u001b[0m\u001b[0massign\u001b[0m\u001b[0;34m(\u001b[0m\u001b[0;36m7\u001b[0m\u001b[0;34m)\u001b[0m\u001b[0;34m\u001b[0m\u001b[0;34m\u001b[0m\u001b[0m\n\u001b[0m\u001b[1;32m      3\u001b[0m \u001b[0munchangleable_tensor\u001b[0m\u001b[0;34m\u001b[0m\u001b[0;34m\u001b[0m\u001b[0m\n",
            "\u001b[0;32m/usr/local/lib/python3.8/dist-packages/tensorflow/python/framework/ops.py\u001b[0m in \u001b[0;36m__getattr__\u001b[0;34m(self, name)\u001b[0m\n\u001b[1;32m    444\u001b[0m         \u001b[0mnp_config\u001b[0m\u001b[0;34m.\u001b[0m\u001b[0menable_numpy_behavior\u001b[0m\u001b[0;34m(\u001b[0m\u001b[0;34m)\u001b[0m\u001b[0;34m\u001b[0m\u001b[0;34m\u001b[0m\u001b[0m\n\u001b[1;32m    445\u001b[0m       \"\"\")\n\u001b[0;32m--> 446\u001b[0;31m     \u001b[0mself\u001b[0m\u001b[0;34m.\u001b[0m\u001b[0m__getattribute__\u001b[0m\u001b[0;34m(\u001b[0m\u001b[0mname\u001b[0m\u001b[0;34m)\u001b[0m\u001b[0;34m\u001b[0m\u001b[0;34m\u001b[0m\u001b[0m\n\u001b[0m\u001b[1;32m    447\u001b[0m \u001b[0;34m\u001b[0m\u001b[0m\n\u001b[1;32m    448\u001b[0m   \u001b[0;34m@\u001b[0m\u001b[0mstaticmethod\u001b[0m\u001b[0;34m\u001b[0m\u001b[0;34m\u001b[0m\u001b[0m\n",
            "\u001b[0;31mAttributeError\u001b[0m: 'tensorflow.python.framework.ops.EagerTensor' object has no attribute 'assign'"
          ]
        }
      ]
    },
    {
      "cell_type": "markdown",
      "source": [
        "#### Creating random tensors"
      ],
      "metadata": {
        "id": "R4dRfF-sHI0G"
      }
    },
    {
      "cell_type": "code",
      "source": [
        "# Create two random (but the same) tensors\n",
        "random_1 = tf.random.Generator.from_seed(42) # set the seed for reproducibility\n",
        "random_1 = random_1.normal(shape=(3, 2)) # create tensor from a normal distribution \n",
        "random_2 = tf.random.Generator.from_seed(42)\n",
        "random_2 = random_2.normal(shape=(3, 2))\n",
        "\n",
        "# Are they equal?\n",
        "random_1, random_2, random_1 == random_2"
      ],
      "metadata": {
        "colab": {
          "base_uri": "https://localhost:8080/"
        },
        "id": "uQoWTBjDHLPn",
        "outputId": "a989767b-0426-410a-c9dc-723a57c11bdf"
      },
      "execution_count": 16,
      "outputs": [
        {
          "output_type": "execute_result",
          "data": {
            "text/plain": [
              "(<tf.Tensor: shape=(3, 2), dtype=float32, numpy=\n",
              " array([[-0.7565803 , -0.06854702],\n",
              "        [ 0.07595026, -1.2573844 ],\n",
              "        [-0.23193763, -1.8107855 ]], dtype=float32)>,\n",
              " <tf.Tensor: shape=(3, 2), dtype=float32, numpy=\n",
              " array([[-0.7565803 , -0.06854702],\n",
              "        [ 0.07595026, -1.2573844 ],\n",
              "        [-0.23193763, -1.8107855 ]], dtype=float32)>,\n",
              " <tf.Tensor: shape=(3, 2), dtype=bool, numpy=\n",
              " array([[ True,  True],\n",
              "        [ True,  True],\n",
              "        [ True,  True]])>)"
            ]
          },
          "metadata": {},
          "execution_count": 16
        }
      ]
    },
    {
      "cell_type": "code",
      "source": [
        "# Create two random (and different) tensors\n",
        "random_3 = tf.random.Generator.from_seed(42)\n",
        "random_3 = random_3.normal(shape=(3, 2))\n",
        "random_4 = tf.random.Generator.from_seed(11)\n",
        "random_4 = random_4.normal(shape=(3, 2))\n",
        "\n",
        "# Check the tensors and see if they are equal\n",
        "random_3, random_4, random_1 == random_3, random_3 == random_4"
      ],
      "metadata": {
        "colab": {
          "base_uri": "https://localhost:8080/"
        },
        "id": "qOLYcohwHWKG",
        "outputId": "30538489-1338-4c55-c5dc-77e6d5daab2f"
      },
      "execution_count": 17,
      "outputs": [
        {
          "output_type": "execute_result",
          "data": {
            "text/plain": [
              "(<tf.Tensor: shape=(3, 2), dtype=float32, numpy=\n",
              " array([[-0.7565803 , -0.06854702],\n",
              "        [ 0.07595026, -1.2573844 ],\n",
              "        [-0.23193763, -1.8107855 ]], dtype=float32)>,\n",
              " <tf.Tensor: shape=(3, 2), dtype=float32, numpy=\n",
              " array([[ 0.27305737, -0.29925638],\n",
              "        [-0.3652325 ,  0.61883307],\n",
              "        [-1.0130816 ,  0.28291714]], dtype=float32)>,\n",
              " <tf.Tensor: shape=(3, 2), dtype=bool, numpy=\n",
              " array([[ True,  True],\n",
              "        [ True,  True],\n",
              "        [ True,  True]])>,\n",
              " <tf.Tensor: shape=(3, 2), dtype=bool, numpy=\n",
              " array([[False, False],\n",
              "        [False, False],\n",
              "        [False, False]])>)"
            ]
          },
          "metadata": {},
          "execution_count": 17
        }
      ]
    },
    {
      "cell_type": "code",
      "source": [
        "# Shuffle a tensor (valuable for when you want to shuffle your data)\n",
        "not_shuffled = tf.constant([[10, 7],\n",
        "                            [3, 4],\n",
        "                            [2, 5]])\n",
        "# Gets different results each time\n",
        "tf.random.shuffle(not_shuffled)"
      ],
      "metadata": {
        "colab": {
          "base_uri": "https://localhost:8080/"
        },
        "id": "aN3hvSqLHdHS",
        "outputId": "e65cce4a-a701-4714-e2c5-1e74a2c76fef"
      },
      "execution_count": 18,
      "outputs": [
        {
          "output_type": "execute_result",
          "data": {
            "text/plain": [
              "<tf.Tensor: shape=(3, 2), dtype=int32, numpy=\n",
              "array([[10,  7],\n",
              "       [ 2,  5],\n",
              "       [ 3,  4]], dtype=int32)>"
            ]
          },
          "metadata": {},
          "execution_count": 18
        }
      ]
    },
    {
      "cell_type": "code",
      "source": [
        "# Shuffle in the same order every time using the seed parameter (won't acutally be the same)\n",
        "tf.random.shuffle(not_shuffled, seed=42)"
      ],
      "metadata": {
        "colab": {
          "base_uri": "https://localhost:8080/"
        },
        "id": "nSHMqPmpHdvk",
        "outputId": "2435d3c4-b18a-42f5-cca9-ac2a1a49608d"
      },
      "execution_count": 19,
      "outputs": [
        {
          "output_type": "execute_result",
          "data": {
            "text/plain": [
              "<tf.Tensor: shape=(3, 2), dtype=int32, numpy=\n",
              "array([[ 2,  5],\n",
              "       [ 3,  4],\n",
              "       [10,  7]], dtype=int32)>"
            ]
          },
          "metadata": {},
          "execution_count": 19
        }
      ]
    },
    {
      "cell_type": "markdown",
      "source": [
        "Wait... why didn't the numbers come out the same?\n",
        "\n",
        "It's due to rule #4 of the tf.random.set_seed() documentation.\n",
        "\n",
        "\"4. If both the global and the operation seed are set: Both seeds are used in conjunction to determine the random sequence.\"\n",
        "\n",
        "tf.random.set_seed(42) sets the global seed, and the seed parameter in tf.random.shuffle(seed=42) sets the operation seed.\n",
        "\n",
        "Because, \"Operations that rely on a random seed actually derive it from two seeds: the global and operation-level seeds. This sets the global seed.\""
      ],
      "metadata": {
        "id": "fzsHD6hRHmMF"
      }
    },
    {
      "cell_type": "code",
      "source": [
        "# Shuffle in the same order every time\n",
        "\n",
        "# Set the global random seed\n",
        "tf.random.set_seed(42)\n",
        "\n",
        "# Set the operation random seed\n",
        "tf.random.shuffle(not_shuffled, seed=42)"
      ],
      "metadata": {
        "colab": {
          "base_uri": "https://localhost:8080/"
        },
        "id": "Pwc7v5ssHnuM",
        "outputId": "d381bc06-484e-4ae6-e088-b596d779bdd6"
      },
      "execution_count": 20,
      "outputs": [
        {
          "output_type": "execute_result",
          "data": {
            "text/plain": [
              "<tf.Tensor: shape=(3, 2), dtype=int32, numpy=\n",
              "array([[10,  7],\n",
              "       [ 3,  4],\n",
              "       [ 2,  5]], dtype=int32)>"
            ]
          },
          "metadata": {},
          "execution_count": 20
        }
      ]
    },
    {
      "cell_type": "code",
      "source": [
        "# Set the global random seed\n",
        "tf.random.set_seed(42) # if you comment this out you'll get different results\n",
        "\n",
        "# Set the operation random seed\n",
        "tf.random.shuffle(not_shuffled)"
      ],
      "metadata": {
        "colab": {
          "base_uri": "https://localhost:8080/"
        },
        "id": "kehZtpj8Ht6a",
        "outputId": "674b9c58-ec52-43d8-8ac3-ca4a8372dfc6"
      },
      "execution_count": 21,
      "outputs": [
        {
          "output_type": "execute_result",
          "data": {
            "text/plain": [
              "<tf.Tensor: shape=(3, 2), dtype=int32, numpy=\n",
              "array([[ 3,  4],\n",
              "       [ 2,  5],\n",
              "       [10,  7]], dtype=int32)>"
            ]
          },
          "metadata": {},
          "execution_count": 21
        }
      ]
    },
    {
      "cell_type": "markdown",
      "source": [
        "#### Other ways to make tensors"
      ],
      "metadata": {
        "id": "y0mqQPwJHyAn"
      }
    },
    {
      "cell_type": "code",
      "source": [
        "# Make a tensor of all ones\n",
        "tf.ones(shape=(3, 2))"
      ],
      "metadata": {
        "colab": {
          "base_uri": "https://localhost:8080/"
        },
        "id": "oEonY_bNH1CT",
        "outputId": "9c62ce21-553f-407e-f8c3-acd4fac511f2"
      },
      "execution_count": 22,
      "outputs": [
        {
          "output_type": "execute_result",
          "data": {
            "text/plain": [
              "<tf.Tensor: shape=(3, 2), dtype=float32, numpy=\n",
              "array([[1., 1.],\n",
              "       [1., 1.],\n",
              "       [1., 1.]], dtype=float32)>"
            ]
          },
          "metadata": {},
          "execution_count": 22
        }
      ]
    },
    {
      "cell_type": "code",
      "source": [
        "# Make a tensor of all zeros\n",
        "tf.zeros(shape=(3, 2))"
      ],
      "metadata": {
        "colab": {
          "base_uri": "https://localhost:8080/"
        },
        "id": "sT0XSvWaH20U",
        "outputId": "c33419d9-6693-4f72-8e7e-5f326f38ecce"
      },
      "execution_count": 23,
      "outputs": [
        {
          "output_type": "execute_result",
          "data": {
            "text/plain": [
              "<tf.Tensor: shape=(3, 2), dtype=float32, numpy=\n",
              "array([[0., 0.],\n",
              "       [0., 0.],\n",
              "       [0., 0.]], dtype=float32)>"
            ]
          },
          "metadata": {},
          "execution_count": 23
        }
      ]
    },
    {
      "cell_type": "markdown",
      "source": [
        "\n",
        "You can also turn NumPy arrays in into tensors.\n",
        "\n",
        "Remember, the main difference between tensors and NumPy arrays is that tensors can be run on GPUs."
      ],
      "metadata": {
        "id": "2nIeX2XzH7Nv"
      }
    },
    {
      "cell_type": "code",
      "source": [
        "import numpy as np\n",
        "numpy_A = np.arange(1, 25, dtype=np.int32) # create a NumPy array between 1 and 25\n",
        "A = tf.constant(numpy_A,  \n",
        "                shape=[2, 4, 3]) # note: the shape total (2*4*3) has to match the number of elements in the array\n",
        "numpy_A, A"
      ],
      "metadata": {
        "colab": {
          "base_uri": "https://localhost:8080/"
        },
        "id": "n0okWcm2H9oh",
        "outputId": "945c43ae-ab16-4518-a9ed-c3921cbc7ebf"
      },
      "execution_count": 24,
      "outputs": [
        {
          "output_type": "execute_result",
          "data": {
            "text/plain": [
              "(array([ 1,  2,  3,  4,  5,  6,  7,  8,  9, 10, 11, 12, 13, 14, 15, 16, 17,\n",
              "        18, 19, 20, 21, 22, 23, 24], dtype=int32),\n",
              " <tf.Tensor: shape=(2, 4, 3), dtype=int32, numpy=\n",
              " array([[[ 1,  2,  3],\n",
              "         [ 4,  5,  6],\n",
              "         [ 7,  8,  9],\n",
              "         [10, 11, 12]],\n",
              " \n",
              "        [[13, 14, 15],\n",
              "         [16, 17, 18],\n",
              "         [19, 20, 21],\n",
              "         [22, 23, 24]]], dtype=int32)>)"
            ]
          },
          "metadata": {},
          "execution_count": 24
        }
      ]
    },
    {
      "cell_type": "markdown",
      "source": [
        "### Getting information from tensors (shape, rank, size)\n",
        "\n",
        "There will be times when you'll want to get different pieces of information from your tensors, in particular, you should know the following tensor vocabulary:\n",
        "\n",
        "Shape: The length (number of elements) of each of the dimensions of a tensor.\n",
        "\n",
        "Rank: The number of tensor dimensions. A scalar has rank 0, a vector has rank 1, a matrix is rank 2, a tensor has rank n.\n",
        "\n",
        "Axis or Dimension: A particular dimension of a tensor.\n",
        "\n",
        "Size: The total number of items in the tensor."
      ],
      "metadata": {
        "id": "EkygQoLbIFZz"
      }
    },
    {
      "cell_type": "code",
      "source": [
        "# Create a rank 4 tensor (4 dimensions)\n",
        "rank_4_tensor = tf.zeros([2, 3, 4, 5])\n",
        "rank_4_tensor"
      ],
      "metadata": {
        "colab": {
          "base_uri": "https://localhost:8080/"
        },
        "id": "Iu8fG7prIONR",
        "outputId": "cdcfa124-42a6-4aad-efdc-eeeb1ede9fde"
      },
      "execution_count": 25,
      "outputs": [
        {
          "output_type": "execute_result",
          "data": {
            "text/plain": [
              "<tf.Tensor: shape=(2, 3, 4, 5), dtype=float32, numpy=\n",
              "array([[[[0., 0., 0., 0., 0.],\n",
              "         [0., 0., 0., 0., 0.],\n",
              "         [0., 0., 0., 0., 0.],\n",
              "         [0., 0., 0., 0., 0.]],\n",
              "\n",
              "        [[0., 0., 0., 0., 0.],\n",
              "         [0., 0., 0., 0., 0.],\n",
              "         [0., 0., 0., 0., 0.],\n",
              "         [0., 0., 0., 0., 0.]],\n",
              "\n",
              "        [[0., 0., 0., 0., 0.],\n",
              "         [0., 0., 0., 0., 0.],\n",
              "         [0., 0., 0., 0., 0.],\n",
              "         [0., 0., 0., 0., 0.]]],\n",
              "\n",
              "\n",
              "       [[[0., 0., 0., 0., 0.],\n",
              "         [0., 0., 0., 0., 0.],\n",
              "         [0., 0., 0., 0., 0.],\n",
              "         [0., 0., 0., 0., 0.]],\n",
              "\n",
              "        [[0., 0., 0., 0., 0.],\n",
              "         [0., 0., 0., 0., 0.],\n",
              "         [0., 0., 0., 0., 0.],\n",
              "         [0., 0., 0., 0., 0.]],\n",
              "\n",
              "        [[0., 0., 0., 0., 0.],\n",
              "         [0., 0., 0., 0., 0.],\n",
              "         [0., 0., 0., 0., 0.],\n",
              "         [0., 0., 0., 0., 0.]]]], dtype=float32)>"
            ]
          },
          "metadata": {},
          "execution_count": 25
        }
      ]
    },
    {
      "cell_type": "code",
      "source": [
        "rank_4_tensor.shape, rank_4_tensor.ndim, tf.size(rank_4_tensor)"
      ],
      "metadata": {
        "colab": {
          "base_uri": "https://localhost:8080/"
        },
        "id": "rwe-hmY3IYVB",
        "outputId": "06e6b639-5503-41f6-d325-e0e23fc3a2ec"
      },
      "execution_count": 26,
      "outputs": [
        {
          "output_type": "execute_result",
          "data": {
            "text/plain": [
              "(TensorShape([2, 3, 4, 5]), 4, <tf.Tensor: shape=(), dtype=int32, numpy=120>)"
            ]
          },
          "metadata": {},
          "execution_count": 26
        }
      ]
    },
    {
      "cell_type": "code",
      "source": [
        "# Get various attributes of tensor\n",
        "print(\"Datatype of every element:\", rank_4_tensor.dtype)\n",
        "print(\"Number of dimensions (rank):\", rank_4_tensor.ndim)\n",
        "print(\"Shape of tensor:\", rank_4_tensor.shape)\n",
        "print(\"Elements along axis 0 of tensor:\", rank_4_tensor.shape[0])\n",
        "print(\"Elements along last axis of tensor:\", rank_4_tensor.shape[-1])\n",
        "print(\"Total number of elements (2*3*4*5):\", tf.size(rank_4_tensor).numpy()) # .numpy() converts to NumPy array"
      ],
      "metadata": {
        "colab": {
          "base_uri": "https://localhost:8080/"
        },
        "id": "FN2YKbqYIZ8G",
        "outputId": "387d7876-21ba-4ed2-b51d-af71048c582a"
      },
      "execution_count": 27,
      "outputs": [
        {
          "output_type": "stream",
          "name": "stdout",
          "text": [
            "Datatype of every element: <dtype: 'float32'>\n",
            "Number of dimensions (rank): 4\n",
            "Shape of tensor: (2, 3, 4, 5)\n",
            "Elements along axis 0 of tensor: 2\n",
            "Elements along last axis of tensor: 5\n",
            "Total number of elements (2*3*4*5): 120\n"
          ]
        }
      ]
    },
    {
      "cell_type": "markdown",
      "source": [
        "You can also index tensors just like Python lists."
      ],
      "metadata": {
        "id": "feeuIzTJIlOz"
      }
    },
    {
      "cell_type": "code",
      "source": [
        "# Get the first 2 items of each dimension\n",
        "rank_4_tensor[:2, :2, :2, :2]"
      ],
      "metadata": {
        "colab": {
          "base_uri": "https://localhost:8080/"
        },
        "id": "5PL-1tcLIgde",
        "outputId": "ba0d37c0-9a8b-43f8-e9b2-96848ee7f07c"
      },
      "execution_count": 28,
      "outputs": [
        {
          "output_type": "execute_result",
          "data": {
            "text/plain": [
              "<tf.Tensor: shape=(2, 2, 2, 2), dtype=float32, numpy=\n",
              "array([[[[0., 0.],\n",
              "         [0., 0.]],\n",
              "\n",
              "        [[0., 0.],\n",
              "         [0., 0.]]],\n",
              "\n",
              "\n",
              "       [[[0., 0.],\n",
              "         [0., 0.]],\n",
              "\n",
              "        [[0., 0.],\n",
              "         [0., 0.]]]], dtype=float32)>"
            ]
          },
          "metadata": {},
          "execution_count": 28
        }
      ]
    },
    {
      "cell_type": "code",
      "source": [
        "# Get the dimension from each index except for the final one\n",
        "rank_4_tensor[:1, :1, :1, :]"
      ],
      "metadata": {
        "colab": {
          "base_uri": "https://localhost:8080/"
        },
        "id": "fsCKvT4IIjxc",
        "outputId": "c205d55f-a460-46ee-cc49-6c419a7ec401"
      },
      "execution_count": 29,
      "outputs": [
        {
          "output_type": "execute_result",
          "data": {
            "text/plain": [
              "<tf.Tensor: shape=(1, 1, 1, 5), dtype=float32, numpy=array([[[[0., 0., 0., 0., 0.]]]], dtype=float32)>"
            ]
          },
          "metadata": {},
          "execution_count": 29
        }
      ]
    },
    {
      "cell_type": "code",
      "source": [
        "# Create a rank 2 tensor (2 dimensions)\n",
        "rank_2_tensor = tf.constant([[10, 7],\n",
        "                             [3, 4]])\n",
        "\n",
        "# Get the last item of each row\n",
        "rank_2_tensor[:, -1]"
      ],
      "metadata": {
        "colab": {
          "base_uri": "https://localhost:8080/"
        },
        "id": "FAvPkKY7Im8Q",
        "outputId": "f1741eca-0c87-4044-cb7d-2bfef2e17c9b"
      },
      "execution_count": 30,
      "outputs": [
        {
          "output_type": "execute_result",
          "data": {
            "text/plain": [
              "<tf.Tensor: shape=(2,), dtype=int32, numpy=array([7, 4], dtype=int32)>"
            ]
          },
          "metadata": {},
          "execution_count": 30
        }
      ]
    },
    {
      "cell_type": "markdown",
      "source": [
        "You can also add dimensions to your tensor whilst keeping the same information present using tf.newaxis."
      ],
      "metadata": {
        "id": "kKW-YGuBIsZp"
      }
    },
    {
      "cell_type": "code",
      "source": [
        "# Add an extra dimension (to the end)\n",
        "rank_3_tensor = rank_2_tensor[..., tf.newaxis] # in Python \"...\" means \"all dimensions prior to\"\n",
        "rank_2_tensor, rank_3_tensor # shape (2, 2), shape (2, 2, 1)"
      ],
      "metadata": {
        "colab": {
          "base_uri": "https://localhost:8080/"
        },
        "id": "iC3bnRcMItOo",
        "outputId": "9184551e-abe5-4604-81a5-d83f9d10fe82"
      },
      "execution_count": 31,
      "outputs": [
        {
          "output_type": "execute_result",
          "data": {
            "text/plain": [
              "(<tf.Tensor: shape=(2, 2), dtype=int32, numpy=\n",
              " array([[10,  7],\n",
              "        [ 3,  4]], dtype=int32)>,\n",
              " <tf.Tensor: shape=(2, 2, 1), dtype=int32, numpy=\n",
              " array([[[10],\n",
              "         [ 7]],\n",
              " \n",
              "        [[ 3],\n",
              "         [ 4]]], dtype=int32)>)"
            ]
          },
          "metadata": {},
          "execution_count": 31
        }
      ]
    },
    {
      "cell_type": "markdown",
      "source": [
        "You can achieve the same using tf.expand_dims()."
      ],
      "metadata": {
        "id": "JgngUDLMI0rX"
      }
    },
    {
      "cell_type": "code",
      "source": [
        "tf.expand_dims(rank_2_tensor, axis=-1) # \"-1\" means last axis"
      ],
      "metadata": {
        "colab": {
          "base_uri": "https://localhost:8080/"
        },
        "id": "REciCsExI1XX",
        "outputId": "ba27be3b-8b44-45bc-ef9a-033fde16f292"
      },
      "execution_count": 32,
      "outputs": [
        {
          "output_type": "execute_result",
          "data": {
            "text/plain": [
              "<tf.Tensor: shape=(2, 2, 1), dtype=int32, numpy=\n",
              "array([[[10],\n",
              "        [ 7]],\n",
              "\n",
              "       [[ 3],\n",
              "        [ 4]]], dtype=int32)>"
            ]
          },
          "metadata": {},
          "execution_count": 32
        }
      ]
    },
    {
      "cell_type": "markdown",
      "source": [
        "### Manipulating tensors (tensor operations)"
      ],
      "metadata": {
        "id": "IlXaNkeTI3g_"
      }
    },
    {
      "cell_type": "markdown",
      "source": [
        "#### Basic operations\n",
        "\n",
        "You can perform many of the basic mathematical operations directly on tensors using Python operators such as, +, -, *."
      ],
      "metadata": {
        "id": "dwEOr72AI8BC"
      }
    },
    {
      "cell_type": "code",
      "source": [
        "# You can add values to a tensor using the addition operator\n",
        "tensor = tf.constant([[10, 7], [3, 4]])\n",
        "tensor + 10"
      ],
      "metadata": {
        "colab": {
          "base_uri": "https://localhost:8080/"
        },
        "id": "dwo3rsaLI29n",
        "outputId": "5588248b-cb13-4414-d155-52f3db07ad46"
      },
      "execution_count": 33,
      "outputs": [
        {
          "output_type": "execute_result",
          "data": {
            "text/plain": [
              "<tf.Tensor: shape=(2, 2), dtype=int32, numpy=\n",
              "array([[20, 17],\n",
              "       [13, 14]], dtype=int32)>"
            ]
          },
          "metadata": {},
          "execution_count": 33
        }
      ]
    },
    {
      "cell_type": "markdown",
      "source": [
        "Since we used tf.constant(), the original tensor is unchanged (the addition gets done on a copy)."
      ],
      "metadata": {
        "id": "8TkLnSM6JErK"
      }
    },
    {
      "cell_type": "code",
      "source": [
        "# Original tensor unchanged\n",
        "tensor"
      ],
      "metadata": {
        "colab": {
          "base_uri": "https://localhost:8080/"
        },
        "id": "AaVhjj5CJFOy",
        "outputId": "9e6c75bb-60e2-4603-d02d-100bb4c7f258"
      },
      "execution_count": 34,
      "outputs": [
        {
          "output_type": "execute_result",
          "data": {
            "text/plain": [
              "<tf.Tensor: shape=(2, 2), dtype=int32, numpy=\n",
              "array([[10,  7],\n",
              "       [ 3,  4]], dtype=int32)>"
            ]
          },
          "metadata": {},
          "execution_count": 34
        }
      ]
    },
    {
      "cell_type": "markdown",
      "source": [
        "Other operators also work."
      ],
      "metadata": {
        "id": "j2bl5tjOJIjB"
      }
    },
    {
      "cell_type": "code",
      "source": [
        "# Multiplication (known as element-wise multiplication)\n",
        "tensor * 10"
      ],
      "metadata": {
        "colab": {
          "base_uri": "https://localhost:8080/"
        },
        "id": "92v5af4CJJRW",
        "outputId": "04776e4a-f732-4608-bd51-16f763d97c40"
      },
      "execution_count": 35,
      "outputs": [
        {
          "output_type": "execute_result",
          "data": {
            "text/plain": [
              "<tf.Tensor: shape=(2, 2), dtype=int32, numpy=\n",
              "array([[100,  70],\n",
              "       [ 30,  40]], dtype=int32)>"
            ]
          },
          "metadata": {},
          "execution_count": 35
        }
      ]
    },
    {
      "cell_type": "code",
      "source": [
        "# Subtraction\n",
        "tensor - 10"
      ],
      "metadata": {
        "colab": {
          "base_uri": "https://localhost:8080/"
        },
        "id": "ym_ogFF8JKuM",
        "outputId": "5ef9a2e7-ef8a-4fed-d829-b1b021b3ec84"
      },
      "execution_count": 36,
      "outputs": [
        {
          "output_type": "execute_result",
          "data": {
            "text/plain": [
              "<tf.Tensor: shape=(2, 2), dtype=int32, numpy=\n",
              "array([[ 0, -3],\n",
              "       [-7, -6]], dtype=int32)>"
            ]
          },
          "metadata": {},
          "execution_count": 36
        }
      ]
    },
    {
      "cell_type": "markdown",
      "source": [
        "You can also use the equivalent TensorFlow function. Using the TensorFlow function (where possible) has the advantage of being sped up later down the line when running as part of a TensorFlow graph."
      ],
      "metadata": {
        "id": "uvZlQee1JOyM"
      }
    },
    {
      "cell_type": "code",
      "source": [
        "# Use the tensorflow function equivalent of the '*' (multiply) operator\n",
        "tf.multiply(tensor, 10)"
      ],
      "metadata": {
        "colab": {
          "base_uri": "https://localhost:8080/"
        },
        "id": "xVBza76tJPeN",
        "outputId": "e52f162d-2a47-43ca-bfad-38a4e328f0e6"
      },
      "execution_count": 37,
      "outputs": [
        {
          "output_type": "execute_result",
          "data": {
            "text/plain": [
              "<tf.Tensor: shape=(2, 2), dtype=int32, numpy=\n",
              "array([[100,  70],\n",
              "       [ 30,  40]], dtype=int32)>"
            ]
          },
          "metadata": {},
          "execution_count": 37
        }
      ]
    },
    {
      "cell_type": "code",
      "source": [
        "# The original tensor is still unchanged\n",
        "tensor"
      ],
      "metadata": {
        "colab": {
          "base_uri": "https://localhost:8080/"
        },
        "id": "sBTQFDnHJQsq",
        "outputId": "f05db27f-c10e-4a7a-9784-2db62d2503c0"
      },
      "execution_count": 38,
      "outputs": [
        {
          "output_type": "execute_result",
          "data": {
            "text/plain": [
              "<tf.Tensor: shape=(2, 2), dtype=int32, numpy=\n",
              "array([[10,  7],\n",
              "       [ 3,  4]], dtype=int32)>"
            ]
          },
          "metadata": {},
          "execution_count": 38
        }
      ]
    },
    {
      "cell_type": "markdown",
      "source": [
        "#### Matrix mutliplication"
      ],
      "metadata": {
        "id": "bYErAhd-JTyS"
      }
    },
    {
      "cell_type": "markdown",
      "source": [
        "One of the most common operations in machine learning algorithms is matrix multiplication.\n",
        "\n",
        "TensorFlow implements this matrix multiplication functionality in the tf.matmul() method.\n",
        "\n",
        "The main two rules for matrix multiplication to remember are:\n",
        "\n",
        "The inner dimensions must match:\n",
        "\n",
        "(3, 5) @ (3, 5) won't work\n",
        "\n",
        "(5, 3) @ (3, 5) will work\n",
        "\n",
        "(3, 5) @ (5, 3) will work\n",
        "\n",
        "The resulting matrix has the shape of the outer dimensions:\n",
        "\n",
        "(5, 3) @ (3, 5) -> (5, 5)\n",
        "\n",
        "(3, 5) @ (5, 3) -> (3, 3)"
      ],
      "metadata": {
        "id": "TnxbbFh2JanK"
      }
    },
    {
      "cell_type": "code",
      "source": [
        "# Matrix multiplication in TensorFlow\n",
        "print(tensor)\n",
        "tf.matmul(tensor, tensor)"
      ],
      "metadata": {
        "colab": {
          "base_uri": "https://localhost:8080/"
        },
        "id": "pbRhCVrUJU0o",
        "outputId": "a0302865-4526-486b-be3a-b5cc90d547b4"
      },
      "execution_count": 39,
      "outputs": [
        {
          "output_type": "stream",
          "name": "stdout",
          "text": [
            "tf.Tensor(\n",
            "[[10  7]\n",
            " [ 3  4]], shape=(2, 2), dtype=int32)\n"
          ]
        },
        {
          "output_type": "execute_result",
          "data": {
            "text/plain": [
              "<tf.Tensor: shape=(2, 2), dtype=int32, numpy=\n",
              "array([[121,  98],\n",
              "       [ 42,  37]], dtype=int32)>"
            ]
          },
          "metadata": {},
          "execution_count": 39
        }
      ]
    },
    {
      "cell_type": "code",
      "source": [
        "# Matrix multiplication with Python operator '@'\n",
        "tensor @ tensor"
      ],
      "metadata": {
        "colab": {
          "base_uri": "https://localhost:8080/"
        },
        "id": "Jf8l3x_pJhcs",
        "outputId": "b8057f43-7a25-449e-ddda-89595f19c44b"
      },
      "execution_count": 40,
      "outputs": [
        {
          "output_type": "execute_result",
          "data": {
            "text/plain": [
              "<tf.Tensor: shape=(2, 2), dtype=int32, numpy=\n",
              "array([[121,  98],\n",
              "       [ 42,  37]], dtype=int32)>"
            ]
          },
          "metadata": {},
          "execution_count": 40
        }
      ]
    },
    {
      "cell_type": "code",
      "source": [
        "# Create (3, 2) tensor\n",
        "X = tf.constant([[1, 2],\n",
        "                 [3, 4],\n",
        "                 [5, 6]])\n",
        "\n",
        "# Create another (3, 2) tensor\n",
        "Y = tf.constant([[7, 8],\n",
        "                 [9, 10],\n",
        "                 [11, 12]])\n",
        "X, Y"
      ],
      "metadata": {
        "colab": {
          "base_uri": "https://localhost:8080/"
        },
        "id": "vTJKN6LNJizg",
        "outputId": "7db90497-c0bd-4335-cfb1-7797fc29e2d4"
      },
      "execution_count": 41,
      "outputs": [
        {
          "output_type": "execute_result",
          "data": {
            "text/plain": [
              "(<tf.Tensor: shape=(3, 2), dtype=int32, numpy=\n",
              " array([[1, 2],\n",
              "        [3, 4],\n",
              "        [5, 6]], dtype=int32)>, <tf.Tensor: shape=(3, 2), dtype=int32, numpy=\n",
              " array([[ 7,  8],\n",
              "        [ 9, 10],\n",
              "        [11, 12]], dtype=int32)>)"
            ]
          },
          "metadata": {},
          "execution_count": 41
        }
      ]
    },
    {
      "cell_type": "code",
      "source": [
        "# Try to matrix multiply them (will error)\n",
        "X @ Y"
      ],
      "metadata": {
        "colab": {
          "base_uri": "https://localhost:8080/",
          "height": 328
        },
        "id": "F3vSuvZuJkG_",
        "outputId": "51660df3-38f2-44b9-b207-787bbf7965cf"
      },
      "execution_count": 42,
      "outputs": [
        {
          "output_type": "error",
          "ename": "InvalidArgumentError",
          "evalue": "ignored",
          "traceback": [
            "\u001b[0;31m---------------------------------------------------------------------------\u001b[0m",
            "\u001b[0;31mInvalidArgumentError\u001b[0m                      Traceback (most recent call last)",
            "\u001b[0;32m<ipython-input-42-62e1e4702ffd>\u001b[0m in \u001b[0;36m<module>\u001b[0;34m\u001b[0m\n\u001b[1;32m      1\u001b[0m \u001b[0;31m# Try to matrix multiply them (will error)\u001b[0m\u001b[0;34m\u001b[0m\u001b[0;34m\u001b[0m\u001b[0;34m\u001b[0m\u001b[0m\n\u001b[0;32m----> 2\u001b[0;31m \u001b[0mX\u001b[0m \u001b[0;34m@\u001b[0m \u001b[0mY\u001b[0m\u001b[0;34m\u001b[0m\u001b[0;34m\u001b[0m\u001b[0m\n\u001b[0m",
            "\u001b[0;32m/usr/local/lib/python3.8/dist-packages/tensorflow/python/util/traceback_utils.py\u001b[0m in \u001b[0;36merror_handler\u001b[0;34m(*args, **kwargs)\u001b[0m\n\u001b[1;32m    151\u001b[0m     \u001b[0;32mexcept\u001b[0m \u001b[0mException\u001b[0m \u001b[0;32mas\u001b[0m \u001b[0me\u001b[0m\u001b[0;34m:\u001b[0m\u001b[0;34m\u001b[0m\u001b[0;34m\u001b[0m\u001b[0m\n\u001b[1;32m    152\u001b[0m       \u001b[0mfiltered_tb\u001b[0m \u001b[0;34m=\u001b[0m \u001b[0m_process_traceback_frames\u001b[0m\u001b[0;34m(\u001b[0m\u001b[0me\u001b[0m\u001b[0;34m.\u001b[0m\u001b[0m__traceback__\u001b[0m\u001b[0;34m)\u001b[0m\u001b[0;34m\u001b[0m\u001b[0;34m\u001b[0m\u001b[0m\n\u001b[0;32m--> 153\u001b[0;31m       \u001b[0;32mraise\u001b[0m \u001b[0me\u001b[0m\u001b[0;34m.\u001b[0m\u001b[0mwith_traceback\u001b[0m\u001b[0;34m(\u001b[0m\u001b[0mfiltered_tb\u001b[0m\u001b[0;34m)\u001b[0m \u001b[0;32mfrom\u001b[0m \u001b[0;32mNone\u001b[0m\u001b[0;34m\u001b[0m\u001b[0;34m\u001b[0m\u001b[0m\n\u001b[0m\u001b[1;32m    154\u001b[0m     \u001b[0;32mfinally\u001b[0m\u001b[0;34m:\u001b[0m\u001b[0;34m\u001b[0m\u001b[0;34m\u001b[0m\u001b[0m\n\u001b[1;32m    155\u001b[0m       \u001b[0;32mdel\u001b[0m \u001b[0mfiltered_tb\u001b[0m\u001b[0;34m\u001b[0m\u001b[0;34m\u001b[0m\u001b[0m\n",
            "\u001b[0;32m/usr/local/lib/python3.8/dist-packages/tensorflow/python/framework/ops.py\u001b[0m in \u001b[0;36mraise_from_not_ok_status\u001b[0;34m(e, name)\u001b[0m\n\u001b[1;32m   7162\u001b[0m \u001b[0;32mdef\u001b[0m \u001b[0mraise_from_not_ok_status\u001b[0m\u001b[0;34m(\u001b[0m\u001b[0me\u001b[0m\u001b[0;34m,\u001b[0m \u001b[0mname\u001b[0m\u001b[0;34m)\u001b[0m\u001b[0;34m:\u001b[0m\u001b[0;34m\u001b[0m\u001b[0;34m\u001b[0m\u001b[0m\n\u001b[1;32m   7163\u001b[0m   \u001b[0me\u001b[0m\u001b[0;34m.\u001b[0m\u001b[0mmessage\u001b[0m \u001b[0;34m+=\u001b[0m \u001b[0;34m(\u001b[0m\u001b[0;34m\" name: \"\u001b[0m \u001b[0;34m+\u001b[0m \u001b[0mname\u001b[0m \u001b[0;32mif\u001b[0m \u001b[0mname\u001b[0m \u001b[0;32mis\u001b[0m \u001b[0;32mnot\u001b[0m \u001b[0;32mNone\u001b[0m \u001b[0;32melse\u001b[0m \u001b[0;34m\"\"\u001b[0m\u001b[0;34m)\u001b[0m\u001b[0;34m\u001b[0m\u001b[0;34m\u001b[0m\u001b[0m\n\u001b[0;32m-> 7164\u001b[0;31m   \u001b[0;32mraise\u001b[0m \u001b[0mcore\u001b[0m\u001b[0;34m.\u001b[0m\u001b[0m_status_to_exception\u001b[0m\u001b[0;34m(\u001b[0m\u001b[0me\u001b[0m\u001b[0;34m)\u001b[0m \u001b[0;32mfrom\u001b[0m \u001b[0;32mNone\u001b[0m  \u001b[0;31m# pylint: disable=protected-access\u001b[0m\u001b[0;34m\u001b[0m\u001b[0;34m\u001b[0m\u001b[0m\n\u001b[0m\u001b[1;32m   7165\u001b[0m \u001b[0;34m\u001b[0m\u001b[0m\n\u001b[1;32m   7166\u001b[0m \u001b[0;34m\u001b[0m\u001b[0m\n",
            "\u001b[0;31mInvalidArgumentError\u001b[0m: Matrix size-incompatible: In[0]: [3,2], In[1]: [3,2] [Op:MatMul]"
          ]
        }
      ]
    },
    {
      "cell_type": "markdown",
      "source": [
        "Trying to matrix multiply two tensors with the shape (3, 2) errors because the inner dimensions don't match.\n",
        "\n",
        "We need to either:\n",
        "\n",
        "Reshape X to (2, 3) so it's (2, 3) @ (3, 2).\n",
        "\n",
        "Reshape Y to (3, 2) so it's (3, 2) @ (2, 3).\n",
        "\n",
        "We can do this with either:\n",
        "\n",
        "tf.reshape() - allows us to reshape a tensor into a defined shape.\n",
        "\n",
        "tf.transpose() - switches the dimensions of a given tensor."
      ],
      "metadata": {
        "id": "GBoex2XAJqmz"
      }
    },
    {
      "cell_type": "markdown",
      "source": [
        "![image.png](data:image/png;base64,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)"
      ],
      "metadata": {
        "id": "OO-XMSs8Jz1q"
      }
    },
    {
      "cell_type": "markdown",
      "source": [
        "Let's try tf.reshape() first."
      ],
      "metadata": {
        "id": "L6di2yj4J3bD"
      }
    },
    {
      "cell_type": "code",
      "source": [
        "# Example of reshape (3, 2) -> (2, 3)\n",
        "tf.reshape(Y, shape=(2, 3))"
      ],
      "metadata": {
        "colab": {
          "base_uri": "https://localhost:8080/"
        },
        "id": "pvw0pPSWJ0Pw",
        "outputId": "de11a3ec-4765-4de0-d02c-331609f1d20e"
      },
      "execution_count": 43,
      "outputs": [
        {
          "output_type": "execute_result",
          "data": {
            "text/plain": [
              "<tf.Tensor: shape=(2, 3), dtype=int32, numpy=\n",
              "array([[ 7,  8,  9],\n",
              "       [10, 11, 12]], dtype=int32)>"
            ]
          },
          "metadata": {},
          "execution_count": 43
        }
      ]
    },
    {
      "cell_type": "code",
      "source": [
        "# Try matrix multiplication with reshaped Y\n",
        "X @ tf.reshape(Y, shape=(2, 3))"
      ],
      "metadata": {
        "colab": {
          "base_uri": "https://localhost:8080/"
        },
        "id": "HEfhdS1eJ5iP",
        "outputId": "338e8f62-926a-42cf-941b-0a6ce9d28894"
      },
      "execution_count": 44,
      "outputs": [
        {
          "output_type": "execute_result",
          "data": {
            "text/plain": [
              "<tf.Tensor: shape=(3, 3), dtype=int32, numpy=\n",
              "array([[ 27,  30,  33],\n",
              "       [ 61,  68,  75],\n",
              "       [ 95, 106, 117]], dtype=int32)>"
            ]
          },
          "metadata": {},
          "execution_count": 44
        }
      ]
    },
    {
      "cell_type": "markdown",
      "source": [
        "It worked, let's try the same with a reshaped X, except this time we'll use tf.transpose() and tf.matmul()."
      ],
      "metadata": {
        "id": "Ftu2_ODsJ9Mh"
      }
    },
    {
      "cell_type": "code",
      "source": [
        "# Example of transpose (3, 2) -> (2, 3)\n",
        "tf.transpose(X)"
      ],
      "metadata": {
        "colab": {
          "base_uri": "https://localhost:8080/"
        },
        "id": "pGPq9OuyJ9fD",
        "outputId": "60985959-827b-4e00-cee4-fb54423670e0"
      },
      "execution_count": 45,
      "outputs": [
        {
          "output_type": "execute_result",
          "data": {
            "text/plain": [
              "<tf.Tensor: shape=(2, 3), dtype=int32, numpy=\n",
              "array([[1, 3, 5],\n",
              "       [2, 4, 6]], dtype=int32)>"
            ]
          },
          "metadata": {},
          "execution_count": 45
        }
      ]
    },
    {
      "cell_type": "code",
      "source": [
        "# Try matrix multiplication \n",
        "tf.matmul(tf.transpose(X), Y)"
      ],
      "metadata": {
        "colab": {
          "base_uri": "https://localhost:8080/"
        },
        "id": "BizCtGYXJ_YR",
        "outputId": "5e5bb4e3-4fda-4268-8266-486f972d29a2"
      },
      "execution_count": 46,
      "outputs": [
        {
          "output_type": "execute_result",
          "data": {
            "text/plain": [
              "<tf.Tensor: shape=(2, 2), dtype=int32, numpy=\n",
              "array([[ 89,  98],\n",
              "       [116, 128]], dtype=int32)>"
            ]
          },
          "metadata": {},
          "execution_count": 46
        }
      ]
    },
    {
      "cell_type": "code",
      "source": [
        "# You can achieve the same result with parameters\n",
        "tf.matmul(a=X, b=Y, transpose_a=True, transpose_b=False)"
      ],
      "metadata": {
        "colab": {
          "base_uri": "https://localhost:8080/"
        },
        "id": "WYKQJriGKA4Z",
        "outputId": "fe8d512b-21d4-4644-99d2-ac2869e83d58"
      },
      "execution_count": 47,
      "outputs": [
        {
          "output_type": "execute_result",
          "data": {
            "text/plain": [
              "<tf.Tensor: shape=(2, 2), dtype=int32, numpy=\n",
              "array([[ 89,  98],\n",
              "       [116, 128]], dtype=int32)>"
            ]
          },
          "metadata": {},
          "execution_count": 47
        }
      ]
    },
    {
      "cell_type": "markdown",
      "source": [
        "Notice the difference in the resulting shapes when tranposing X or reshaping Y.\n",
        "\n",
        "This is because of the 2nd rule mentioned above:\n",
        "\n",
        "(3, 2) @ (2, 3) -> (3, 3) done with X @ tf.reshape(Y, shape=(2, 3))\n",
        "\n",
        "(2, 3) @ (3, 2) -> (2, 2) done with tf.matmul(tf.transpose(X), Y)\n",
        "\n",
        "This kind of data manipulation is a reminder: you'll spend a lot of your time in machine learning and working with neural networks reshaping data (in the form of tensors) to prepare it to be used with various operations (such as feeding it to a model)."
      ],
      "metadata": {
        "id": "74YIXxS8KFD9"
      }
    },
    {
      "cell_type": "markdown",
      "source": [
        "#### The dot product\n",
        "\n",
        "Multiplying matrices by each other is also referred to as the dot product.\n",
        "\n",
        "You can perform the tf.matmul() operation using tf.tensordot()."
      ],
      "metadata": {
        "id": "buaTzRytKHBi"
      }
    },
    {
      "cell_type": "code",
      "source": [
        "# Perform the dot product on X and Y (requires X to be transposed)\n",
        "tf.tensordot(tf.transpose(X), Y, axes=1)"
      ],
      "metadata": {
        "colab": {
          "base_uri": "https://localhost:8080/"
        },
        "id": "rGzG7_CxKF24",
        "outputId": "e96de42c-0a2b-4ed1-8cff-6809ec0fac39"
      },
      "execution_count": 49,
      "outputs": [
        {
          "output_type": "execute_result",
          "data": {
            "text/plain": [
              "<tf.Tensor: shape=(2, 2), dtype=int32, numpy=\n",
              "array([[ 89,  98],\n",
              "       [116, 128]], dtype=int32)>"
            ]
          },
          "metadata": {},
          "execution_count": 49
        }
      ]
    },
    {
      "cell_type": "markdown",
      "source": [
        "You might notice that although using both reshape and tranpose work, you get different results when using each.\n",
        "\n",
        "Let's see an example, first with tf.transpose() then with tf.reshape()."
      ],
      "metadata": {
        "id": "90nmp2ZvKRmJ"
      }
    },
    {
      "cell_type": "code",
      "source": [
        "# Perform matrix multiplication between X and Y (transposed)\n",
        "tf.matmul(X, tf.transpose(Y))"
      ],
      "metadata": {
        "colab": {
          "base_uri": "https://localhost:8080/"
        },
        "id": "YdC0iHGpKToc",
        "outputId": "f154f672-8190-47ab-b7e0-dee925642e72"
      },
      "execution_count": 50,
      "outputs": [
        {
          "output_type": "execute_result",
          "data": {
            "text/plain": [
              "<tf.Tensor: shape=(3, 3), dtype=int32, numpy=\n",
              "array([[ 23,  29,  35],\n",
              "       [ 53,  67,  81],\n",
              "       [ 83, 105, 127]], dtype=int32)>"
            ]
          },
          "metadata": {},
          "execution_count": 50
        }
      ]
    },
    {
      "cell_type": "code",
      "source": [
        "# Perform matrix multiplication between X and Y (reshaped)\n",
        "tf.matmul(X, tf.reshape(Y, (2, 3)))"
      ],
      "metadata": {
        "colab": {
          "base_uri": "https://localhost:8080/"
        },
        "id": "uXY2V7g-KaYV",
        "outputId": "306db026-0ddc-4980-f4be-9e495e7fdaa6"
      },
      "execution_count": 51,
      "outputs": [
        {
          "output_type": "execute_result",
          "data": {
            "text/plain": [
              "<tf.Tensor: shape=(3, 3), dtype=int32, numpy=\n",
              "array([[ 27,  30,  33],\n",
              "       [ 61,  68,  75],\n",
              "       [ 95, 106, 117]], dtype=int32)>"
            ]
          },
          "metadata": {},
          "execution_count": 51
        }
      ]
    },
    {
      "cell_type": "markdown",
      "source": [
        "Hmm... they result in different values.\n",
        "\n",
        "Which is strange because when dealing with Y (a (3x2) matrix), reshaping to (2, 3) and tranposing it result in the same shape."
      ],
      "metadata": {
        "id": "87s3ZAzlKctV"
      }
    },
    {
      "cell_type": "code",
      "source": [
        "# Check shapes of Y, reshaped Y and tranposed Y\n",
        "Y.shape, tf.reshape(Y, (2, 3)).shape, tf.transpose(Y).shape"
      ],
      "metadata": {
        "colab": {
          "base_uri": "https://localhost:8080/"
        },
        "id": "Yh5W8X8hKdEg",
        "outputId": "7dfbb39f-8335-4fd7-c9dd-e9dcda4983fe"
      },
      "execution_count": 52,
      "outputs": [
        {
          "output_type": "execute_result",
          "data": {
            "text/plain": [
              "(TensorShape([3, 2]), TensorShape([2, 3]), TensorShape([2, 3]))"
            ]
          },
          "metadata": {},
          "execution_count": 52
        }
      ]
    },
    {
      "cell_type": "markdown",
      "source": [
        "But calling tf.reshape() and tf.transpose() on Y don't necessarily result in the same values."
      ],
      "metadata": {
        "id": "C-11SaSSKmfH"
      }
    },
    {
      "cell_type": "code",
      "source": [
        "# Check values of Y, reshape Y and tranposed Y\n",
        "print(\"Normal Y:\")\n",
        "print(Y, \"\\n\") # \"\\n\" for newline\n",
        "\n",
        "print(\"Y reshaped to (2, 3):\")\n",
        "print(tf.reshape(Y, (2, 3)), \"\\n\")\n",
        "\n",
        "print(\"Y transposed:\")\n",
        "print(tf.transpose(Y))"
      ],
      "metadata": {
        "colab": {
          "base_uri": "https://localhost:8080/"
        },
        "id": "KSpJgUl8Ke74",
        "outputId": "bb3d72e5-a7d0-487c-8095-031888cc6a6d"
      },
      "execution_count": 53,
      "outputs": [
        {
          "output_type": "stream",
          "name": "stdout",
          "text": [
            "Normal Y:\n",
            "tf.Tensor(\n",
            "[[ 7  8]\n",
            " [ 9 10]\n",
            " [11 12]], shape=(3, 2), dtype=int32) \n",
            "\n",
            "Y reshaped to (2, 3):\n",
            "tf.Tensor(\n",
            "[[ 7  8  9]\n",
            " [10 11 12]], shape=(2, 3), dtype=int32) \n",
            "\n",
            "Y transposed:\n",
            "tf.Tensor(\n",
            "[[ 7  9 11]\n",
            " [ 8 10 12]], shape=(2, 3), dtype=int32)\n"
          ]
        }
      ]
    },
    {
      "cell_type": "markdown",
      "source": [
        "As you can see, the outputs of tf.reshape() and tf.transpose() when called on Y, even though they have the same shape, are different.\n",
        "\n",
        "This can be explained by the default behaviour of each method:\n",
        "\n",
        "tf.reshape() - change the shape of the given tensor (first) and then insert values in order they appear (in our case, 7, 8, 9, 10, 11, 12).\n",
        "\n",
        "tf.transpose() - swap the order of the axes, by default the last axis becomes the first, however the order can be changed using the perm parameter."
      ],
      "metadata": {
        "id": "fTitafuwKqND"
      }
    },
    {
      "cell_type": "markdown",
      "source": [
        "Again, most of the time these operations (when they need to be run, such as during the training a neural network, will be implemented for you).\n",
        "\n",
        "But generally, whenever performing a matrix multiplication and the shapes of two matrices don't line up, you will transpose (not reshape) one of them in order to line them up."
      ],
      "metadata": {
        "id": "rqpNRQvzKt9h"
      }
    },
    {
      "cell_type": "markdown",
      "source": [
        "#### Matrix multiplication tidbits\n",
        "\n",
        "If we transposed Y, it would be represented as $\\mathbf{Y}^\\mathsf{T}$ (note the capital T for tranpose).\n",
        "\n",
        "Get an illustrative view of matrix multiplication by Math is Fun.\n",
        "https://www.mathsisfun.com/algebra/matrix-multiplying.html\n",
        "\n",
        "Try a hands-on demo of matrix multiplcation: http://matrixmultiplication.xyz/ (shown below)."
      ],
      "metadata": {
        "id": "JfNuIF69KwbM"
      }
    },
    {
      "cell_type": "markdown",
      "source": [
        "#### Changing the datatype of a tensor\n",
        "\n",
        "This is common when you want to compute using less precision (e.g. 16-bit floating point numbers vs. 32-bit floating point numbers).\n",
        "\n",
        "Computing with less precision is useful on devices with less computing capacity such as mobile devices (because the less bits, the less space the computations require).\n",
        "\n",
        "You can change the datatype of a tensor using tf.cast()."
      ],
      "metadata": {
        "id": "zUElXKRCLGxt"
      }
    },
    {
      "cell_type": "code",
      "source": [
        "# Create a new tensor with default datatype (float32)\n",
        "B = tf.constant([1.7, 7.4])\n",
        "\n",
        "# Create a new tensor with default datatype (int32)\n",
        "C = tf.constant([1, 7])\n",
        "B, C"
      ],
      "metadata": {
        "colab": {
          "base_uri": "https://localhost:8080/"
        },
        "id": "GxlRySoiKrec",
        "outputId": "e06e7958-69ca-4b68-de3e-b6696613e9b8"
      },
      "execution_count": 54,
      "outputs": [
        {
          "output_type": "execute_result",
          "data": {
            "text/plain": [
              "(<tf.Tensor: shape=(2,), dtype=float32, numpy=array([1.7, 7.4], dtype=float32)>,\n",
              " <tf.Tensor: shape=(2,), dtype=int32, numpy=array([1, 7], dtype=int32)>)"
            ]
          },
          "metadata": {},
          "execution_count": 54
        }
      ]
    },
    {
      "cell_type": "code",
      "source": [
        "# Change from float32 to float16 (reduced precision)\n",
        "B = tf.cast(B, dtype=tf.float16)\n",
        "B"
      ],
      "metadata": {
        "colab": {
          "base_uri": "https://localhost:8080/"
        },
        "id": "Z_IZtifULOI1",
        "outputId": "cdf79140-4a74-4ace-a1b6-56f487f511d2"
      },
      "execution_count": 55,
      "outputs": [
        {
          "output_type": "execute_result",
          "data": {
            "text/plain": [
              "<tf.Tensor: shape=(2,), dtype=float16, numpy=array([1.7, 7.4], dtype=float16)>"
            ]
          },
          "metadata": {},
          "execution_count": 55
        }
      ]
    },
    {
      "cell_type": "code",
      "source": [
        "# Change from int32 to float32\n",
        "C = tf.cast(C, dtype=tf.float32)\n",
        "C"
      ],
      "metadata": {
        "colab": {
          "base_uri": "https://localhost:8080/"
        },
        "id": "BE-vOop6LQDg",
        "outputId": "7b8b801c-cd55-4207-f9e1-ace86231ef7c"
      },
      "execution_count": 56,
      "outputs": [
        {
          "output_type": "execute_result",
          "data": {
            "text/plain": [
              "<tf.Tensor: shape=(2,), dtype=float32, numpy=array([1., 7.], dtype=float32)>"
            ]
          },
          "metadata": {},
          "execution_count": 56
        }
      ]
    },
    {
      "cell_type": "markdown",
      "source": [
        "#### Getting the absolute value"
      ],
      "metadata": {
        "id": "u3LrAk9aLRWI"
      }
    },
    {
      "cell_type": "code",
      "source": [
        "# Create tensor with negative values\n",
        "D = tf.constant([-7, -10])\n",
        "D"
      ],
      "metadata": {
        "colab": {
          "base_uri": "https://localhost:8080/"
        },
        "id": "IiPveunGLU5B",
        "outputId": "c2653d6f-d6bd-4db0-ef03-90c80da9fc91"
      },
      "execution_count": 57,
      "outputs": [
        {
          "output_type": "execute_result",
          "data": {
            "text/plain": [
              "<tf.Tensor: shape=(2,), dtype=int32, numpy=array([ -7, -10], dtype=int32)>"
            ]
          },
          "metadata": {},
          "execution_count": 57
        }
      ]
    },
    {
      "cell_type": "code",
      "source": [
        "# Get the absolute values\n",
        "tf.abs(D)"
      ],
      "metadata": {
        "colab": {
          "base_uri": "https://localhost:8080/"
        },
        "id": "1itXScQiLVYf",
        "outputId": "2b341cdf-1dfd-4882-cfb7-0891c4fa4ef3"
      },
      "execution_count": 58,
      "outputs": [
        {
          "output_type": "execute_result",
          "data": {
            "text/plain": [
              "<tf.Tensor: shape=(2,), dtype=int32, numpy=array([ 7, 10], dtype=int32)>"
            ]
          },
          "metadata": {},
          "execution_count": 58
        }
      ]
    },
    {
      "cell_type": "markdown",
      "source": [
        "#### Finding the min, max, mean, sum (aggregation)\n",
        "\n",
        "You can quickly aggregate (perform a calculation on a whole tensor) tensors to find things like the minimum value, maximum value, mean and sum of all the elements.\n",
        "\n",
        "To do so, aggregation methods typically have the syntax reduce()_[action], such as:\n",
        "\n",
        "tf.reduce_min() - find the minimum value in a tensor.\n",
        "\n",
        "tf.reduce_max() - find the maximum value in a tensor (helpful for when you want to find the highest prediction probability).\n",
        "\n",
        "tf.reduce_mean() - find the mean of all elements in a tensor.\n",
        "\n",
        "tf.reduce_sum() - find the sum of all elements in a tensor.\n",
        "\n",
        "Note: typically, each of these is under the math module, e.g. tf.math.reduce_min() but you can use the alias tf.reduce_min()."
      ],
      "metadata": {
        "id": "pbvWNnyVLXKX"
      }
    },
    {
      "cell_type": "code",
      "source": [
        "# Create a tensor with 50 random values between 0 and 100\n",
        "E = tf.constant(np.random.randint(low=0, high=100, size=50))\n",
        "E"
      ],
      "metadata": {
        "colab": {
          "base_uri": "https://localhost:8080/"
        },
        "id": "s51ZPNamLY4L",
        "outputId": "b5ba3781-3d68-4030-d985-120132a438ce"
      },
      "execution_count": 59,
      "outputs": [
        {
          "output_type": "execute_result",
          "data": {
            "text/plain": [
              "<tf.Tensor: shape=(50,), dtype=int64, numpy=\n",
              "array([80, 18, 95, 55, 18, 15, 44, 43, 97, 44, 48, 59, 71, 86, 15, 25,  9,\n",
              "       54, 76, 64, 56, 89, 78, 79, 64, 81, 34, 42, 21, 31, 24, 42, 49, 35,\n",
              "       77, 46,  3, 50, 81, 30, 13, 35, 21, 37, 12, 72, 90,  7, 85,  5])>"
            ]
          },
          "metadata": {},
          "execution_count": 59
        }
      ]
    },
    {
      "cell_type": "code",
      "source": [
        "# Find the minimum\n",
        "tf.reduce_min(E)"
      ],
      "metadata": {
        "colab": {
          "base_uri": "https://localhost:8080/"
        },
        "id": "nAQq3NanLmPW",
        "outputId": "4af3552c-d55e-4f5f-e317-2087b0a42829"
      },
      "execution_count": 60,
      "outputs": [
        {
          "output_type": "execute_result",
          "data": {
            "text/plain": [
              "<tf.Tensor: shape=(), dtype=int64, numpy=3>"
            ]
          },
          "metadata": {},
          "execution_count": 60
        }
      ]
    },
    {
      "cell_type": "code",
      "source": [
        "# Find the maximum\n",
        "tf.reduce_max(E)"
      ],
      "metadata": {
        "colab": {
          "base_uri": "https://localhost:8080/"
        },
        "id": "81RDep-zLneU",
        "outputId": "3f1149cd-a968-4dd7-dc54-853dc52c5955"
      },
      "execution_count": 61,
      "outputs": [
        {
          "output_type": "execute_result",
          "data": {
            "text/plain": [
              "<tf.Tensor: shape=(), dtype=int64, numpy=97>"
            ]
          },
          "metadata": {},
          "execution_count": 61
        }
      ]
    },
    {
      "cell_type": "code",
      "source": [
        "# Find the mean\n",
        "tf.reduce_mean(E)"
      ],
      "metadata": {
        "colab": {
          "base_uri": "https://localhost:8080/"
        },
        "id": "rLH7TjAeLojx",
        "outputId": "41ef2fbd-a282-4eb3-c53c-a0f47d967598"
      },
      "execution_count": 62,
      "outputs": [
        {
          "output_type": "execute_result",
          "data": {
            "text/plain": [
              "<tf.Tensor: shape=(), dtype=int64, numpy=48>"
            ]
          },
          "metadata": {},
          "execution_count": 62
        }
      ]
    },
    {
      "cell_type": "code",
      "source": [
        "# Find the sum\n",
        "tf.reduce_sum(E)"
      ],
      "metadata": {
        "colab": {
          "base_uri": "https://localhost:8080/"
        },
        "id": "tk1incgyLpvu",
        "outputId": "8055a473-01f8-4d54-d8cc-46076677ca96"
      },
      "execution_count": 63,
      "outputs": [
        {
          "output_type": "execute_result",
          "data": {
            "text/plain": [
              "<tf.Tensor: shape=(), dtype=int64, numpy=2405>"
            ]
          },
          "metadata": {},
          "execution_count": 63
        }
      ]
    },
    {
      "cell_type": "markdown",
      "source": [
        "You can also find the standard deviation (tf.reduce_std()) and variance (tf.reduce_variance()) of elements in a tensor using similar methods."
      ],
      "metadata": {
        "id": "vUnYwTjILuvZ"
      }
    },
    {
      "cell_type": "markdown",
      "source": [
        "#### Finding the positional maximum and minimum\n",
        "\n",
        "How about finding the position a tensor where the maximum value occurs?\n",
        "\n",
        "This is helpful when you want to line up your labels (say ['Green', 'Blue', 'Red']) with your prediction probabilities tensor (e.g. [0.98, 0.01, 0.01]).\n",
        "\n",
        "In this case, the predicted label (the one with the highest prediction probability) would be 'Green'.\n",
        "\n",
        "You can do the same for the minimum (if required) with the following:\n",
        "\n",
        "tf.argmax() - find the position of the maximum element in a given tensor.\n",
        "\n",
        "tf.argmin() - find the position of the minimum element in a given tensor."
      ],
      "metadata": {
        "id": "TiFHwwFvLvQl"
      }
    },
    {
      "cell_type": "code",
      "source": [
        "# Create a tensor with 50 values between 0 and 1\n",
        "F = tf.constant(np.random.random(50))\n",
        "F"
      ],
      "metadata": {
        "colab": {
          "base_uri": "https://localhost:8080/"
        },
        "id": "9RsNIxtFLyPr",
        "outputId": "b3363681-ec6f-4bb1-d1c5-b7fbfeb7c835"
      },
      "execution_count": 64,
      "outputs": [
        {
          "output_type": "execute_result",
          "data": {
            "text/plain": [
              "<tf.Tensor: shape=(50,), dtype=float64, numpy=\n",
              "array([0.32265157, 0.09136367, 0.5298547 , 0.1859923 , 0.49205988,\n",
              "       0.510335  , 0.43265911, 0.16836781, 0.5556558 , 0.86133769,\n",
              "       0.79757138, 0.54936265, 0.01562256, 0.39885997, 0.18105719,\n",
              "       0.57534604, 0.97710686, 0.24632558, 0.52778086, 0.32718354,\n",
              "       0.364287  , 0.83152053, 0.21267721, 0.7070819 , 0.38170613,\n",
              "       0.2129976 , 0.82059925, 0.55725071, 0.65862737, 0.55468066,\n",
              "       0.99217375, 0.61458924, 0.40062313, 0.68530568, 0.89365651,\n",
              "       0.91254427, 0.61182551, 0.82669399, 0.81633418, 0.50308019,\n",
              "       0.85101026, 0.5606311 , 0.2413135 , 0.63248015, 0.30292425,\n",
              "       0.06527656, 0.63357761, 0.19056369, 0.88026335, 0.23412648])>"
            ]
          },
          "metadata": {},
          "execution_count": 64
        }
      ]
    },
    {
      "cell_type": "code",
      "source": [
        "# Find the maximum element position of F\n",
        "tf.argmax(F)"
      ],
      "metadata": {
        "colab": {
          "base_uri": "https://localhost:8080/"
        },
        "id": "FJ1GXS3pL45b",
        "outputId": "d6066a03-fedc-4a1a-80cf-7bdee6798d83"
      },
      "execution_count": 65,
      "outputs": [
        {
          "output_type": "execute_result",
          "data": {
            "text/plain": [
              "<tf.Tensor: shape=(), dtype=int64, numpy=30>"
            ]
          },
          "metadata": {},
          "execution_count": 65
        }
      ]
    },
    {
      "cell_type": "code",
      "source": [
        "# Find the minimum element position of F\n",
        "tf.argmin(F)"
      ],
      "metadata": {
        "colab": {
          "base_uri": "https://localhost:8080/"
        },
        "id": "wTx-JXiaL8i4",
        "outputId": "5468b2ab-da58-44e0-e655-b1d2be0c7c64"
      },
      "execution_count": 66,
      "outputs": [
        {
          "output_type": "execute_result",
          "data": {
            "text/plain": [
              "<tf.Tensor: shape=(), dtype=int64, numpy=12>"
            ]
          },
          "metadata": {},
          "execution_count": 66
        }
      ]
    },
    {
      "cell_type": "code",
      "source": [
        "# Find the maximum element position of F\n",
        "print(f\"The maximum value of F is at position: {tf.argmax(F).numpy()}\") \n",
        "print(f\"The maximum value of F is: {tf.reduce_max(F).numpy()}\") \n",
        "print(f\"Using tf.argmax() to index F, the maximum value of F is: {F[tf.argmax(F)].numpy()}\")\n",
        "print(f\"Are the two max values the same (they should be)? {F[tf.argmax(F)].numpy() == tf.reduce_max(F).numpy()}\")"
      ],
      "metadata": {
        "colab": {
          "base_uri": "https://localhost:8080/"
        },
        "id": "zr1lj3DhL-dq",
        "outputId": "4852d5f6-abfb-4b6d-84c8-1b6651ca0c33"
      },
      "execution_count": 67,
      "outputs": [
        {
          "output_type": "stream",
          "name": "stdout",
          "text": [
            "The maximum value of F is at position: 30\n",
            "The maximum value of F is: 0.9921737527652803\n",
            "Using tf.argmax() to index F, the maximum value of F is: 0.9921737527652803\n",
            "Are the two max values the same (they should be)? True\n"
          ]
        }
      ]
    },
    {
      "cell_type": "markdown",
      "source": [
        "#### Squeezing a tensor (removing all single dimensions)\n",
        "\n",
        "f you need to remove single-dimensions from a tensor (dimensions with size 1), you can use tf.squeeze().\n",
        "\n",
        "tf.squeeze() - remove all dimensions of 1 from a tensor."
      ],
      "metadata": {
        "id": "6zyK0U5FMFqx"
      }
    },
    {
      "cell_type": "code",
      "source": [
        "# Create a rank 5 (5 dimensions) tensor of 50 numbers between 0 and 100\n",
        "G = tf.constant(np.random.randint(0, 100, 50), shape=(1, 1, 1, 1, 50))\n",
        "G.shape, G.ndim"
      ],
      "metadata": {
        "colab": {
          "base_uri": "https://localhost:8080/"
        },
        "id": "3v1S0L8WMKAA",
        "outputId": "0d1f503c-3505-4399-9644-c2d898f06c02"
      },
      "execution_count": 68,
      "outputs": [
        {
          "output_type": "execute_result",
          "data": {
            "text/plain": [
              "(TensorShape([1, 1, 1, 1, 50]), 5)"
            ]
          },
          "metadata": {},
          "execution_count": 68
        }
      ]
    },
    {
      "cell_type": "code",
      "source": [
        "# Squeeze tensor G (remove all 1 dimensions)\n",
        "G_squeezed = tf.squeeze(G)\n",
        "G_squeezed.shape, G_squeezed.ndim"
      ],
      "metadata": {
        "colab": {
          "base_uri": "https://localhost:8080/"
        },
        "id": "NwuJ_lmRMLGK",
        "outputId": "be6edb23-bd61-47ba-9fbf-5b7f73bb26e4"
      },
      "execution_count": 69,
      "outputs": [
        {
          "output_type": "execute_result",
          "data": {
            "text/plain": [
              "(TensorShape([50]), 1)"
            ]
          },
          "metadata": {},
          "execution_count": 69
        }
      ]
    },
    {
      "cell_type": "markdown",
      "source": [
        "#### One-hot encoding\n",
        "\n",
        "If you have a tensor of indicies and would like to one-hot encode it, you can use tf.one_hot().\n",
        "\n",
        "You should also specify the depth parameter (the level which you want to one-hot encode to)."
      ],
      "metadata": {
        "id": "XKnqVzusMMha"
      }
    },
    {
      "cell_type": "code",
      "source": [
        "# Create a list of indices\n",
        "some_list = [0, 1, 2, 3]\n",
        "\n",
        "# One hot encode them\n",
        "tf.one_hot(some_list, depth=4)"
      ],
      "metadata": {
        "colab": {
          "base_uri": "https://localhost:8080/"
        },
        "id": "fQIwYMkiMOEB",
        "outputId": "8048b4b9-3fe8-487b-8697-e1f55a4cbac2"
      },
      "execution_count": 70,
      "outputs": [
        {
          "output_type": "execute_result",
          "data": {
            "text/plain": [
              "<tf.Tensor: shape=(4, 4), dtype=float32, numpy=\n",
              "array([[1., 0., 0., 0.],\n",
              "       [0., 1., 0., 0.],\n",
              "       [0., 0., 1., 0.],\n",
              "       [0., 0., 0., 1.]], dtype=float32)>"
            ]
          },
          "metadata": {},
          "execution_count": 70
        }
      ]
    },
    {
      "cell_type": "markdown",
      "source": [
        "You can also specify values for on_value and off_value instead of the default 0 and 1."
      ],
      "metadata": {
        "id": "FynRdngyMX4u"
      }
    },
    {
      "cell_type": "code",
      "source": [
        "# Specify custom values for on and off encoding\n",
        "tf.one_hot(some_list, depth=4, on_value=\"We're live!\", off_value=\"Offline\")"
      ],
      "metadata": {
        "colab": {
          "base_uri": "https://localhost:8080/"
        },
        "id": "fDNfszByMY9L",
        "outputId": "493ea182-347f-4c8d-c9cf-a7355767eb79"
      },
      "execution_count": 71,
      "outputs": [
        {
          "output_type": "execute_result",
          "data": {
            "text/plain": [
              "<tf.Tensor: shape=(4, 4), dtype=string, numpy=\n",
              "array([[b\"We're live!\", b'Offline', b'Offline', b'Offline'],\n",
              "       [b'Offline', b\"We're live!\", b'Offline', b'Offline'],\n",
              "       [b'Offline', b'Offline', b\"We're live!\", b'Offline'],\n",
              "       [b'Offline', b'Offline', b'Offline', b\"We're live!\"]], dtype=object)>"
            ]
          },
          "metadata": {},
          "execution_count": 71
        }
      ]
    },
    {
      "cell_type": "markdown",
      "source": [
        "#### Squaring, log, square root\n",
        "\n",
        "Many other common mathematical operations you'd like to perform at some stage, probably exist.\n",
        "\n",
        "Let's take a look at:\n",
        "\n",
        "tf.square() - get the square of every value in a tensor.\n",
        "\n",
        "tf.sqrt() - get the squareroot of every value in a tensor (note: the elements need to be floats or this will error).\n",
        "\n",
        "tf.math.log() - get the natural log of every value in a tensor (elements need to floats)."
      ],
      "metadata": {
        "id": "V6NW0HjFMbSM"
      }
    },
    {
      "cell_type": "code",
      "source": [
        "# Create a new tensor\n",
        "H = tf.constant(np.arange(1, 10))\n",
        "H"
      ],
      "metadata": {
        "colab": {
          "base_uri": "https://localhost:8080/"
        },
        "id": "YThdn_88Mo09",
        "outputId": "f3e953e0-b3b3-4ba9-ed8d-687b1998e26e"
      },
      "execution_count": 72,
      "outputs": [
        {
          "output_type": "execute_result",
          "data": {
            "text/plain": [
              "<tf.Tensor: shape=(9,), dtype=int64, numpy=array([1, 2, 3, 4, 5, 6, 7, 8, 9])>"
            ]
          },
          "metadata": {},
          "execution_count": 72
        }
      ]
    },
    {
      "cell_type": "code",
      "source": [
        "# Square it\n",
        "tf.square(H)"
      ],
      "metadata": {
        "colab": {
          "base_uri": "https://localhost:8080/"
        },
        "id": "sRgU4kuRMcaE",
        "outputId": "f38944c5-59c1-45c8-e825-e8cf31d986cf"
      },
      "execution_count": 73,
      "outputs": [
        {
          "output_type": "execute_result",
          "data": {
            "text/plain": [
              "<tf.Tensor: shape=(9,), dtype=int64, numpy=array([ 1,  4,  9, 16, 25, 36, 49, 64, 81])>"
            ]
          },
          "metadata": {},
          "execution_count": 73
        }
      ]
    },
    {
      "cell_type": "code",
      "source": [
        "# Find the squareroot (will error), needs to be non-integer\n",
        "tf.sqrt(H)"
      ],
      "metadata": {
        "colab": {
          "base_uri": "https://localhost:8080/",
          "height": 345
        },
        "id": "XI1ZYlsJMtYO",
        "outputId": "749d5e7c-f283-45c1-b225-67a1e256a82d"
      },
      "execution_count": 74,
      "outputs": [
        {
          "output_type": "error",
          "ename": "InvalidArgumentError",
          "evalue": "ignored",
          "traceback": [
            "\u001b[0;31m---------------------------------------------------------------------------\u001b[0m",
            "\u001b[0;31mInvalidArgumentError\u001b[0m                      Traceback (most recent call last)",
            "\u001b[0;32m<ipython-input-74-d7db039da8bb>\u001b[0m in \u001b[0;36m<module>\u001b[0;34m\u001b[0m\n\u001b[1;32m      1\u001b[0m \u001b[0;31m# Find the squareroot (will error), needs to be non-integer\u001b[0m\u001b[0;34m\u001b[0m\u001b[0;34m\u001b[0m\u001b[0;34m\u001b[0m\u001b[0m\n\u001b[0;32m----> 2\u001b[0;31m \u001b[0mtf\u001b[0m\u001b[0;34m.\u001b[0m\u001b[0msqrt\u001b[0m\u001b[0;34m(\u001b[0m\u001b[0mH\u001b[0m\u001b[0;34m)\u001b[0m\u001b[0;34m\u001b[0m\u001b[0;34m\u001b[0m\u001b[0m\n\u001b[0m",
            "\u001b[0;32m/usr/local/lib/python3.8/dist-packages/tensorflow/python/util/traceback_utils.py\u001b[0m in \u001b[0;36merror_handler\u001b[0;34m(*args, **kwargs)\u001b[0m\n\u001b[1;32m    151\u001b[0m     \u001b[0;32mexcept\u001b[0m \u001b[0mException\u001b[0m \u001b[0;32mas\u001b[0m \u001b[0me\u001b[0m\u001b[0;34m:\u001b[0m\u001b[0;34m\u001b[0m\u001b[0;34m\u001b[0m\u001b[0m\n\u001b[1;32m    152\u001b[0m       \u001b[0mfiltered_tb\u001b[0m \u001b[0;34m=\u001b[0m \u001b[0m_process_traceback_frames\u001b[0m\u001b[0;34m(\u001b[0m\u001b[0me\u001b[0m\u001b[0;34m.\u001b[0m\u001b[0m__traceback__\u001b[0m\u001b[0;34m)\u001b[0m\u001b[0;34m\u001b[0m\u001b[0;34m\u001b[0m\u001b[0m\n\u001b[0;32m--> 153\u001b[0;31m       \u001b[0;32mraise\u001b[0m \u001b[0me\u001b[0m\u001b[0;34m.\u001b[0m\u001b[0mwith_traceback\u001b[0m\u001b[0;34m(\u001b[0m\u001b[0mfiltered_tb\u001b[0m\u001b[0;34m)\u001b[0m \u001b[0;32mfrom\u001b[0m \u001b[0;32mNone\u001b[0m\u001b[0;34m\u001b[0m\u001b[0;34m\u001b[0m\u001b[0m\n\u001b[0m\u001b[1;32m    154\u001b[0m     \u001b[0;32mfinally\u001b[0m\u001b[0;34m:\u001b[0m\u001b[0;34m\u001b[0m\u001b[0;34m\u001b[0m\u001b[0m\n\u001b[1;32m    155\u001b[0m       \u001b[0;32mdel\u001b[0m \u001b[0mfiltered_tb\u001b[0m\u001b[0;34m\u001b[0m\u001b[0;34m\u001b[0m\u001b[0m\n",
            "\u001b[0;32m/usr/local/lib/python3.8/dist-packages/tensorflow/python/framework/ops.py\u001b[0m in \u001b[0;36mraise_from_not_ok_status\u001b[0;34m(e, name)\u001b[0m\n\u001b[1;32m   7162\u001b[0m \u001b[0;32mdef\u001b[0m \u001b[0mraise_from_not_ok_status\u001b[0m\u001b[0;34m(\u001b[0m\u001b[0me\u001b[0m\u001b[0;34m,\u001b[0m \u001b[0mname\u001b[0m\u001b[0;34m)\u001b[0m\u001b[0;34m:\u001b[0m\u001b[0;34m\u001b[0m\u001b[0;34m\u001b[0m\u001b[0m\n\u001b[1;32m   7163\u001b[0m   \u001b[0me\u001b[0m\u001b[0;34m.\u001b[0m\u001b[0mmessage\u001b[0m \u001b[0;34m+=\u001b[0m \u001b[0;34m(\u001b[0m\u001b[0;34m\" name: \"\u001b[0m \u001b[0;34m+\u001b[0m \u001b[0mname\u001b[0m \u001b[0;32mif\u001b[0m \u001b[0mname\u001b[0m \u001b[0;32mis\u001b[0m \u001b[0;32mnot\u001b[0m \u001b[0;32mNone\u001b[0m \u001b[0;32melse\u001b[0m \u001b[0;34m\"\"\u001b[0m\u001b[0;34m)\u001b[0m\u001b[0;34m\u001b[0m\u001b[0;34m\u001b[0m\u001b[0m\n\u001b[0;32m-> 7164\u001b[0;31m   \u001b[0;32mraise\u001b[0m \u001b[0mcore\u001b[0m\u001b[0;34m.\u001b[0m\u001b[0m_status_to_exception\u001b[0m\u001b[0;34m(\u001b[0m\u001b[0me\u001b[0m\u001b[0;34m)\u001b[0m \u001b[0;32mfrom\u001b[0m \u001b[0;32mNone\u001b[0m  \u001b[0;31m# pylint: disable=protected-access\u001b[0m\u001b[0;34m\u001b[0m\u001b[0;34m\u001b[0m\u001b[0m\n\u001b[0m\u001b[1;32m   7165\u001b[0m \u001b[0;34m\u001b[0m\u001b[0m\n\u001b[1;32m   7166\u001b[0m \u001b[0;34m\u001b[0m\u001b[0m\n",
            "\u001b[0;31mInvalidArgumentError\u001b[0m: Value for attr 'T' of int64 is not in the list of allowed values: bfloat16, half, float, double, complex64, complex128\n\t; NodeDef: {{node Sqrt}}; Op<name=Sqrt; signature=x:T -> y:T; attr=T:type,allowed=[DT_BFLOAT16, DT_HALF, DT_FLOAT, DT_DOUBLE, DT_COMPLEX64, DT_COMPLEX128]> [Op:Sqrt]"
          ]
        }
      ]
    },
    {
      "cell_type": "code",
      "source": [
        "# Change H to float32\n",
        "H = tf.cast(H, dtype=tf.float32)\n",
        "H"
      ],
      "metadata": {
        "colab": {
          "base_uri": "https://localhost:8080/"
        },
        "id": "tdOXtZl7MxjN",
        "outputId": "b1330a14-c100-4e46-d12c-e121fde4cd58"
      },
      "execution_count": 75,
      "outputs": [
        {
          "output_type": "execute_result",
          "data": {
            "text/plain": [
              "<tf.Tensor: shape=(9,), dtype=float32, numpy=array([1., 2., 3., 4., 5., 6., 7., 8., 9.], dtype=float32)>"
            ]
          },
          "metadata": {},
          "execution_count": 75
        }
      ]
    },
    {
      "cell_type": "code",
      "source": [
        "# Find the square root\n",
        "tf.sqrt(H)"
      ],
      "metadata": {
        "colab": {
          "base_uri": "https://localhost:8080/"
        },
        "id": "k_L01NboMzDs",
        "outputId": "5e920b80-8db3-4353-cf7b-90d6ab67afe4"
      },
      "execution_count": 76,
      "outputs": [
        {
          "output_type": "execute_result",
          "data": {
            "text/plain": [
              "<tf.Tensor: shape=(9,), dtype=float32, numpy=\n",
              "array([1.       , 1.4142135, 1.7320508, 2.       , 2.236068 , 2.4494898,\n",
              "       2.6457512, 2.828427 , 3.       ], dtype=float32)>"
            ]
          },
          "metadata": {},
          "execution_count": 76
        }
      ]
    },
    {
      "cell_type": "code",
      "source": [
        "# Find the log (input also needs to be float)\n",
        "tf.math.log(H)"
      ],
      "metadata": {
        "colab": {
          "base_uri": "https://localhost:8080/"
        },
        "id": "cokGa2f1M0Xn",
        "outputId": "1b6a6e9c-b848-4d03-ab74-5a888cec1bfb"
      },
      "execution_count": 77,
      "outputs": [
        {
          "output_type": "execute_result",
          "data": {
            "text/plain": [
              "<tf.Tensor: shape=(9,), dtype=float32, numpy=\n",
              "array([0.       , 0.6931472, 1.0986123, 1.3862944, 1.609438 , 1.7917595,\n",
              "       1.9459102, 2.0794415, 2.1972246], dtype=float32)>"
            ]
          },
          "metadata": {},
          "execution_count": 77
        }
      ]
    },
    {
      "cell_type": "markdown",
      "source": [
        "#### Manipulating tf.Variable tensors\n",
        "\n",
        "Tensors created with tf.Variable() can be changed in place using methods such as:\n",
        "\n",
        ".assign() - assign a different value to a particular index of a variable tensor.\n",
        "\n",
        ".add_assign() - add to an existing value and reassign it at a particular index of a variable tensor."
      ],
      "metadata": {
        "id": "ELiXiiUOM3Tu"
      }
    },
    {
      "cell_type": "code",
      "source": [
        "# Create a variable tensor\n",
        "I = tf.Variable(np.arange(0, 5))\n",
        "I"
      ],
      "metadata": {
        "colab": {
          "base_uri": "https://localhost:8080/"
        },
        "id": "SQM40aQbM63r",
        "outputId": "e0e2f12d-1184-42de-a82f-6890f152ddbe"
      },
      "execution_count": 78,
      "outputs": [
        {
          "output_type": "execute_result",
          "data": {
            "text/plain": [
              "<tf.Variable 'Variable:0' shape=(5,) dtype=int64, numpy=array([0, 1, 2, 3, 4])>"
            ]
          },
          "metadata": {},
          "execution_count": 78
        }
      ]
    },
    {
      "cell_type": "code",
      "source": [
        "# Assign the final value a new value of 50\n",
        "I.assign([0, 1, 2, 3, 50])"
      ],
      "metadata": {
        "colab": {
          "base_uri": "https://localhost:8080/"
        },
        "id": "Ia7UCkUeM9Vd",
        "outputId": "7565df7b-5693-443c-d358-50d21a7adbdc"
      },
      "execution_count": 79,
      "outputs": [
        {
          "output_type": "execute_result",
          "data": {
            "text/plain": [
              "<tf.Variable 'UnreadVariable' shape=(5,) dtype=int64, numpy=array([ 0,  1,  2,  3, 50])>"
            ]
          },
          "metadata": {},
          "execution_count": 79
        }
      ]
    },
    {
      "cell_type": "code",
      "source": [
        "# The change happens in place (the last value is now 50, not 4)\n",
        "I"
      ],
      "metadata": {
        "colab": {
          "base_uri": "https://localhost:8080/"
        },
        "id": "K2B97bM6NAyh",
        "outputId": "c2e33b8d-e060-4108-cfed-60ee3a25da46"
      },
      "execution_count": 80,
      "outputs": [
        {
          "output_type": "execute_result",
          "data": {
            "text/plain": [
              "<tf.Variable 'Variable:0' shape=(5,) dtype=int64, numpy=array([ 0,  1,  2,  3, 50])>"
            ]
          },
          "metadata": {},
          "execution_count": 80
        }
      ]
    },
    {
      "cell_type": "code",
      "source": [
        "# Add 10 to every element in I\n",
        "I.assign_add([10, 10, 10, 10, 10])"
      ],
      "metadata": {
        "colab": {
          "base_uri": "https://localhost:8080/"
        },
        "id": "XqvRlRc4NC-A",
        "outputId": "3d97a2dd-93a4-4c49-ce36-6b63e038c929"
      },
      "execution_count": 81,
      "outputs": [
        {
          "output_type": "execute_result",
          "data": {
            "text/plain": [
              "<tf.Variable 'UnreadVariable' shape=(5,) dtype=int64, numpy=array([10, 11, 12, 13, 60])>"
            ]
          },
          "metadata": {},
          "execution_count": 81
        }
      ]
    },
    {
      "cell_type": "code",
      "source": [
        "# Again, the change happens in place\n",
        "I"
      ],
      "metadata": {
        "colab": {
          "base_uri": "https://localhost:8080/"
        },
        "id": "m3j2fBYENFB5",
        "outputId": "c1d88672-a793-4850-ac46-06e9f1de9a64"
      },
      "execution_count": 82,
      "outputs": [
        {
          "output_type": "execute_result",
          "data": {
            "text/plain": [
              "<tf.Variable 'Variable:0' shape=(5,) dtype=int64, numpy=array([10, 11, 12, 13, 60])>"
            ]
          },
          "metadata": {},
          "execution_count": 82
        }
      ]
    },
    {
      "cell_type": "markdown",
      "source": [
        "### Tensors and NumPy\n",
        "\n",
        "We've seen some examples of tensors interact with NumPy arrays, such as, using NumPy arrays to create tensors.\n",
        "\n",
        "Tensors can also be converted to NumPy arrays using:\n",
        "\n",
        "np.array() - pass a tensor to convert to an ndarray (NumPy's main datatype).\n",
        "tensor.numpy() - call on a tensor to convert to an ndarray."
      ],
      "metadata": {
        "id": "mMwJ868WNGSq"
      }
    },
    {
      "cell_type": "code",
      "source": [
        "# Create a tensor from a NumPy array\n",
        "J = tf.constant(np.array([3., 7., 10.]))\n",
        "J"
      ],
      "metadata": {
        "colab": {
          "base_uri": "https://localhost:8080/"
        },
        "id": "DKudpRUhNLkp",
        "outputId": "c0811712-2e30-49df-f287-dae8cd7467db"
      },
      "execution_count": 83,
      "outputs": [
        {
          "output_type": "execute_result",
          "data": {
            "text/plain": [
              "<tf.Tensor: shape=(3,), dtype=float64, numpy=array([ 3.,  7., 10.])>"
            ]
          },
          "metadata": {},
          "execution_count": 83
        }
      ]
    },
    {
      "cell_type": "code",
      "source": [
        "# Convert tensor J to NumPy with np.array()\n",
        "np.array(J), type(np.array(J))"
      ],
      "metadata": {
        "colab": {
          "base_uri": "https://localhost:8080/"
        },
        "id": "ncQQ1RWjNN2M",
        "outputId": "ec9d2a71-687f-4c40-c902-04196eb793b6"
      },
      "execution_count": 84,
      "outputs": [
        {
          "output_type": "execute_result",
          "data": {
            "text/plain": [
              "(array([ 3.,  7., 10.]), numpy.ndarray)"
            ]
          },
          "metadata": {},
          "execution_count": 84
        }
      ]
    },
    {
      "cell_type": "code",
      "source": [
        "# Convert tensor J to NumPy with .numpy()\n",
        "J.numpy(), type(J.numpy())"
      ],
      "metadata": {
        "colab": {
          "base_uri": "https://localhost:8080/"
        },
        "id": "CvUn0ClTNPv-",
        "outputId": "bf851ac4-58ad-4d03-a389-9ae2ccb6b712"
      },
      "execution_count": 85,
      "outputs": [
        {
          "output_type": "execute_result",
          "data": {
            "text/plain": [
              "(array([ 3.,  7., 10.]), numpy.ndarray)"
            ]
          },
          "metadata": {},
          "execution_count": 85
        }
      ]
    },
    {
      "cell_type": "markdown",
      "source": [
        "By default tensors have dtype=float32, where as NumPy arrays have dtype=float64.\n",
        "\n",
        "This is because neural networks (which are usually built with TensorFlow) can generally work very well with less precision (32-bit rather than 64-bit)."
      ],
      "metadata": {
        "id": "oBiCQUjyNRLE"
      }
    },
    {
      "cell_type": "code",
      "source": [
        "# Create a tensor from NumPy and from an array\n",
        "numpy_J = tf.constant(np.array([3., 7., 10.])) # will be float64 (due to NumPy)\n",
        "tensor_J = tf.constant([3., 7., 10.]) # will be float32 (due to being TensorFlow default)\n",
        "numpy_J.dtype, tensor_J.dtype"
      ],
      "metadata": {
        "colab": {
          "base_uri": "https://localhost:8080/"
        },
        "id": "9mPfvlZKNSsc",
        "outputId": "ff06b086-90aa-4db7-a956-75a54b95f742"
      },
      "execution_count": 86,
      "outputs": [
        {
          "output_type": "execute_result",
          "data": {
            "text/plain": [
              "(tf.float64, tf.float32)"
            ]
          },
          "metadata": {},
          "execution_count": 86
        }
      ]
    },
    {
      "cell_type": "markdown",
      "source": [
        "### Using @tf.function\n",
        "\n",
        "In your TensorFlow adventures, you might come across Python functions which have the decorator @tf.function.\n",
        "\n",
        "If you aren't sure what Python decorators do, read RealPython's guide on them. https://realpython.com/primer-on-python-decorators/\n",
        "\n",
        "But in short, decorators modify a function in one way or another.\n",
        "\n",
        "In the @tf.function decorator case, it turns a Python function into a callable TensorFlow graph. Which is a fancy way of saying, if you've written your own Python function, and you decorate it with @tf.function, when you export your code (to potentially run on another device), TensorFlow will attempt to convert it into a fast(er) version of itself (by making it part of a computation graph).\n",
        "\n",
        "For more on this, read the Better performnace with tf.function guide. https://www.tensorflow.org/guide/function"
      ],
      "metadata": {
        "id": "aasi728gNWqX"
      }
    },
    {
      "cell_type": "code",
      "source": [
        "# Create a simple function\n",
        "def function(x, y):\n",
        "  return x ** 2 + y\n",
        "\n",
        "x = tf.constant(np.arange(0, 10))\n",
        "y = tf.constant(np.arange(10, 20))\n",
        "function(x, y)"
      ],
      "metadata": {
        "colab": {
          "base_uri": "https://localhost:8080/"
        },
        "id": "62jeyhZINbmB",
        "outputId": "aa9390a3-600b-4c27-a98f-c45024264252"
      },
      "execution_count": 87,
      "outputs": [
        {
          "output_type": "execute_result",
          "data": {
            "text/plain": [
              "<tf.Tensor: shape=(10,), dtype=int64, numpy=array([ 10,  12,  16,  22,  30,  40,  52,  66,  82, 100])>"
            ]
          },
          "metadata": {},
          "execution_count": 87
        }
      ]
    },
    {
      "cell_type": "code",
      "source": [
        "# Create the same function and decorate it with tf.function\n",
        "@tf.function\n",
        "def tf_function(x, y):\n",
        "  return x ** 2 + y\n",
        "\n",
        "tf_function(x, y)"
      ],
      "metadata": {
        "colab": {
          "base_uri": "https://localhost:8080/"
        },
        "id": "fHRdM4WuNqMm",
        "outputId": "68581285-f248-4a2a-f8e1-b9ce42b59563"
      },
      "execution_count": 88,
      "outputs": [
        {
          "output_type": "execute_result",
          "data": {
            "text/plain": [
              "<tf.Tensor: shape=(10,), dtype=int64, numpy=array([ 10,  12,  16,  22,  30,  40,  52,  66,  82, 100])>"
            ]
          },
          "metadata": {},
          "execution_count": 88
        }
      ]
    },
    {
      "cell_type": "markdown",
      "source": [
        "If you noticed no difference between the above two functions (the decorated one and the non-decorated one) you'd be right.\n",
        "\n",
        "Much of the difference happens behind the scenes. One of the main ones being potential code speed-ups where possible."
      ],
      "metadata": {
        "id": "INlJIDbZNoii"
      }
    },
    {
      "cell_type": "markdown",
      "source": [
        "### Finding access to GPUs"
      ],
      "metadata": {
        "id": "fAWLpFoKNutX"
      }
    },
    {
      "cell_type": "code",
      "source": [
        "print(tf.config.list_physical_devices('GPU'))"
      ],
      "metadata": {
        "colab": {
          "base_uri": "https://localhost:8080/"
        },
        "id": "AwCJpy0XNvwg",
        "outputId": "881b26fe-d18e-4e81-daa9-a4cfc520f960"
      },
      "execution_count": 89,
      "outputs": [
        {
          "output_type": "stream",
          "name": "stdout",
          "text": [
            "[]\n"
          ]
        }
      ]
    },
    {
      "cell_type": "markdown",
      "source": [
        "If the above outputs an empty array (or nothing), it means you don't have access to a GPU (or at least TensorFlow can't find it).\n",
        "\n",
        "If you're running in Google Colab, you can access a GPU by going to Runtime -> Change Runtime Type -> Select GPU (note: after doing this your notebook will restart and any variables you've saved will be lost)."
      ],
      "metadata": {
        "id": "uhvApJRJN0Hb"
      }
    },
    {
      "cell_type": "code",
      "source": [
        "import tensorflow as tf\n",
        "print(tf.config.list_physical_devices('GPU'))"
      ],
      "metadata": {
        "colab": {
          "base_uri": "https://localhost:8080/"
        },
        "id": "80nVmYT9N0zi",
        "outputId": "8c7dbc16-56ad-4927-869d-d6b37ab0be7b"
      },
      "execution_count": 1,
      "outputs": [
        {
          "output_type": "stream",
          "name": "stdout",
          "text": [
            "[PhysicalDevice(name='/physical_device:GPU:0', device_type='GPU')]\n"
          ]
        }
      ]
    },
    {
      "cell_type": "code",
      "source": [
        "!nvidia-smi"
      ],
      "metadata": {
        "colab": {
          "base_uri": "https://localhost:8080/"
        },
        "id": "oGSyhc7oN9HN",
        "outputId": "18a98d4b-55a2-459d-8b7c-9e21ff181968"
      },
      "execution_count": 2,
      "outputs": [
        {
          "output_type": "stream",
          "name": "stdout",
          "text": [
            "Mon Dec 19 02:30:28 2022       \n",
            "+-----------------------------------------------------------------------------+\n",
            "| NVIDIA-SMI 460.32.03    Driver Version: 460.32.03    CUDA Version: 11.2     |\n",
            "|-------------------------------+----------------------+----------------------+\n",
            "| GPU  Name        Persistence-M| Bus-Id        Disp.A | Volatile Uncorr. ECC |\n",
            "| Fan  Temp  Perf  Pwr:Usage/Cap|         Memory-Usage | GPU-Util  Compute M. |\n",
            "|                               |                      |               MIG M. |\n",
            "|===============================+======================+======================|\n",
            "|   0  Tesla T4            Off  | 00000000:00:04.0 Off |                    0 |\n",
            "| N/A   67C    P0    29W /  70W |      3MiB / 15109MiB |      0%      Default |\n",
            "|                               |                      |                  N/A |\n",
            "+-------------------------------+----------------------+----------------------+\n",
            "                                                                               \n",
            "+-----------------------------------------------------------------------------+\n",
            "| Processes:                                                                  |\n",
            "|  GPU   GI   CI        PID   Type   Process name                  GPU Memory |\n",
            "|        ID   ID                                                   Usage      |\n",
            "|=============================================================================|\n",
            "|  No running processes found                                                 |\n",
            "+-----------------------------------------------------------------------------+\n"
          ]
        }
      ]
    }
  ]
}